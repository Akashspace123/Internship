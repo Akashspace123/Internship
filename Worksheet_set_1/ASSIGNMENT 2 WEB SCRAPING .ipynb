{
 "cells": [
  {
   "cell_type": "markdown",
   "id": "70ae5157",
   "metadata": {},
   "source": [
    "# Q1: Write a python program to scrape data for “Data Analyst” Job position in “Bangalore” location. You have to scrape the job-title, job-location, company_name, experience_required. You have to scrape first 10 jobs data.\n",
    "\n"
   ]
  },
  {
   "cell_type": "code",
   "execution_count": 1,
   "id": "20137a5f",
   "metadata": {},
   "outputs": [],
   "source": [
    "import selenium \n",
    "from selenium import webdriver\n",
    "import pandas as pd\n",
    "import warnings\n",
    "warnings.filterwarnings(\"ignore\")\n",
    "import time                 "
   ]
  },
  {
   "cell_type": "code",
   "execution_count": 2,
   "id": "2be3474d",
   "metadata": {},
   "outputs": [],
   "source": [
    "driver=webdriver.Chrome(r\"C:\\Users\\ABC\\chromedriver.exe\")"
   ]
  },
  {
   "cell_type": "code",
   "execution_count": 3,
   "id": "995e5781",
   "metadata": {},
   "outputs": [],
   "source": [
    "driver.get(\" https://www.naukri.com/\")"
   ]
  },
  {
   "cell_type": "code",
   "execution_count": 4,
   "id": "8f81aff4",
   "metadata": {},
   "outputs": [],
   "source": [
    "search_designation=driver.find_element_by_class_name(\"suggestor-input\")\n",
    "search_designation.send_keys('Data Analyst')"
   ]
  },
  {
   "cell_type": "code",
   "execution_count": 5,
   "id": "560daa8c",
   "metadata": {},
   "outputs": [],
   "source": [
    "search_location=driver.find_element_by_xpath('/html/body/div/div[2]/div[3]/div/div/div[3]/div/div/div/input')\n",
    "search_location.send_keys(\"Bangalore\")"
   ]
  },
  {
   "cell_type": "code",
   "execution_count": 6,
   "id": "ecc232e7",
   "metadata": {},
   "outputs": [],
   "source": [
    "search_button=driver.find_element_by_class_name(\"qsbSubmit\")\n",
    "search_button.click()"
   ]
  },
  {
   "cell_type": "code",
   "execution_count": 7,
   "id": "cfa00eed",
   "metadata": {},
   "outputs": [],
   "source": [
    "job_title=[]\n",
    "job_location=[]\n",
    "company_name=[]\n",
    "experience_required=[]"
   ]
  },
  {
   "cell_type": "code",
   "execution_count": 8,
   "id": "5dacc0d3",
   "metadata": {},
   "outputs": [],
   "source": [
    "jt=driver.find_elements_by_xpath(\"//a[@class='title fw500 ellipsis']\")\n",
    "for i in jt:\n",
    "    jt=i.text\n",
    "    job_title.append(jt)"
   ]
  },
  {
   "cell_type": "code",
   "execution_count": 9,
   "id": "07041f5d",
   "metadata": {},
   "outputs": [],
   "source": [
    "jl=driver.find_elements_by_xpath(\"//li[@class='fleft grey-text br2 placeHolderLi location']\")\n",
    "for i in jl:\n",
    "    jl=i.text\n",
    "    job_location.append(jl)"
   ]
  },
  {
   "cell_type": "code",
   "execution_count": 10,
   "id": "463404a5",
   "metadata": {},
   "outputs": [],
   "source": [
    "cn=driver.find_elements_by_xpath(\"//a[@class='subTitle ellipsis fleft']\")\n",
    "for i in cn:\n",
    "    cn=i.text\n",
    "    company_name.append(cn)"
   ]
  },
  {
   "cell_type": "code",
   "execution_count": 11,
   "id": "c893849c",
   "metadata": {},
   "outputs": [],
   "source": [
    "er=driver.find_elements_by_xpath(\"//li[@class='fleft grey-text br2 placeHolderLi experience']\")\n",
    "for i in er:\n",
    "    er=i.text\n",
    "    experience_required.append(er) "
   ]
  },
  {
   "cell_type": "code",
   "execution_count": 12,
   "id": "d94976ff",
   "metadata": {},
   "outputs": [],
   "source": [
    "Data_Analyst=pd.DataFrame({\"job_title\":job_title,\"company_name\":company_name,\"job_location\":job_location,\"experience_required\":experience_required})"
   ]
  },
  {
   "cell_type": "code",
   "execution_count": 13,
   "id": "73b06ca3",
   "metadata": {},
   "outputs": [
    {
     "data": {
      "text/html": [
       "<div>\n",
       "<style scoped>\n",
       "    .dataframe tbody tr th:only-of-type {\n",
       "        vertical-align: middle;\n",
       "    }\n",
       "\n",
       "    .dataframe tbody tr th {\n",
       "        vertical-align: top;\n",
       "    }\n",
       "\n",
       "    .dataframe thead th {\n",
       "        text-align: right;\n",
       "    }\n",
       "</style>\n",
       "<table border=\"1\" class=\"dataframe\">\n",
       "  <thead>\n",
       "    <tr style=\"text-align: right;\">\n",
       "      <th></th>\n",
       "      <th>job_title</th>\n",
       "      <th>company_name</th>\n",
       "      <th>job_location</th>\n",
       "      <th>experience_required</th>\n",
       "    </tr>\n",
       "  </thead>\n",
       "  <tbody>\n",
       "    <tr>\n",
       "      <th>0</th>\n",
       "      <td>Senior Business Analyst - Data Sciences and Ad...</td>\n",
       "      <td>Vmware</td>\n",
       "      <td>Bangalore/Bengaluru</td>\n",
       "      <td>3-7 Yrs</td>\n",
       "    </tr>\n",
       "    <tr>\n",
       "      <th>1</th>\n",
       "      <td>Sr Data Analyst II</td>\n",
       "      <td>IHS Markit</td>\n",
       "      <td>Gurgaon/Gurugram, Bangalore/Bengaluru</td>\n",
       "      <td>3-6 Yrs</td>\n",
       "    </tr>\n",
       "    <tr>\n",
       "      <th>2</th>\n",
       "      <td>Business and Data Analyst</td>\n",
       "      <td>CAREERDOST ENTERPRISE</td>\n",
       "      <td>Bangalore/Bengaluru\\n(WFH during Covid)</td>\n",
       "      <td>0-5 Yrs</td>\n",
       "    </tr>\n",
       "    <tr>\n",
       "      <th>3</th>\n",
       "      <td>Senior Data Analyst</td>\n",
       "      <td>Capco</td>\n",
       "      <td>Pune, Gurgaon/Gurugram, Chennai, Bangalore/Ben...</td>\n",
       "      <td>7-12 Yrs</td>\n",
       "    </tr>\n",
       "    <tr>\n",
       "      <th>4</th>\n",
       "      <td>Senior Data Analyst</td>\n",
       "      <td>Gsn Games India</td>\n",
       "      <td>Bangalore/Bengaluru</td>\n",
       "      <td>3-7 Yrs</td>\n",
       "    </tr>\n",
       "    <tr>\n",
       "      <th>5</th>\n",
       "      <td>Jr . Data Analyst</td>\n",
       "      <td>Armorblox</td>\n",
       "      <td>Bangalore/Bengaluru</td>\n",
       "      <td>0-2 Yrs</td>\n",
       "    </tr>\n",
       "    <tr>\n",
       "      <th>6</th>\n",
       "      <td>Data Analyst</td>\n",
       "      <td>G S E-COMMERCE PVT LTD</td>\n",
       "      <td>Bangalore/Bengaluru(Jayanagar)</td>\n",
       "      <td>4-7 Yrs</td>\n",
       "    </tr>\n",
       "    <tr>\n",
       "      <th>7</th>\n",
       "      <td>SAS Analyst / data Analyst / Business analyst ...</td>\n",
       "      <td>Leading US MNC into analytics</td>\n",
       "      <td>Bangalore/Bengaluru, Delhi / NCR, Mumbai (All ...</td>\n",
       "      <td>2-7 Yrs</td>\n",
       "    </tr>\n",
       "    <tr>\n",
       "      <th>8</th>\n",
       "      <td>Data Analyst II</td>\n",
       "      <td>Cerner</td>\n",
       "      <td>Bangalore/Bengaluru</td>\n",
       "      <td>6-10 Yrs</td>\n",
       "    </tr>\n",
       "    <tr>\n",
       "      <th>9</th>\n",
       "      <td>Data Analyst - Python / SQL</td>\n",
       "      <td>Myntra</td>\n",
       "      <td>Bangalore/Bengaluru</td>\n",
       "      <td>1-4 Yrs</td>\n",
       "    </tr>\n",
       "  </tbody>\n",
       "</table>\n",
       "</div>"
      ],
      "text/plain": [
       "                                           job_title  \\\n",
       "0  Senior Business Analyst - Data Sciences and Ad...   \n",
       "1                                 Sr Data Analyst II   \n",
       "2                          Business and Data Analyst   \n",
       "3                                Senior Data Analyst   \n",
       "4                                Senior Data Analyst   \n",
       "5                                  Jr . Data Analyst   \n",
       "6                                       Data Analyst   \n",
       "7  SAS Analyst / data Analyst / Business analyst ...   \n",
       "8                                    Data Analyst II   \n",
       "9                        Data Analyst - Python / SQL   \n",
       "\n",
       "                    company_name  \\\n",
       "0                         Vmware   \n",
       "1                     IHS Markit   \n",
       "2          CAREERDOST ENTERPRISE   \n",
       "3                          Capco   \n",
       "4                Gsn Games India   \n",
       "5                      Armorblox   \n",
       "6         G S E-COMMERCE PVT LTD   \n",
       "7  Leading US MNC into analytics   \n",
       "8                         Cerner   \n",
       "9                         Myntra   \n",
       "\n",
       "                                        job_location experience_required  \n",
       "0                                Bangalore/Bengaluru             3-7 Yrs  \n",
       "1              Gurgaon/Gurugram, Bangalore/Bengaluru             3-6 Yrs  \n",
       "2            Bangalore/Bengaluru\\n(WFH during Covid)             0-5 Yrs  \n",
       "3  Pune, Gurgaon/Gurugram, Chennai, Bangalore/Ben...            7-12 Yrs  \n",
       "4                                Bangalore/Bengaluru             3-7 Yrs  \n",
       "5                                Bangalore/Bengaluru             0-2 Yrs  \n",
       "6                     Bangalore/Bengaluru(Jayanagar)             4-7 Yrs  \n",
       "7  Bangalore/Bengaluru, Delhi / NCR, Mumbai (All ...             2-7 Yrs  \n",
       "8                                Bangalore/Bengaluru            6-10 Yrs  \n",
       "9                                Bangalore/Bengaluru             1-4 Yrs  "
      ]
     },
     "execution_count": 13,
     "metadata": {},
     "output_type": "execute_result"
    }
   ],
   "source": [
    "Data=Data_Analyst.iloc[0:10,:]\n",
    "Data"
   ]
  },
  {
   "cell_type": "markdown",
   "id": "1019faf7",
   "metadata": {},
   "source": [
    "# Q2: Write a python program to scrape data for “Data Scientist” Job position in “Bangalore” location. You have to scrape the job-title, job-location, company_name. You have to scrape first 10 jobs data. This task will be done in following steps:"
   ]
  },
  {
   "cell_type": "code",
   "execution_count": 14,
   "id": "ca6cf87b",
   "metadata": {},
   "outputs": [],
   "source": [
    "import selenium \n",
    "from selenium import webdriver\n",
    "import pandas as pd\n",
    "import warnings\n",
    "warnings.filterwarnings('ignore')"
   ]
  },
  {
   "cell_type": "code",
   "execution_count": 15,
   "id": "1ca36c7d",
   "metadata": {},
   "outputs": [],
   "source": [
    "driver2=webdriver.Chrome(r'C:\\Users\\ABC\\chromedriver.exe')"
   ]
  },
  {
   "cell_type": "code",
   "execution_count": 16,
   "id": "79d37853",
   "metadata": {},
   "outputs": [],
   "source": [
    "driver2.get(\" https://www.naukri.com/\")"
   ]
  },
  {
   "cell_type": "code",
   "execution_count": 17,
   "id": "ad2ecdaa",
   "metadata": {},
   "outputs": [],
   "source": [
    "search_designation2=driver2.find_element_by_class_name('suggestor-input')\n",
    "search_designation2.send_keys('Data Scientist')"
   ]
  },
  {
   "cell_type": "code",
   "execution_count": 18,
   "id": "f617e5ee",
   "metadata": {},
   "outputs": [],
   "source": [
    "search_location2=driver2.find_element_by_xpath('/html/body/div/div[2]/div[3]/div/div/div[3]/div/div/div/input')\n",
    "search_location2.send_keys('Bangalore')"
   ]
  },
  {
   "cell_type": "code",
   "execution_count": 19,
   "id": "793c0a5d",
   "metadata": {},
   "outputs": [],
   "source": [
    "search_button2=driver2.find_element_by_class_name('qsbSubmit')\n",
    "search_button2.click()"
   ]
  },
  {
   "cell_type": "code",
   "execution_count": 20,
   "id": "d9deecad",
   "metadata": {},
   "outputs": [],
   "source": [
    "Job_title=[]\n",
    "Job_location=[]\n",
    "Company_name=[]"
   ]
  },
  {
   "cell_type": "code",
   "execution_count": 21,
   "id": "5c84ba99",
   "metadata": {},
   "outputs": [],
   "source": [
    "jt2=driver2.find_elements_by_xpath(\"//a[@class='title fw500 ellipsis']\")\n",
    "for i in jt2:\n",
    "    jt2=i.text\n",
    "    Job_title.append(jt2)    "
   ]
  },
  {
   "cell_type": "code",
   "execution_count": 22,
   "id": "3642f7ca",
   "metadata": {},
   "outputs": [],
   "source": [
    "jl2=driver2.find_elements_by_xpath(\"//li[@class='fleft grey-text br2 placeHolderLi location']\")\n",
    "for i in jl2:\n",
    "    jl2=i.text\n",
    "    Job_location.append(jl2)   "
   ]
  },
  {
   "cell_type": "code",
   "execution_count": 23,
   "id": "77977baa",
   "metadata": {},
   "outputs": [],
   "source": [
    "cn2=driver2.find_elements_by_xpath(\"//a[@class='subTitle ellipsis fleft']\")\n",
    "for i in cn2:\n",
    "    cn2=i.text\n",
    "    Company_name.append(cn2) "
   ]
  },
  {
   "cell_type": "code",
   "execution_count": 24,
   "id": "82cb30d2",
   "metadata": {},
   "outputs": [
    {
     "data": {
      "text/html": [
       "<div>\n",
       "<style scoped>\n",
       "    .dataframe tbody tr th:only-of-type {\n",
       "        vertical-align: middle;\n",
       "    }\n",
       "\n",
       "    .dataframe tbody tr th {\n",
       "        vertical-align: top;\n",
       "    }\n",
       "\n",
       "    .dataframe thead th {\n",
       "        text-align: right;\n",
       "    }\n",
       "</style>\n",
       "<table border=\"1\" class=\"dataframe\">\n",
       "  <thead>\n",
       "    <tr style=\"text-align: right;\">\n",
       "      <th></th>\n",
       "      <th>Job_title</th>\n",
       "      <th>Company_name</th>\n",
       "      <th>Job_location</th>\n",
       "    </tr>\n",
       "  </thead>\n",
       "  <tbody>\n",
       "    <tr>\n",
       "      <th>0</th>\n",
       "      <td>Data Scientist: Advanced Analytics</td>\n",
       "      <td>IBM</td>\n",
       "      <td>Bengaluru/Bangalore</td>\n",
       "    </tr>\n",
       "    <tr>\n",
       "      <th>1</th>\n",
       "      <td>Data Scientist: Artificial Intelligence</td>\n",
       "      <td>IBM</td>\n",
       "      <td>Bengaluru/Bangalore</td>\n",
       "    </tr>\n",
       "    <tr>\n",
       "      <th>2</th>\n",
       "      <td>Data Scientist: Artificial Intelligence</td>\n",
       "      <td>IBM</td>\n",
       "      <td>Bengaluru/Bangalore</td>\n",
       "    </tr>\n",
       "    <tr>\n",
       "      <th>3</th>\n",
       "      <td>Data Scientist: Artificial Intelligence</td>\n",
       "      <td>IBM</td>\n",
       "      <td>Bengaluru/Bangalore</td>\n",
       "    </tr>\n",
       "    <tr>\n",
       "      <th>4</th>\n",
       "      <td>Data Scientist: Artificial Intelligence</td>\n",
       "      <td>IBM</td>\n",
       "      <td>Bangalore/Bengaluru</td>\n",
       "    </tr>\n",
       "    <tr>\n",
       "      <th>5</th>\n",
       "      <td>Staff Data Scientist</td>\n",
       "      <td>Walmart</td>\n",
       "      <td>Bangalore/Bengaluru</td>\n",
       "    </tr>\n",
       "    <tr>\n",
       "      <th>6</th>\n",
       "      <td>Lead Data Scientist</td>\n",
       "      <td>TransOrg Solutions Services (P) Ltd.</td>\n",
       "      <td>Bangalore/Bengaluru, Delhi / NCR, Mumbai (All ...</td>\n",
       "    </tr>\n",
       "    <tr>\n",
       "      <th>7</th>\n",
       "      <td>Senior Data Scientist</td>\n",
       "      <td>Walmart</td>\n",
       "      <td>Bangalore/Bengaluru</td>\n",
       "    </tr>\n",
       "    <tr>\n",
       "      <th>8</th>\n",
       "      <td>Cognitive/AI Senior Data Scientist</td>\n",
       "      <td>IBM</td>\n",
       "      <td>Bangalore/Bengaluru</td>\n",
       "    </tr>\n",
       "    <tr>\n",
       "      <th>9</th>\n",
       "      <td>Lead - Data Scientist</td>\n",
       "      <td>Applied Materials</td>\n",
       "      <td>Bangalore/Bengaluru</td>\n",
       "    </tr>\n",
       "  </tbody>\n",
       "</table>\n",
       "</div>"
      ],
      "text/plain": [
       "                                 Job_title  \\\n",
       "0       Data Scientist: Advanced Analytics   \n",
       "1  Data Scientist: Artificial Intelligence   \n",
       "2  Data Scientist: Artificial Intelligence   \n",
       "3  Data Scientist: Artificial Intelligence   \n",
       "4  Data Scientist: Artificial Intelligence   \n",
       "5                     Staff Data Scientist   \n",
       "6                      Lead Data Scientist   \n",
       "7                    Senior Data Scientist   \n",
       "8       Cognitive/AI Senior Data Scientist   \n",
       "9                    Lead - Data Scientist   \n",
       "\n",
       "                           Company_name  \\\n",
       "0                                   IBM   \n",
       "1                                   IBM   \n",
       "2                                   IBM   \n",
       "3                                   IBM   \n",
       "4                                   IBM   \n",
       "5                               Walmart   \n",
       "6  TransOrg Solutions Services (P) Ltd.   \n",
       "7                               Walmart   \n",
       "8                                   IBM   \n",
       "9                     Applied Materials   \n",
       "\n",
       "                                        Job_location  \n",
       "0                                Bengaluru/Bangalore  \n",
       "1                                Bengaluru/Bangalore  \n",
       "2                                Bengaluru/Bangalore  \n",
       "3                                Bengaluru/Bangalore  \n",
       "4                                Bangalore/Bengaluru  \n",
       "5                                Bangalore/Bengaluru  \n",
       "6  Bangalore/Bengaluru, Delhi / NCR, Mumbai (All ...  \n",
       "7                                Bangalore/Bengaluru  \n",
       "8                                Bangalore/Bengaluru  \n",
       "9                                Bangalore/Bengaluru  "
      ]
     },
     "execution_count": 24,
     "metadata": {},
     "output_type": "execute_result"
    }
   ],
   "source": [
    "Data2=pd.DataFrame({\"Job_title\":Job_title,\"Company_name\":Company_name,'Job_location':Job_location})\n",
    "Data2.iloc[0:10,:]"
   ]
  },
  {
   "cell_type": "markdown",
   "id": "948bf1ac",
   "metadata": {},
   "source": [
    "# Q3: In this question you have to scrape data using the filters available on the webpage as shown below:"
   ]
  },
  {
   "cell_type": "code",
   "execution_count": 38,
   "id": "1a2726d7",
   "metadata": {},
   "outputs": [],
   "source": [
    "import selenium\n",
    "from selenium import webdriver\n",
    "import pandas as pd\n",
    "import warnings\n",
    "warnings.filterwarnings('ignore')"
   ]
  },
  {
   "cell_type": "code",
   "execution_count": 39,
   "id": "ffc9aa8f",
   "metadata": {},
   "outputs": [],
   "source": [
    "driver3=webdriver.Chrome(r'C:\\Users\\ABC\\chromedriver.exe')"
   ]
  },
  {
   "cell_type": "code",
   "execution_count": 40,
   "id": "dd6c2acd",
   "metadata": {},
   "outputs": [],
   "source": [
    "driver3.get(\"https://www.naukri.com/\")"
   ]
  },
  {
   "cell_type": "code",
   "execution_count": 41,
   "id": "cf926323",
   "metadata": {},
   "outputs": [],
   "source": [
    "search_designation3=driver3.find_element_by_class_name('suggestor-input')\n",
    "search_designation3.send_keys('Data Scientist')"
   ]
  },
  {
   "cell_type": "code",
   "execution_count": 42,
   "id": "1117cdf2",
   "metadata": {},
   "outputs": [],
   "source": [
    "search_button3=driver3.find_element_by_class_name('qsbSubmit')\n",
    "search_button3.click()"
   ]
  },
  {
   "cell_type": "code",
   "execution_count": 43,
   "id": "462d362f",
   "metadata": {},
   "outputs": [],
   "source": [
    "job_title=[]\n",
    "job_location=[]\n",
    "company_name=[]\n",
    "experience_required=[]"
   ]
  },
  {
   "cell_type": "code",
   "execution_count": 44,
   "id": "39f7b340",
   "metadata": {},
   "outputs": [],
   "source": [
    "jt3=driver3.find_elements_by_xpath(\"//a[@class='title fw500 ellipsis']\")\n",
    "for i in jt3:\n",
    "    jt3=i.text\n",
    "    job_title.append(jt3)  \n",
    "JJJ=job_title[0:10]    "
   ]
  },
  {
   "cell_type": "code",
   "execution_count": 45,
   "id": "a7e8f7d7",
   "metadata": {},
   "outputs": [],
   "source": [
    "jl3=driver3.find_elements_by_xpath(\"//li[@class='fleft grey-text br2 placeHolderLi location']\")\n",
    "for i in jl3:\n",
    "    jl3=i.text\n",
    "    job_location.append(jl3)   \n",
    "lll=job_location[0:10]    "
   ]
  },
  {
   "cell_type": "code",
   "execution_count": 46,
   "id": "961289cf",
   "metadata": {},
   "outputs": [],
   "source": [
    "cn3=driver3.find_elements_by_xpath(\"//a[@class='subTitle ellipsis fleft']\")\n",
    "for i in cn3:\n",
    "    cn3=i.text\n",
    "    Company_name.append(cn3)\n",
    "ccc=Company_name[0:10]    "
   ]
  },
  {
   "cell_type": "code",
   "execution_count": 47,
   "id": "2fece876",
   "metadata": {},
   "outputs": [],
   "source": [
    "er3=driver3.find_elements_by_xpath(\"//li[@class='fleft grey-text br2 placeHolderLi experience']\")\n",
    "for i in er3:\n",
    "    er3=i.text\n",
    "    experience_required.append(er3)\n",
    "eee=experience_required[0:10]"
   ]
  },
  {
   "cell_type": "code",
   "execution_count": 49,
   "id": "aaa37e39",
   "metadata": {},
   "outputs": [
    {
     "data": {
      "text/html": [
       "<div>\n",
       "<style scoped>\n",
       "    .dataframe tbody tr th:only-of-type {\n",
       "        vertical-align: middle;\n",
       "    }\n",
       "\n",
       "    .dataframe tbody tr th {\n",
       "        vertical-align: top;\n",
       "    }\n",
       "\n",
       "    .dataframe thead th {\n",
       "        text-align: right;\n",
       "    }\n",
       "</style>\n",
       "<table border=\"1\" class=\"dataframe\">\n",
       "  <thead>\n",
       "    <tr style=\"text-align: right;\">\n",
       "      <th></th>\n",
       "      <th>Job_title</th>\n",
       "      <th>Company_name</th>\n",
       "      <th>Job_location</th>\n",
       "      <th>Experience_required</th>\n",
       "    </tr>\n",
       "  </thead>\n",
       "  <tbody>\n",
       "    <tr>\n",
       "      <th>0</th>\n",
       "      <td>Data Scientist: Advanced Analytics</td>\n",
       "      <td>IBM</td>\n",
       "      <td>Bengaluru/Bangalore</td>\n",
       "      <td>5-7 Yrs</td>\n",
       "    </tr>\n",
       "    <tr>\n",
       "      <th>1</th>\n",
       "      <td>Data Scientist: Artificial Intelligence</td>\n",
       "      <td>IBM</td>\n",
       "      <td>Bengaluru/Bangalore</td>\n",
       "      <td>11-12 Yrs</td>\n",
       "    </tr>\n",
       "    <tr>\n",
       "      <th>2</th>\n",
       "      <td>Data Scientist: Artificial Intelligence</td>\n",
       "      <td>IBM</td>\n",
       "      <td>Bengaluru/Bangalore</td>\n",
       "      <td>11-12 Yrs</td>\n",
       "    </tr>\n",
       "    <tr>\n",
       "      <th>3</th>\n",
       "      <td>Data Scientist: Artificial Intelligence</td>\n",
       "      <td>IBM</td>\n",
       "      <td>Bengaluru/Bangalore</td>\n",
       "      <td>11-12 Yrs</td>\n",
       "    </tr>\n",
       "    <tr>\n",
       "      <th>4</th>\n",
       "      <td>Data Scientist: Artificial Intelligence</td>\n",
       "      <td>IBM</td>\n",
       "      <td>Bangalore/Bengaluru</td>\n",
       "      <td>6-11 Yrs</td>\n",
       "    </tr>\n",
       "    <tr>\n",
       "      <th>5</th>\n",
       "      <td>Staff Data Scientist</td>\n",
       "      <td>Walmart</td>\n",
       "      <td>Bangalore/Bengaluru</td>\n",
       "      <td>4-8 Yrs</td>\n",
       "    </tr>\n",
       "    <tr>\n",
       "      <th>6</th>\n",
       "      <td>Data Scientist</td>\n",
       "      <td>TransOrg Solutions Services (P) Ltd.</td>\n",
       "      <td>Bangalore/Bengaluru</td>\n",
       "      <td>0-3 Yrs</td>\n",
       "    </tr>\n",
       "    <tr>\n",
       "      <th>7</th>\n",
       "      <td>Data Scientist-Client Engineering</td>\n",
       "      <td>Walmart</td>\n",
       "      <td>Mumbai</td>\n",
       "      <td>5-10 Yrs</td>\n",
       "    </tr>\n",
       "    <tr>\n",
       "      <th>8</th>\n",
       "      <td>Senior Data Scientist</td>\n",
       "      <td>IBM</td>\n",
       "      <td>Bangalore/Bengaluru</td>\n",
       "      <td>5-10 Yrs</td>\n",
       "    </tr>\n",
       "    <tr>\n",
       "      <th>9</th>\n",
       "      <td>Data Scientist/ Analyst Specialist</td>\n",
       "      <td>Applied Materials</td>\n",
       "      <td>Noida, New Delhi, Gurgaon/Gurugram, Delhi / NC...</td>\n",
       "      <td>1-4 Yrs</td>\n",
       "    </tr>\n",
       "  </tbody>\n",
       "</table>\n",
       "</div>"
      ],
      "text/plain": [
       "                                 Job_title  \\\n",
       "0       Data Scientist: Advanced Analytics   \n",
       "1  Data Scientist: Artificial Intelligence   \n",
       "2  Data Scientist: Artificial Intelligence   \n",
       "3  Data Scientist: Artificial Intelligence   \n",
       "4  Data Scientist: Artificial Intelligence   \n",
       "5                     Staff Data Scientist   \n",
       "6                           Data Scientist   \n",
       "7        Data Scientist-Client Engineering   \n",
       "8                    Senior Data Scientist   \n",
       "9       Data Scientist/ Analyst Specialist   \n",
       "\n",
       "                           Company_name  \\\n",
       "0                                   IBM   \n",
       "1                                   IBM   \n",
       "2                                   IBM   \n",
       "3                                   IBM   \n",
       "4                                   IBM   \n",
       "5                               Walmart   \n",
       "6  TransOrg Solutions Services (P) Ltd.   \n",
       "7                               Walmart   \n",
       "8                                   IBM   \n",
       "9                     Applied Materials   \n",
       "\n",
       "                                        Job_location Experience_required  \n",
       "0                                Bengaluru/Bangalore             5-7 Yrs  \n",
       "1                                Bengaluru/Bangalore           11-12 Yrs  \n",
       "2                                Bengaluru/Bangalore           11-12 Yrs  \n",
       "3                                Bengaluru/Bangalore           11-12 Yrs  \n",
       "4                                Bangalore/Bengaluru            6-11 Yrs  \n",
       "5                                Bangalore/Bengaluru             4-8 Yrs  \n",
       "6                                Bangalore/Bengaluru             0-3 Yrs  \n",
       "7                                             Mumbai            5-10 Yrs  \n",
       "8                                Bangalore/Bengaluru            5-10 Yrs  \n",
       "9  Noida, New Delhi, Gurgaon/Gurugram, Delhi / NC...             1-4 Yrs  "
      ]
     },
     "execution_count": 49,
     "metadata": {},
     "output_type": "execute_result"
    }
   ],
   "source": [
    "Data3=pd.DataFrame({\"Job_title\":JJJ,\"Company_name\":ccc,\"Job_location\":lll,\"Experience_required\":eee})\n",
    "Data3"
   ]
  },
  {
   "cell_type": "markdown",
   "id": "5f4a7b94",
   "metadata": {},
   "source": [
    "# Q4: Scrape data of first 100 sunglasses listings on flipkart.com. You have to scrape:\n",
    "1. Brand\n",
    "2. Product Description\n",
    "3. Price"
   ]
  },
  {
   "cell_type": "code",
   "execution_count": 22,
   "id": "329af0a2",
   "metadata": {},
   "outputs": [],
   "source": [
    "import selenium\n",
    "from selenium import webdriver\n",
    "import pandas as pd\n",
    "import warnings\n",
    "warnings.filterwarnings('ignore')\n",
    "import time"
   ]
  },
  {
   "cell_type": "code",
   "execution_count": 23,
   "id": "7bd53518",
   "metadata": {},
   "outputs": [],
   "source": [
    "driver4=webdriver.Chrome(r\"C:\\Users\\ABC\\chromedriver.exe\")"
   ]
  },
  {
   "cell_type": "code",
   "execution_count": 24,
   "id": "9e54cf07",
   "metadata": {},
   "outputs": [],
   "source": [
    "driver4.get(\"https://www.flipkart.com/\")\n",
    "time.sleep(2)"
   ]
  },
  {
   "cell_type": "code",
   "execution_count": 25,
   "id": "b7ce7afa",
   "metadata": {},
   "outputs": [],
   "source": [
    "search_button_cross=driver4.find_element_by_xpath('/html/body/div[2]/div/div/button')\n",
    "search_button_cross.click()"
   ]
  },
  {
   "cell_type": "code",
   "execution_count": 26,
   "id": "2ec9b08d",
   "metadata": {},
   "outputs": [],
   "source": [
    "search_product=driver4.find_element_by_class_name(\"_3704LK\")\n",
    "search_product.send_keys('sunglasses')\n",
    "time.sleep(2)"
   ]
  },
  {
   "cell_type": "code",
   "execution_count": 29,
   "id": "21801148",
   "metadata": {},
   "outputs": [],
   "source": [
    "search_button=driver4.find_element_by_class_name(\"L0Z3Pu\")\n",
    "search_button.click()\n",
    "time.sleep(4)"
   ]
  },
  {
   "cell_type": "code",
   "execution_count": 30,
   "id": "a27c6496",
   "metadata": {},
   "outputs": [],
   "source": [
    "urls=[]\n",
    "url_1=driver4.find_elements_by_xpath(\"//a[@class='ge-49M _2Kfbh8']\")\n",
    "for i in url_1:\n",
    "    urls.append(i.get_attribute('href'))\n",
    "    \n",
    "url_2=driver4.find_elements_by_xpath(\"/html/body/div/div/div[3]/div[1]/div[2]/div[12]/div/div/nav/a[2]\")\n",
    "for i in url_2:\n",
    "    urls.append(i.get_attribute('href'))\n",
    "    \n",
    "url_3=driver4.find_elements_by_xpath(\"/html/body/div/div/div[3]/div[1]/div[2]/div[12]/div/div/nav/a[3]\")\n",
    "for i in url_3:\n",
    "    urls.append(i.get_attribute('href'))\n",
    "time.sleep(4) "
   ]
  },
  {
   "cell_type": "code",
   "execution_count": 31,
   "id": "09759b91",
   "metadata": {},
   "outputs": [],
   "source": [
    "brand=[]\n",
    "for i in urls:\n",
    "    driver4.get(i)\n",
    "    for k in driver4.find_elements_by_xpath(\"//div[@class='_2WkVRV']\"):\n",
    "        brand.append(k.text)"
   ]
  },
  {
   "cell_type": "code",
   "execution_count": 32,
   "id": "df6e5f89",
   "metadata": {},
   "outputs": [],
   "source": [
    "Product_description=[]\n",
    "for i in urls:\n",
    "    driver4.get(i)\n",
    "    for k in driver4.find_elements_by_xpath(\"//a[@class='IRpwTa']\"):\n",
    "        Product_description.append(k.text)\n",
    "        "
   ]
  },
  {
   "cell_type": "code",
   "execution_count": 33,
   "id": "5128a535",
   "metadata": {},
   "outputs": [],
   "source": [
    "Pricee=[]\n",
    "for i in urls:\n",
    "    driver4.get(i)\n",
    "    for k in driver4.find_elements_by_xpath(\"//div[@class='_30jeq3']\"):\n",
    "        Pricee.append(k.text)"
   ]
  },
  {
   "cell_type": "code",
   "execution_count": 34,
   "id": "02ceab88",
   "metadata": {},
   "outputs": [
    {
     "data": {
      "text/html": [
       "<div>\n",
       "<style scoped>\n",
       "    .dataframe tbody tr th:only-of-type {\n",
       "        vertical-align: middle;\n",
       "    }\n",
       "\n",
       "    .dataframe tbody tr th {\n",
       "        vertical-align: top;\n",
       "    }\n",
       "\n",
       "    .dataframe thead th {\n",
       "        text-align: right;\n",
       "    }\n",
       "</style>\n",
       "<table border=\"1\" class=\"dataframe\">\n",
       "  <thead>\n",
       "    <tr style=\"text-align: right;\">\n",
       "      <th></th>\n",
       "      <th>Brand</th>\n",
       "      <th>Product_description</th>\n",
       "      <th>Price</th>\n",
       "    </tr>\n",
       "  </thead>\n",
       "  <tbody>\n",
       "    <tr>\n",
       "      <th>0</th>\n",
       "      <td>Singco India</td>\n",
       "      <td>Riding Glasses, UV Protection Clubmaster, Wayf...</td>\n",
       "      <td>₹329</td>\n",
       "    </tr>\n",
       "    <tr>\n",
       "      <th>1</th>\n",
       "      <td>ROZZETTA CRAFT</td>\n",
       "      <td>UV Protection, Gradient Rectangular Sunglasses...</td>\n",
       "      <td>₹449</td>\n",
       "    </tr>\n",
       "    <tr>\n",
       "      <th>2</th>\n",
       "      <td>Fastrack</td>\n",
       "      <td>UV Protection Wayfarer Sunglasses (Free Size)</td>\n",
       "      <td>₹719</td>\n",
       "    </tr>\n",
       "    <tr>\n",
       "      <th>3</th>\n",
       "      <td>DAHAAZIL</td>\n",
       "      <td>UV Protection Rectangular Sunglasses (Free Size)</td>\n",
       "      <td>₹639</td>\n",
       "    </tr>\n",
       "    <tr>\n",
       "      <th>4</th>\n",
       "      <td>Elligator</td>\n",
       "      <td>UV Protection Round Sunglasses (54)</td>\n",
       "      <td>₹295</td>\n",
       "    </tr>\n",
       "    <tr>\n",
       "      <th>...</th>\n",
       "      <td>...</td>\n",
       "      <td>...</td>\n",
       "      <td>...</td>\n",
       "    </tr>\n",
       "    <tr>\n",
       "      <th>95</th>\n",
       "      <td>ROZZETTA CRAFT</td>\n",
       "      <td>UV Protection Rectangular, Retro Square Sungla...</td>\n",
       "      <td>₹474</td>\n",
       "    </tr>\n",
       "    <tr>\n",
       "      <th>96</th>\n",
       "      <td>Elligator</td>\n",
       "      <td>UV Protection Round Sunglasses (53)</td>\n",
       "      <td>₹244</td>\n",
       "    </tr>\n",
       "    <tr>\n",
       "      <th>97</th>\n",
       "      <td>Fastrack</td>\n",
       "      <td>UV Protection Oval Sunglasses (Free Size)</td>\n",
       "      <td>₹1,599</td>\n",
       "    </tr>\n",
       "    <tr>\n",
       "      <th>98</th>\n",
       "      <td>Fastrack</td>\n",
       "      <td>Polarized Retro Square Sunglasses (Free Size)</td>\n",
       "      <td>₹575</td>\n",
       "    </tr>\n",
       "    <tr>\n",
       "      <th>99</th>\n",
       "      <td>ROYAL SON</td>\n",
       "      <td>UV Protection, Gradient Retro Square Sunglasse...</td>\n",
       "      <td>₹450</td>\n",
       "    </tr>\n",
       "  </tbody>\n",
       "</table>\n",
       "<p>100 rows × 3 columns</p>\n",
       "</div>"
      ],
      "text/plain": [
       "             Brand                                Product_description   Price\n",
       "0     Singco India  Riding Glasses, UV Protection Clubmaster, Wayf...    ₹329\n",
       "1   ROZZETTA CRAFT  UV Protection, Gradient Rectangular Sunglasses...    ₹449\n",
       "2         Fastrack      UV Protection Wayfarer Sunglasses (Free Size)    ₹719\n",
       "3         DAHAAZIL   UV Protection Rectangular Sunglasses (Free Size)    ₹639\n",
       "4        Elligator                UV Protection Round Sunglasses (54)    ₹295\n",
       "..             ...                                                ...     ...\n",
       "95  ROZZETTA CRAFT  UV Protection Rectangular, Retro Square Sungla...    ₹474\n",
       "96       Elligator                UV Protection Round Sunglasses (53)    ₹244\n",
       "97        Fastrack          UV Protection Oval Sunglasses (Free Size)  ₹1,599\n",
       "98        Fastrack      Polarized Retro Square Sunglasses (Free Size)    ₹575\n",
       "99       ROYAL SON  UV Protection, Gradient Retro Square Sunglasse...    ₹450\n",
       "\n",
       "[100 rows x 3 columns]"
      ]
     },
     "execution_count": 34,
     "metadata": {},
     "output_type": "execute_result"
    }
   ],
   "source": [
    "Data4=pd.DataFrame({'Brand':brand,'Product_description':Product_description,'Price':Pricee})\n",
    "Data4.head(100)"
   ]
  },
  {
   "cell_type": "markdown",
   "id": "7b6b1a2a",
   "metadata": {},
   "source": [
    "# Q5: Scrape 100 reviews data from flipkart.com for iphone11 phone. You have to go the link:\n",
    "1. Rating\n",
    "2. Review summary\n",
    "3. Full review"
   ]
  },
  {
   "cell_type": "code",
   "execution_count": 90,
   "id": "45e9bcc6",
   "metadata": {},
   "outputs": [],
   "source": [
    "import pandas as pd\n",
    "import selenium \n",
    "from selenium import webdriver\n",
    "import time\n",
    "import warnings\n",
    "warnings.filterwarnings('ignore')"
   ]
  },
  {
   "cell_type": "code",
   "execution_count": 91,
   "id": "931fb5e1",
   "metadata": {},
   "outputs": [],
   "source": [
    "driver=webdriver.Chrome(r\"C:\\Users\\ABC\\chromedriver.exe\")"
   ]
  },
  {
   "cell_type": "code",
   "execution_count": 92,
   "id": "522e5548",
   "metadata": {},
   "outputs": [],
   "source": [
    "driver.get('https://www.flipkart.com/apple-iphone-11-black-64-gb-includes- earpods-power\u0002adapter/p/itm0f37c2240b217?pid=MOBFKCTSVZAXUHGR&lid=LSTMOBFKCTSVZAXUHGREPBFGI&marketplace')"
   ]
  },
  {
   "cell_type": "code",
   "execution_count": 93,
   "id": "64a88142",
   "metadata": {},
   "outputs": [],
   "source": [
    "search_review=driver.find_element_by_xpath(\"//div[@class='_3UAT2v _16PBlm']\")\n",
    "search_review.click()"
   ]
  },
  {
   "cell_type": "code",
   "execution_count": 103,
   "id": "bce49c72",
   "metadata": {},
   "outputs": [],
   "source": [
    "Rating=[]\n",
    "Review=[]\n",
    "Full_review=[]"
   ]
  },
  {
   "cell_type": "code",
   "execution_count": 95,
   "id": "031e9669",
   "metadata": {},
   "outputs": [],
   "source": [
    "urls=[]\n",
    "url_1=driver.find_elements_by_xpath(\"//a[@class='ge-49M _2Kfbh8']\")\n",
    "for i in url_1:\n",
    "    urls.append(i.get_attribute('href'))\n",
    "url_2=driver.find_elements_by_xpath(\"//a[@class='ge-49M']\")\n",
    "for i in url_2:\n",
    "    urls.append(i.get_attribute('href'))\n",
    "time.sleep(4)    "
   ]
  },
  {
   "cell_type": "code",
   "execution_count": 104,
   "id": "bdd8ee01",
   "metadata": {},
   "outputs": [],
   "source": [
    "for i in urls:\n",
    "    driver.get(i)\n",
    "    for k in driver.find_elements_by_xpath(\"//div[@class='_3LWZlK _1BLPMq']\"):\n",
    "        Rating.append(k.text)"
   ]
  },
  {
   "cell_type": "code",
   "execution_count": 105,
   "id": "39dab5cf",
   "metadata": {},
   "outputs": [],
   "source": [
    "for i in urls:\n",
    "    driver.get(i)\n",
    "    for k in driver.find_elements_by_xpath(\"//p[@class='_2-N8zT']\"):\n",
    "        Review.append(k.text)"
   ]
  },
  {
   "cell_type": "code",
   "execution_count": 106,
   "id": "2d9c7904",
   "metadata": {},
   "outputs": [],
   "source": [
    "for i in urls:\n",
    "    driver.get(i)\n",
    "    for k in driver.find_elements_by_xpath(\"//div[@class='t-ZTKy']\"):\n",
    "        Full_review.append(k.text)"
   ]
  },
  {
   "cell_type": "code",
   "execution_count": 115,
   "id": "6f8b8968",
   "metadata": {},
   "outputs": [
    {
     "data": {
      "text/html": [
       "<div>\n",
       "<style scoped>\n",
       "    .dataframe tbody tr th:only-of-type {\n",
       "        vertical-align: middle;\n",
       "    }\n",
       "\n",
       "    .dataframe tbody tr th {\n",
       "        vertical-align: top;\n",
       "    }\n",
       "\n",
       "    .dataframe thead th {\n",
       "        text-align: right;\n",
       "    }\n",
       "</style>\n",
       "<table border=\"1\" class=\"dataframe\">\n",
       "  <thead>\n",
       "    <tr style=\"text-align: right;\">\n",
       "      <th></th>\n",
       "      <th>Rating</th>\n",
       "      <th>Review</th>\n",
       "      <th>Full_review</th>\n",
       "    </tr>\n",
       "  </thead>\n",
       "  <tbody>\n",
       "    <tr>\n",
       "      <th>0</th>\n",
       "      <td>5</td>\n",
       "      <td>Brilliant</td>\n",
       "      <td>The Best Phone for the Money\\n\\nThe iPhone 11 ...</td>\n",
       "    </tr>\n",
       "    <tr>\n",
       "      <th>1</th>\n",
       "      <td>5</td>\n",
       "      <td>Simply awesome</td>\n",
       "      <td>Really satisfied with the Product I received.....</td>\n",
       "    </tr>\n",
       "    <tr>\n",
       "      <th>2</th>\n",
       "      <td>5</td>\n",
       "      <td>Best in the market!</td>\n",
       "      <td>Great iPhone very snappy experience as apple k...</td>\n",
       "    </tr>\n",
       "    <tr>\n",
       "      <th>3</th>\n",
       "      <td>5</td>\n",
       "      <td>Perfect product!</td>\n",
       "      <td>Amazing phone with great cameras and better ba...</td>\n",
       "    </tr>\n",
       "    <tr>\n",
       "      <th>4</th>\n",
       "      <td>5</td>\n",
       "      <td>Fabulous!</td>\n",
       "      <td>This is my first iOS phone. I am very happy wi...</td>\n",
       "    </tr>\n",
       "    <tr>\n",
       "      <th>...</th>\n",
       "      <td>...</td>\n",
       "      <td>...</td>\n",
       "      <td>...</td>\n",
       "    </tr>\n",
       "    <tr>\n",
       "      <th>95</th>\n",
       "      <td>5</td>\n",
       "      <td>Fabulous!</td>\n",
       "      <td>Gift this to your loved ones fabulous product ...</td>\n",
       "    </tr>\n",
       "    <tr>\n",
       "      <th>96</th>\n",
       "      <td>5</td>\n",
       "      <td>Super!</td>\n",
       "      <td>This is my first ever iPhone.\\nAnd I truly don...</td>\n",
       "    </tr>\n",
       "    <tr>\n",
       "      <th>97</th>\n",
       "      <td>5</td>\n",
       "      <td>Worth every penny</td>\n",
       "      <td>Undoubtedly Iphone 11 is the most successful m...</td>\n",
       "    </tr>\n",
       "    <tr>\n",
       "      <th>98</th>\n",
       "      <td>5</td>\n",
       "      <td>Fabulous!</td>\n",
       "      <td>I purchased the iPhone 11 a month back. I must...</td>\n",
       "    </tr>\n",
       "    <tr>\n",
       "      <th>99</th>\n",
       "      <td>5</td>\n",
       "      <td>Wonderful</td>\n",
       "      <td>Nice value for money good and best price I pho...</td>\n",
       "    </tr>\n",
       "  </tbody>\n",
       "</table>\n",
       "<p>100 rows × 3 columns</p>\n",
       "</div>"
      ],
      "text/plain": [
       "   Rating               Review  \\\n",
       "0       5            Brilliant   \n",
       "1       5       Simply awesome   \n",
       "2       5  Best in the market!   \n",
       "3       5     Perfect product!   \n",
       "4       5            Fabulous!   \n",
       "..    ...                  ...   \n",
       "95      5            Fabulous!   \n",
       "96      5               Super!   \n",
       "97      5    Worth every penny   \n",
       "98      5            Fabulous!   \n",
       "99      5            Wonderful   \n",
       "\n",
       "                                          Full_review  \n",
       "0   The Best Phone for the Money\\n\\nThe iPhone 11 ...  \n",
       "1   Really satisfied with the Product I received.....  \n",
       "2   Great iPhone very snappy experience as apple k...  \n",
       "3   Amazing phone with great cameras and better ba...  \n",
       "4   This is my first iOS phone. I am very happy wi...  \n",
       "..                                                ...  \n",
       "95  Gift this to your loved ones fabulous product ...  \n",
       "96  This is my first ever iPhone.\\nAnd I truly don...  \n",
       "97  Undoubtedly Iphone 11 is the most successful m...  \n",
       "98  I purchased the iPhone 11 a month back. I must...  \n",
       "99  Nice value for money good and best price I pho...  \n",
       "\n",
       "[100 rows x 3 columns]"
      ]
     },
     "execution_count": 115,
     "metadata": {},
     "output_type": "execute_result"
    }
   ],
   "source": [
    "data=pd.DataFrame({'Rating':Rating,'Review':Review,'Full_review':Full_review})\n",
    "data"
   ]
  },
  {
   "cell_type": "markdown",
   "id": "c343ddb6",
   "metadata": {},
   "source": [
    "# Q6: Scrape data for first 100 sneakers you find when you visit flipkart.com andsearch for “sneakers” in the search field.\n",
    "You have to scrape.\n",
    "1. Brand\n",
    "2. Product Description\n",
    "3. Price"
   ]
  },
  {
   "cell_type": "code",
   "execution_count": 130,
   "id": "31e0c9fc",
   "metadata": {},
   "outputs": [],
   "source": [
    "import pandas as pd\n",
    "import selenium\n",
    "import time\n",
    "from selenium import webdriver\n",
    "import warnings\n",
    "warnings.filterwarnings('ignore')"
   ]
  },
  {
   "cell_type": "code",
   "execution_count": 131,
   "id": "ef07620a",
   "metadata": {},
   "outputs": [],
   "source": [
    "driver=webdriver.Chrome(r\"C:\\Users\\ABC\\chromedriver.exe\")"
   ]
  },
  {
   "cell_type": "code",
   "execution_count": 132,
   "id": "c3c1f703",
   "metadata": {},
   "outputs": [],
   "source": [
    "driver.get('https://www.flipkart.com/')"
   ]
  },
  {
   "cell_type": "code",
   "execution_count": 133,
   "id": "89ca2f1b",
   "metadata": {},
   "outputs": [],
   "source": [
    "cross_button=driver.find_element_by_xpath(\"/html/body/div[2]/div/div/button\")\n",
    "cross_button.click()"
   ]
  },
  {
   "cell_type": "code",
   "execution_count": 134,
   "id": "97eff833",
   "metadata": {},
   "outputs": [],
   "source": [
    "search=driver.find_element_by_xpath(\"/html/body/div[1]/div/div[1]/div[1]/div[2]/div[2]/form/div/div/input\")\n",
    "search.send_keys(\"sneakers\")"
   ]
  },
  {
   "cell_type": "code",
   "execution_count": 135,
   "id": "5798a284",
   "metadata": {},
   "outputs": [],
   "source": [
    "search_button=driver.find_element_by_xpath(\"/html/body/div[1]/div/div[1]/div[1]/div[2]/div[2]/form/div/button\")\n",
    "search_button.click()"
   ]
  },
  {
   "cell_type": "code",
   "execution_count": 136,
   "id": "e1c3672c",
   "metadata": {},
   "outputs": [],
   "source": [
    "brand=[]\n",
    "Product_description=[]\n",
    "price=[] "
   ]
  },
  {
   "cell_type": "code",
   "execution_count": 137,
   "id": "6ff3967b",
   "metadata": {},
   "outputs": [],
   "source": [
    "urls=[]\n",
    "url_1=driver.find_elements_by_xpath(\"//a[@class='ge-49M _2Kfbh8']\")\n",
    "for i in url_1:\n",
    "    urls.append(i.get_attribute('href'))\n",
    "    \n",
    "url_2=driver.find_elements_by_xpath(\"/html/body/div/div/div[3]/div[1]/div[2]/div[12]/div/div/nav/a[2]\")\n",
    "for i in url_2:\n",
    "    urls.append(i.get_attribute('href'))\n",
    "    \n",
    "url_3=driver.find_elements_by_xpath(\"/html/body/div/div/div[3]/div[1]/div[2]/div[12]/div/div/nav/a[3]\")\n",
    "for i in url_3:\n",
    "    urls.append(i.get_attribute('href'))\n",
    "time.sleep(4) "
   ]
  },
  {
   "cell_type": "code",
   "execution_count": 138,
   "id": "127171b5",
   "metadata": {},
   "outputs": [],
   "source": [
    "for i in urls:\n",
    "    driver.get(i)\n",
    "    for k in driver.find_elements_by_xpath(\"//div[@class='_2WkVRV']\"):\n",
    "        brand.append(k.text)\n",
    "time.sleep(4)        "
   ]
  },
  {
   "cell_type": "code",
   "execution_count": 139,
   "id": "cd0e8b59",
   "metadata": {},
   "outputs": [],
   "source": [
    "for i in urls:\n",
    "    driver.get(i)\n",
    "    for k in driver.find_elements_by_xpath(\"//a[@class='IRpwTa']\"):\n",
    "        Product_description.append(k.text)\n",
    "time.sleep(4)         "
   ]
  },
  {
   "cell_type": "code",
   "execution_count": 140,
   "id": "139d127c",
   "metadata": {},
   "outputs": [],
   "source": [
    "for i in urls:\n",
    "    driver.get(i)\n",
    "    for k in driver.find_elements_by_xpath(\"//div[@class='_30jeq3']\"):\n",
    "        price.append(k.text)\n",
    "time.sleep(4)         "
   ]
  },
  {
   "cell_type": "code",
   "execution_count": 141,
   "id": "92d67952",
   "metadata": {},
   "outputs": [],
   "source": [
    "disscount=[]\n",
    "for i in urls:\n",
    "    driver.get(i)\n",
    "    for k in driver.find_elements_by_xpath(\"//div[@class='_3Ay6Sb']\"):\n",
    "        disscount.append(k.text)"
   ]
  },
  {
   "cell_type": "code",
   "execution_count": 142,
   "id": "f799c76d",
   "metadata": {},
   "outputs": [],
   "source": [
    "brand=brand[0:100]\n",
    "price=price[0:100]\n",
    "disscount=disscount[0:100]\n",
    "Product_description=Product_description[0:100]"
   ]
  },
  {
   "cell_type": "code",
   "execution_count": 143,
   "id": "9c46ad5c",
   "metadata": {},
   "outputs": [
    {
     "data": {
      "text/html": [
       "<div>\n",
       "<style scoped>\n",
       "    .dataframe tbody tr th:only-of-type {\n",
       "        vertical-align: middle;\n",
       "    }\n",
       "\n",
       "    .dataframe tbody tr th {\n",
       "        vertical-align: top;\n",
       "    }\n",
       "\n",
       "    .dataframe thead th {\n",
       "        text-align: right;\n",
       "    }\n",
       "</style>\n",
       "<table border=\"1\" class=\"dataframe\">\n",
       "  <thead>\n",
       "    <tr style=\"text-align: right;\">\n",
       "      <th></th>\n",
       "      <th>Brand</th>\n",
       "      <th>Product_description</th>\n",
       "      <th>Price</th>\n",
       "      <th>Discount</th>\n",
       "    </tr>\n",
       "  </thead>\n",
       "  <tbody>\n",
       "    <tr>\n",
       "      <th>0</th>\n",
       "      <td>Jumpink</td>\n",
       "      <td>Kwik FIT casual sneaker shoes and partywear sh...</td>\n",
       "      <td>₹399</td>\n",
       "      <td>60% off</td>\n",
       "    </tr>\n",
       "    <tr>\n",
       "      <th>1</th>\n",
       "      <td>KWIK FIT</td>\n",
       "      <td>STYLISH MENS BLACK SNEAKER Sneakers For Men</td>\n",
       "      <td>₹449</td>\n",
       "      <td>77% off</td>\n",
       "    </tr>\n",
       "    <tr>\n",
       "      <th>2</th>\n",
       "      <td>URBANBOX</td>\n",
       "      <td>Modern Trendy Sneakers Shoes Sneakers For Men</td>\n",
       "      <td>₹178</td>\n",
       "      <td>82% off</td>\n",
       "    </tr>\n",
       "    <tr>\n",
       "      <th>3</th>\n",
       "      <td>corsac</td>\n",
       "      <td>Kwik FIT casual sneaker shoes and partywear sh...</td>\n",
       "      <td>₹499</td>\n",
       "      <td>66% off</td>\n",
       "    </tr>\n",
       "    <tr>\n",
       "      <th>4</th>\n",
       "      <td>BRUTON</td>\n",
       "      <td>Sneakers For Men</td>\n",
       "      <td>₹295</td>\n",
       "      <td>77% off</td>\n",
       "    </tr>\n",
       "    <tr>\n",
       "      <th>...</th>\n",
       "      <td>...</td>\n",
       "      <td>...</td>\n",
       "      <td>...</td>\n",
       "      <td>...</td>\n",
       "    </tr>\n",
       "    <tr>\n",
       "      <th>95</th>\n",
       "      <td>andD</td>\n",
       "      <td>Combo Pack of 3 Casual Shoes Sneakers For Men</td>\n",
       "      <td>₹249</td>\n",
       "      <td>55% off</td>\n",
       "    </tr>\n",
       "    <tr>\n",
       "      <th>96</th>\n",
       "      <td>SPADE CLUB</td>\n",
       "      <td>Sneakers For Men</td>\n",
       "      <td>₹449</td>\n",
       "      <td>32% off</td>\n",
       "    </tr>\n",
       "    <tr>\n",
       "      <th>97</th>\n",
       "      <td>DUCATI</td>\n",
       "      <td>Combo Pack of 2 Casual Shoes For Men Sneakers ...</td>\n",
       "      <td>₹674</td>\n",
       "      <td>56% off</td>\n",
       "    </tr>\n",
       "    <tr>\n",
       "      <th>98</th>\n",
       "      <td>CLYMB</td>\n",
       "      <td>Casual Shoes , Snekers Shoes,Lace-Up PVC Shoes...</td>\n",
       "      <td>₹649</td>\n",
       "      <td>46% off</td>\n",
       "    </tr>\n",
       "    <tr>\n",
       "      <th>99</th>\n",
       "      <td>Lee Won</td>\n",
       "      <td>Sneakers For Men</td>\n",
       "      <td>₹499</td>\n",
       "      <td>57% off</td>\n",
       "    </tr>\n",
       "  </tbody>\n",
       "</table>\n",
       "<p>100 rows × 4 columns</p>\n",
       "</div>"
      ],
      "text/plain": [
       "         Brand                                Product_description Price  \\\n",
       "0      Jumpink  Kwik FIT casual sneaker shoes and partywear sh...  ₹399   \n",
       "1     KWIK FIT        STYLISH MENS BLACK SNEAKER Sneakers For Men  ₹449   \n",
       "2     URBANBOX      Modern Trendy Sneakers Shoes Sneakers For Men  ₹178   \n",
       "3       corsac  Kwik FIT casual sneaker shoes and partywear sh...  ₹499   \n",
       "4       BRUTON                                   Sneakers For Men  ₹295   \n",
       "..         ...                                                ...   ...   \n",
       "95        andD      Combo Pack of 3 Casual Shoes Sneakers For Men  ₹249   \n",
       "96  SPADE CLUB                                   Sneakers For Men  ₹449   \n",
       "97      DUCATI  Combo Pack of 2 Casual Shoes For Men Sneakers ...  ₹674   \n",
       "98       CLYMB  Casual Shoes , Snekers Shoes,Lace-Up PVC Shoes...  ₹649   \n",
       "99     Lee Won                                   Sneakers For Men  ₹499   \n",
       "\n",
       "   Discount  \n",
       "0   60% off  \n",
       "1   77% off  \n",
       "2   82% off  \n",
       "3   66% off  \n",
       "4   77% off  \n",
       "..      ...  \n",
       "95  55% off  \n",
       "96  32% off  \n",
       "97  56% off  \n",
       "98  46% off  \n",
       "99  57% off  \n",
       "\n",
       "[100 rows x 4 columns]"
      ]
     },
     "execution_count": 143,
     "metadata": {},
     "output_type": "execute_result"
    }
   ],
   "source": [
    "data=pd.DataFrame({'Brand':brand,\"Product_description\":Product_description,'Price':price,'Discount':disscount})\n",
    "data"
   ]
  },
  {
   "cell_type": "markdown",
   "id": "46997a0f",
   "metadata": {},
   "source": [
    "# Q7: Go to the link - https://www.myntra.com/shoes\n",
    "Set Price filter to “Rs. 7149 to Rs. 14099 ” , Color filter to “Black”, as shown inthe below image."
   ]
  },
  {
   "cell_type": "code",
   "execution_count": 156,
   "id": "5ec4ec84",
   "metadata": {},
   "outputs": [],
   "source": [
    "import pandas as pd\n",
    "import selenium \n",
    "import time\n",
    "from selenium import webdriver\n",
    "import warnings \n",
    "warnings.filterwarnings('ignore')"
   ]
  },
  {
   "cell_type": "code",
   "execution_count": 157,
   "id": "82a50da1",
   "metadata": {},
   "outputs": [],
   "source": [
    "driver=webdriver.Chrome(r\"C:\\Users\\ABC\\chromedriver.exe\")\n",
    "time.sleep(2)"
   ]
  },
  {
   "cell_type": "code",
   "execution_count": 158,
   "id": "5f681361",
   "metadata": {},
   "outputs": [],
   "source": [
    "driver.get(\"https://www.myntra.com/shoes\")\n",
    "time.sleep(3)"
   ]
  },
  {
   "cell_type": "code",
   "execution_count": 159,
   "id": "6e7be2f8",
   "metadata": {},
   "outputs": [],
   "source": [
    "search_price=driver.find_element_by_xpath(\"/html/body/div[2]/div/div[1]/main/div[3]/div[1]/section/div/div[5]/ul/li[2]/label/div\")\n",
    "search_price.click()"
   ]
  },
  {
   "cell_type": "code",
   "execution_count": 160,
   "id": "65164b45",
   "metadata": {},
   "outputs": [],
   "source": [
    "search_colour=driver.find_element_by_xpath(\"/html/body/div[2]/div/div[1]/main/div[3]/div[1]/section/div/div[6]/ul/li[1]/label/div\")\n",
    "search_colour.click()"
   ]
  },
  {
   "cell_type": "code",
   "execution_count": 161,
   "id": "7def1cd2",
   "metadata": {},
   "outputs": [],
   "source": [
    "urls=[]\n",
    "url_1=driver.find_elements_by_xpath(\"//li[@class='pagination-active']\")\n",
    "for i in url_1:\n",
    "    urls.append(i.get_attribute(\"href\"))\n",
    "    \n",
    "url_2=driver.find_elements_by_xpath(\"/html/body/div[2]/div/div[1]/main/div[3]/div[2]/div/div[2]/section/div[2]/ul/li[3]\")\n",
    "for i in url_2:\n",
    "    urls.append(i.get_attribute(\"href\"))\n",
    "time.sleep(4)    "
   ]
  },
  {
   "cell_type": "code",
   "execution_count": 162,
   "id": "d73e660d",
   "metadata": {},
   "outputs": [],
   "source": [
    "Brand=[]\n",
    "for i in urls:\n",
    "    brand=driver.find_elements_by_xpath(\"//h3[@class='product-brand']\")\n",
    "    for x in brand:\n",
    "        brand=x.text\n",
    "        Brand.append(brand)  \n",
    "time.sleep(4)               "
   ]
  },
  {
   "cell_type": "code",
   "execution_count": 163,
   "id": "f8891109",
   "metadata": {},
   "outputs": [],
   "source": [
    "Bd=[]\n",
    "for i in urls:\n",
    "    bd=driver.find_elements_by_xpath(\"//h4[@class='product-product']\")\n",
    "    for x in bd:\n",
    "        bd=x.text\n",
    "        Bd.append(bd)\n",
    "time.sleep(4)        "
   ]
  },
  {
   "cell_type": "code",
   "execution_count": 164,
   "id": "66f265a2",
   "metadata": {},
   "outputs": [],
   "source": [
    "Price=[]\n",
    "for i in urls:\n",
    "    pr=driver.find_elements_by_xpath(\"//div[@class='product-price']\")\n",
    "    for x in pr:\n",
    "        pr=x.text\n",
    "        Price.append(pr)\n",
    "time.sleep(4)        "
   ]
  },
  {
   "cell_type": "code",
   "execution_count": 166,
   "id": "96834352",
   "metadata": {},
   "outputs": [
    {
     "data": {
      "text/html": [
       "<div>\n",
       "<style scoped>\n",
       "    .dataframe tbody tr th:only-of-type {\n",
       "        vertical-align: middle;\n",
       "    }\n",
       "\n",
       "    .dataframe tbody tr th {\n",
       "        vertical-align: top;\n",
       "    }\n",
       "\n",
       "    .dataframe thead th {\n",
       "        text-align: right;\n",
       "    }\n",
       "</style>\n",
       "<table border=\"1\" class=\"dataframe\">\n",
       "  <thead>\n",
       "    <tr style=\"text-align: right;\">\n",
       "      <th></th>\n",
       "      <th>Brand_name</th>\n",
       "      <th>Shoe_description</th>\n",
       "      <th>Price</th>\n",
       "    </tr>\n",
       "  </thead>\n",
       "  <tbody>\n",
       "    <tr>\n",
       "      <th>0</th>\n",
       "      <td>ALDO</td>\n",
       "      <td>Men Woven Design Sneakers</td>\n",
       "      <td>Rs. 13999</td>\n",
       "    </tr>\n",
       "    <tr>\n",
       "      <th>1</th>\n",
       "      <td>ALDO</td>\n",
       "      <td>Men Leather Driving Shoes</td>\n",
       "      <td>Rs. 12999</td>\n",
       "    </tr>\n",
       "    <tr>\n",
       "      <th>2</th>\n",
       "      <td>UNDER ARMOUR</td>\n",
       "      <td>Men Vantage 2 Running Shoes</td>\n",
       "      <td>Rs. 7999</td>\n",
       "    </tr>\n",
       "    <tr>\n",
       "      <th>3</th>\n",
       "      <td>ALDO</td>\n",
       "      <td>Men Leather Loafers</td>\n",
       "      <td>Rs. 12999</td>\n",
       "    </tr>\n",
       "    <tr>\n",
       "      <th>4</th>\n",
       "      <td>Skechers</td>\n",
       "      <td>Men Max Cushioning Running</td>\n",
       "      <td>Rs. 7649Rs. 8999(15% OFF)</td>\n",
       "    </tr>\n",
       "    <tr>\n",
       "      <th>...</th>\n",
       "      <td>...</td>\n",
       "      <td>...</td>\n",
       "      <td>...</td>\n",
       "    </tr>\n",
       "    <tr>\n",
       "      <th>95</th>\n",
       "      <td>Hush Puppies</td>\n",
       "      <td>Men Solid Leather Formal Slip-Ons</td>\n",
       "      <td>Rs. 8499Rs. 9999(15% OFF)</td>\n",
       "    </tr>\n",
       "    <tr>\n",
       "      <th>96</th>\n",
       "      <td>Puma</td>\n",
       "      <td>Electrify Nitro Running Shoes</td>\n",
       "      <td>Rs. 9999</td>\n",
       "    </tr>\n",
       "    <tr>\n",
       "      <th>97</th>\n",
       "      <td>Louis Philippe</td>\n",
       "      <td>Men Solid Leather Formal Loafers</td>\n",
       "      <td>Rs. 9999</td>\n",
       "    </tr>\n",
       "    <tr>\n",
       "      <th>98</th>\n",
       "      <td>ROSSO BRUNELLO</td>\n",
       "      <td>Men Leather Loafers</td>\n",
       "      <td>Rs. 9999</td>\n",
       "    </tr>\n",
       "    <tr>\n",
       "      <th>99</th>\n",
       "      <td>Geox</td>\n",
       "      <td>Men Textured Leather Driving Shoes</td>\n",
       "      <td>Rs. 10990</td>\n",
       "    </tr>\n",
       "  </tbody>\n",
       "</table>\n",
       "<p>100 rows × 3 columns</p>\n",
       "</div>"
      ],
      "text/plain": [
       "        Brand_name                    Shoe_description  \\\n",
       "0             ALDO           Men Woven Design Sneakers   \n",
       "1             ALDO           Men Leather Driving Shoes   \n",
       "2     UNDER ARMOUR         Men Vantage 2 Running Shoes   \n",
       "3             ALDO                 Men Leather Loafers   \n",
       "4         Skechers          Men Max Cushioning Running   \n",
       "..             ...                                 ...   \n",
       "95    Hush Puppies   Men Solid Leather Formal Slip-Ons   \n",
       "96            Puma       Electrify Nitro Running Shoes   \n",
       "97  Louis Philippe    Men Solid Leather Formal Loafers   \n",
       "98  ROSSO BRUNELLO                 Men Leather Loafers   \n",
       "99            Geox  Men Textured Leather Driving Shoes   \n",
       "\n",
       "                        Price  \n",
       "0                   Rs. 13999  \n",
       "1                   Rs. 12999  \n",
       "2                    Rs. 7999  \n",
       "3                   Rs. 12999  \n",
       "4   Rs. 7649Rs. 8999(15% OFF)  \n",
       "..                        ...  \n",
       "95  Rs. 8499Rs. 9999(15% OFF)  \n",
       "96                   Rs. 9999  \n",
       "97                   Rs. 9999  \n",
       "98                   Rs. 9999  \n",
       "99                  Rs. 10990  \n",
       "\n",
       "[100 rows x 3 columns]"
      ]
     },
     "execution_count": 166,
     "metadata": {},
     "output_type": "execute_result"
    }
   ],
   "source": [
    "data=pd.DataFrame({\"Brand_name\":Brand,\"Shoe_description\":Bd,\"Price\":Price})\n",
    "data"
   ]
  },
  {
   "cell_type": "markdown",
   "id": "c2e988cd",
   "metadata": {},
   "source": [
    "# 8: Go to webpage https://www.amazon.in/\n",
    "Enter “Laptop” in the search field and then click the search icon.\n",
    "Then set CPU Type filter to “Intel Core i7” and “Intel Core i9” as shown in the below image:\n"
   ]
  },
  {
   "cell_type": "code",
   "execution_count": 167,
   "id": "13b70bbf",
   "metadata": {},
   "outputs": [],
   "source": [
    "import pandas as pd\n",
    "import selenium\n",
    "from selenium import webdriver\n",
    "import warnings\n",
    "warnings.filterwarnings('ignore')\n",
    "import time"
   ]
  },
  {
   "cell_type": "code",
   "execution_count": 168,
   "id": "dc0c52f3",
   "metadata": {},
   "outputs": [],
   "source": [
    "driver8=webdriver.Chrome(r\"C:\\Users\\ABC\\chromedriver.exe\")"
   ]
  },
  {
   "cell_type": "code",
   "execution_count": 169,
   "id": "935c36cf",
   "metadata": {},
   "outputs": [],
   "source": [
    "driver8.get(\"https://www.amazon.in/\")\n",
    "time.sleep(4)"
   ]
  },
  {
   "cell_type": "code",
   "execution_count": 170,
   "id": "40f370eb",
   "metadata": {},
   "outputs": [],
   "source": [
    "search_name=driver8.find_element_by_xpath(\"/html/body/div[1]/header/div/div[5]/div[1]\")\n",
    "search_name.click()\n",
    "time.sleep(3)"
   ]
  },
  {
   "cell_type": "code",
   "execution_count": 171,
   "id": "599d1b01",
   "metadata": {},
   "outputs": [],
   "source": [
    "search_name1=driver8.find_element_by_xpath(\"/html/body/div[3]/div[2]/div/ul[1]/li[15]/a\")\n",
    "search_name1.click()\n",
    "time.sleep(3)"
   ]
  },
  {
   "cell_type": "code",
   "execution_count": 174,
   "id": "7c658c78",
   "metadata": {},
   "outputs": [],
   "source": [
    "search_name2=driver8.find_element_by_xpath(\"/html/body/div[3]/div[2]/div/ul[8]/li[17]/a\")\n",
    "search_name2.click()\n",
    "time.sleep(3)"
   ]
  },
  {
   "cell_type": "code",
   "execution_count": 175,
   "id": "6b5e1005",
   "metadata": {},
   "outputs": [],
   "source": [
    "search_i7=driver8.find_element_by_xpath(\"/html/body/div[1]/div[2]/div[2]/div[2]/div/div/div[8]/ul/li[2]/span/a/div/label/i\")\n",
    "search_i7.click()"
   ]
  },
  {
   "cell_type": "code",
   "execution_count": 177,
   "id": "f0ee72e4",
   "metadata": {},
   "outputs": [],
   "source": [
    "search_i9=driver8.find_element_by_xpath(\"/html/body/div[2]/div[2]/div[1]/div[2]/div/div[3]/span/div[1]/div/div/div[5]/ul[4]/li[14]/span/a/div/label/i\")\n",
    "search_i9.click()"
   ]
  },
  {
   "cell_type": "code",
   "execution_count": 178,
   "id": "d5c080be",
   "metadata": {},
   "outputs": [],
   "source": [
    "t1=[]\n",
    "p1=[]"
   ]
  },
  {
   "cell_type": "code",
   "execution_count": 179,
   "id": "0aa1f04e",
   "metadata": {},
   "outputs": [],
   "source": [
    "tt=driver8.find_elements_by_xpath(\"//h2[@class='a-size-mini a-spacing-none a-color-base s-line-clamp-4']\")\n",
    "for i in tt:\n",
    "    tt=i.text\n",
    "    t1.append(tt)"
   ]
  },
  {
   "cell_type": "code",
   "execution_count": 180,
   "id": "c7ed7683",
   "metadata": {},
   "outputs": [],
   "source": [
    "pr=driver8.find_elements_by_xpath(\"//span[@class='a-price-whole']\")\n",
    "for i in pr:\n",
    "    pr=i.text\n",
    "    p1.append(pr)"
   ]
  },
  {
   "cell_type": "code",
   "execution_count": 181,
   "id": "36badc68",
   "metadata": {},
   "outputs": [
    {
     "data": {
      "text/html": [
       "<div>\n",
       "<style scoped>\n",
       "    .dataframe tbody tr th:only-of-type {\n",
       "        vertical-align: middle;\n",
       "    }\n",
       "\n",
       "    .dataframe tbody tr th {\n",
       "        vertical-align: top;\n",
       "    }\n",
       "\n",
       "    .dataframe thead th {\n",
       "        text-align: right;\n",
       "    }\n",
       "</style>\n",
       "<table border=\"1\" class=\"dataframe\">\n",
       "  <thead>\n",
       "    <tr style=\"text-align: right;\">\n",
       "      <th></th>\n",
       "      <th>Title</th>\n",
       "      <th>Price</th>\n",
       "    </tr>\n",
       "  </thead>\n",
       "  <tbody>\n",
       "    <tr>\n",
       "      <th>0</th>\n",
       "      <td>LG Gram 14 inches Ultra-Light Intel Evo 11th G...</td>\n",
       "      <td>88,499</td>\n",
       "    </tr>\n",
       "    <tr>\n",
       "      <th>1</th>\n",
       "      <td>MSI Modern 14, Intel i7-1195G7, 14\" FHD IPS-Le...</td>\n",
       "      <td>76,490</td>\n",
       "    </tr>\n",
       "    <tr>\n",
       "      <th>2</th>\n",
       "      <td>LG Gram Intel Evo 11th Gen Core i7 17 inches U...</td>\n",
       "      <td>93,999</td>\n",
       "    </tr>\n",
       "    <tr>\n",
       "      <th>3</th>\n",
       "      <td>ASUS VivoBook 14 (2021), 14-inch (35.56 cms) F...</td>\n",
       "      <td>57,490</td>\n",
       "    </tr>\n",
       "    <tr>\n",
       "      <th>4</th>\n",
       "      <td>ASUS TUF Gaming F15 (2021), 15.6\" (39.62 cms) ...</td>\n",
       "      <td>89,990</td>\n",
       "    </tr>\n",
       "    <tr>\n",
       "      <th>5</th>\n",
       "      <td>HP Pavilion 14, 11th Gen Intel Core i7-16GB RA...</td>\n",
       "      <td>86,990</td>\n",
       "    </tr>\n",
       "    <tr>\n",
       "      <th>6</th>\n",
       "      <td>Samsung Galaxy Book2 Intel 12th Gen core i7 Ev...</td>\n",
       "      <td>79,990</td>\n",
       "    </tr>\n",
       "    <tr>\n",
       "      <th>7</th>\n",
       "      <td>LG Gram Intel Evo 11th Gen Core i7 17 inches U...</td>\n",
       "      <td>93,999</td>\n",
       "    </tr>\n",
       "    <tr>\n",
       "      <th>8</th>\n",
       "      <td>LG Gram 16 inches Intel Evo 11th Gen Core i7 U...</td>\n",
       "      <td>1,01,112</td>\n",
       "    </tr>\n",
       "    <tr>\n",
       "      <th>9</th>\n",
       "      <td>Mi Notebook Ultra 3.2K Resolution Display Inte...</td>\n",
       "      <td>77,990</td>\n",
       "    </tr>\n",
       "  </tbody>\n",
       "</table>\n",
       "</div>"
      ],
      "text/plain": [
       "                                               Title     Price\n",
       "0  LG Gram 14 inches Ultra-Light Intel Evo 11th G...    88,499\n",
       "1  MSI Modern 14, Intel i7-1195G7, 14\" FHD IPS-Le...    76,490\n",
       "2  LG Gram Intel Evo 11th Gen Core i7 17 inches U...    93,999\n",
       "3  ASUS VivoBook 14 (2021), 14-inch (35.56 cms) F...    57,490\n",
       "4  ASUS TUF Gaming F15 (2021), 15.6\" (39.62 cms) ...    89,990\n",
       "5  HP Pavilion 14, 11th Gen Intel Core i7-16GB RA...    86,990\n",
       "6  Samsung Galaxy Book2 Intel 12th Gen core i7 Ev...    79,990\n",
       "7  LG Gram Intel Evo 11th Gen Core i7 17 inches U...    93,999\n",
       "8  LG Gram 16 inches Intel Evo 11th Gen Core i7 U...  1,01,112\n",
       "9  Mi Notebook Ultra 3.2K Resolution Display Inte...    77,990"
      ]
     },
     "execution_count": 181,
     "metadata": {},
     "output_type": "execute_result"
    }
   ],
   "source": [
    "data=pd.DataFrame({'Title':t1,'Price':p1})\n",
    "data.head(10)"
   ]
  },
  {
   "cell_type": "markdown",
   "id": "2408904b",
   "metadata": {},
   "source": [
    "# Q9: Write a python program to scrape data for first 10 job results for Data Scientist Designation in Noida location. You have to scrape company name, No. of days ago when job was posted, Rating of the company.\n",
    "This task will be done in following steps:\n"
   ]
  },
  {
   "cell_type": "code",
   "execution_count": 182,
   "id": "f9bc6d25",
   "metadata": {},
   "outputs": [],
   "source": [
    "import pandas as pd\n",
    "import selenium\n",
    "from selenium import webdriver\n",
    "import time\n",
    "import warnings\n",
    "warnings.filterwarnings('ignore')"
   ]
  },
  {
   "cell_type": "code",
   "execution_count": 183,
   "id": "807d5b5e",
   "metadata": {},
   "outputs": [],
   "source": [
    "driver=webdriver.Chrome(r\"C:\\Users\\ABC\\chromedriver.exe\")"
   ]
  },
  {
   "cell_type": "code",
   "execution_count": 184,
   "id": "011d30f1",
   "metadata": {},
   "outputs": [],
   "source": [
    "driver.get(\"https://www.ambitionbox.com/\")"
   ]
  },
  {
   "cell_type": "code",
   "execution_count": 185,
   "id": "6faf0678",
   "metadata": {},
   "outputs": [],
   "source": [
    "search_job=driver.find_element_by_xpath(\"/html/body/div[1]/nav/nav/a[6]\")\n",
    "search_job.click()"
   ]
  },
  {
   "cell_type": "code",
   "execution_count": 186,
   "id": "272db49f",
   "metadata": {},
   "outputs": [],
   "source": [
    "search_designation=driver.find_element_by_xpath(\"/html/body/div/div/div/div[2]/div[1]/div[1]/div/div/div/div/span/input\")\n",
    "search_designation.send_keys('Data Scientist')"
   ]
  },
  {
   "cell_type": "code",
   "execution_count": 187,
   "id": "740a431c",
   "metadata": {},
   "outputs": [],
   "source": [
    "search_button=driver.find_element_by_xpath(\"//button[@class='ab_btn search-btn round']\")\n",
    "search_button.click()"
   ]
  },
  {
   "cell_type": "code",
   "execution_count": 189,
   "id": "fc974d11",
   "metadata": {},
   "outputs": [],
   "source": [
    "search_loc=driver.find_element_by_xpath(\"/html/body/div/div/div/div[2]/div[1]/div[2]/div[1]/div/div/div/div[2]/div[1]/i\")\n",
    "search_loc.click()"
   ]
  },
  {
   "cell_type": "code",
   "execution_count": 190,
   "id": "3055f24e",
   "metadata": {},
   "outputs": [],
   "source": [
    "search_cityloc=driver.find_element_by_xpath(\"/html/body/div/div/div/div[2]/div[1]/div[2]/div[1]/div/div/div/div[2]/div[2]/div/div[2]/input\")\n",
    "search_cityloc.send_keys('Noida')"
   ]
  },
  {
   "cell_type": "code",
   "execution_count": 191,
   "id": "2b640520",
   "metadata": {},
   "outputs": [],
   "source": [
    "search_finalcityloc=driver.find_element_by_xpath(\"/html/body/div/div/div/div[2]/div[1]/div[2]/div[1]/div/div/div/div[2]/div[2]/div/div[3]/div[1]/div[1]/div/label\")\n",
    "search_finalcityloc.click()"
   ]
  },
  {
   "cell_type": "code",
   "execution_count": 200,
   "id": "b3633998",
   "metadata": {},
   "outputs": [],
   "source": [
    "company=[]\n",
    "company_name=driver.find_elements_by_xpath(\"//p[@class='company body-medium']\")\n",
    "for i in company_name :\n",
    "    company_name=i.text\n",
    "    company.append(company_name)"
   ]
  },
  {
   "cell_type": "code",
   "execution_count": 245,
   "id": "04fab7ae",
   "metadata": {},
   "outputs": [],
   "source": [
    "ddays_ago=[]\n",
    "days=driver.find_elements_by_xpath(\"//span[@class='body-small-l']\")\n",
    "for i in days :\n",
    "    days=i.text\n",
    "    ddays_ago.append(days)"
   ]
  },
  {
   "cell_type": "code",
   "execution_count": 203,
   "id": "81528027",
   "metadata": {},
   "outputs": [],
   "source": [
    "rating1=[]\n",
    "rating=driver.find_elements_by_xpath(\"//span[@class='body-small']\")\n",
    "for i in rating:\n",
    "    rating=i.text\n",
    "    rating1.append(rating)"
   ]
  },
  {
   "cell_type": "code",
   "execution_count": 307,
   "id": "bf7ba166",
   "metadata": {},
   "outputs": [],
   "source": [
    "# ddays_ago[0::2]"
   ]
  },
  {
   "cell_type": "code",
   "execution_count": 264,
   "id": "83e27bb6",
   "metadata": {},
   "outputs": [
    {
     "data": {
      "text/html": [
       "<div>\n",
       "<style scoped>\n",
       "    .dataframe tbody tr th:only-of-type {\n",
       "        vertical-align: middle;\n",
       "    }\n",
       "\n",
       "    .dataframe tbody tr th {\n",
       "        vertical-align: top;\n",
       "    }\n",
       "\n",
       "    .dataframe thead th {\n",
       "        text-align: right;\n",
       "    }\n",
       "</style>\n",
       "<table border=\"1\" class=\"dataframe\">\n",
       "  <thead>\n",
       "    <tr style=\"text-align: right;\">\n",
       "      <th></th>\n",
       "      <th>Company</th>\n",
       "      <th>Days_ago</th>\n",
       "      <th>Rating</th>\n",
       "    </tr>\n",
       "  </thead>\n",
       "  <tbody>\n",
       "    <tr>\n",
       "      <th>0</th>\n",
       "      <td>GENPACT India Private Limited</td>\n",
       "      <td>13d ago</td>\n",
       "      <td>4.0</td>\n",
       "    </tr>\n",
       "    <tr>\n",
       "      <th>1</th>\n",
       "      <td>EXL Services.com ( I ) Pvt. Ltd.</td>\n",
       "      <td>6d ago</td>\n",
       "      <td>3.9</td>\n",
       "    </tr>\n",
       "    <tr>\n",
       "      <th>2</th>\n",
       "      <td>GENPACT India Private Limited</td>\n",
       "      <td>18d ago</td>\n",
       "      <td>4.0</td>\n",
       "    </tr>\n",
       "    <tr>\n",
       "      <th>3</th>\n",
       "      <td>TECHNIP GLOBAL BUSINESS SERVICES PRIVATE LIMITED</td>\n",
       "      <td>4d ago</td>\n",
       "      <td>3.9</td>\n",
       "    </tr>\n",
       "    <tr>\n",
       "      <th>4</th>\n",
       "      <td>Tech Mahindra Ltd</td>\n",
       "      <td>1mon ago</td>\n",
       "      <td>3.7</td>\n",
       "    </tr>\n",
       "    <tr>\n",
       "      <th>5</th>\n",
       "      <td>GENPACT India Private Limited</td>\n",
       "      <td>1mon ago</td>\n",
       "      <td>4.0</td>\n",
       "    </tr>\n",
       "    <tr>\n",
       "      <th>6</th>\n",
       "      <td>Bristlecone India Limited</td>\n",
       "      <td>13d ago</td>\n",
       "      <td>3.8</td>\n",
       "    </tr>\n",
       "    <tr>\n",
       "      <th>7</th>\n",
       "      <td>Zyoin</td>\n",
       "      <td>17d ago</td>\n",
       "      <td>4.1</td>\n",
       "    </tr>\n",
       "    <tr>\n",
       "      <th>8</th>\n",
       "      <td>Ashkom Media India Private Limited</td>\n",
       "      <td>4d ago</td>\n",
       "      <td>3.7</td>\n",
       "    </tr>\n",
       "    <tr>\n",
       "      <th>9</th>\n",
       "      <td>Newgen Software Technologies Ltd.</td>\n",
       "      <td>19d ago</td>\n",
       "      <td>3.5</td>\n",
       "    </tr>\n",
       "  </tbody>\n",
       "</table>\n",
       "</div>"
      ],
      "text/plain": [
       "                                            Company  Days_ago Rating\n",
       "0                     GENPACT India Private Limited   13d ago    4.0\n",
       "1                  EXL Services.com ( I ) Pvt. Ltd.    6d ago    3.9\n",
       "2                     GENPACT India Private Limited   18d ago    4.0\n",
       "3  TECHNIP GLOBAL BUSINESS SERVICES PRIVATE LIMITED    4d ago    3.9\n",
       "4                                 Tech Mahindra Ltd  1mon ago    3.7\n",
       "5                     GENPACT India Private Limited  1mon ago    4.0\n",
       "6                         Bristlecone India Limited   13d ago    3.8\n",
       "7                                             Zyoin   17d ago    4.1\n",
       "8                Ashkom Media India Private Limited    4d ago    3.7\n",
       "9                 Newgen Software Technologies Ltd.   19d ago    3.5"
      ]
     },
     "execution_count": 264,
     "metadata": {},
     "output_type": "execute_result"
    }
   ],
   "source": [
    "data=pd.DataFrame({\"Company\":company,\"Days_ago\":ddays_ago[0::2],\"Rating\":rating1})\n",
    "data"
   ]
  },
  {
   "cell_type": "markdown",
   "id": "db3b3f76",
   "metadata": {},
   "source": [
    "# Q10: Write a python program to scrape the salary data for Data Scientist designation.\n",
    "You have to scrape Company name, Number of salaries, Average salary, Minsalary, Max Salary"
   ]
  },
  {
   "cell_type": "code",
   "execution_count": 284,
   "id": "9828863c",
   "metadata": {},
   "outputs": [],
   "source": [
    "import pandas as pd\n",
    "import selenium\n",
    "from selenium import webdriver\n",
    "import time\n",
    "import warnings\n",
    "warnings.filterwarnings(\"ignore\")"
   ]
  },
  {
   "cell_type": "code",
   "execution_count": 285,
   "id": "fdb66034",
   "metadata": {},
   "outputs": [],
   "source": [
    "driver=webdriver.Chrome(r\"C:\\Users\\ABC\\chromedriver.exe\")"
   ]
  },
  {
   "cell_type": "code",
   "execution_count": 286,
   "id": "dbdfa5c5",
   "metadata": {},
   "outputs": [],
   "source": [
    "driver.get(\"https://www.ambitionbox.com/\")"
   ]
  },
  {
   "cell_type": "code",
   "execution_count": 287,
   "id": "a2326cfa",
   "metadata": {},
   "outputs": [],
   "source": [
    "search_salaries=driver.find_element_by_xpath(\"/html/body/div[1]/nav/nav/a[4]\")\n",
    "search_salaries.click()"
   ]
  },
  {
   "cell_type": "code",
   "execution_count": 288,
   "id": "2e229de5",
   "metadata": {},
   "outputs": [],
   "source": [
    "search_job=driver.find_element_by_xpath(\"/html/body/div/div/div/main/section[3]/div[2]/a[2]\")\n",
    "search_job.click()"
   ]
  },
  {
   "cell_type": "code",
   "execution_count": 289,
   "id": "b61fb40a",
   "metadata": {},
   "outputs": [],
   "source": [
    "search_cl=driver.find_element_by_xpath(\"/html/body/div/div/div/main/section[1]/div[2]/div[2]/div/div[1]\")\n",
    "search_cl.click()"
   ]
  },
  {
   "cell_type": "code",
   "execution_count": 290,
   "id": "e168c4d1",
   "metadata": {},
   "outputs": [],
   "source": [
    "Company=[]\n",
    "Company_name=driver.find_elements_by_xpath(\"//div[@class='name']\")\n",
    "for i in Company_name:\n",
    "    Company_name=i.text\n",
    "    Company.append(Company_name)"
   ]
  },
  {
   "cell_type": "code",
   "execution_count": 291,
   "id": "35d371e5",
   "metadata": {},
   "outputs": [],
   "source": [
    "Min_Max_salary=[]\n",
    "maxs=driver.find_elements_by_xpath(\"//div[@class='salary-values']\")\n",
    "for i in maxs:\n",
    "    maxs=i.text\n",
    "    Min_Max_salary.append(maxs)"
   ]
  },
  {
   "cell_type": "code",
   "execution_count": 292,
   "id": "585e8f91",
   "metadata": {},
   "outputs": [],
   "source": [
    "Avg_salary=[]\n",
    "avg=driver.find_elements_by_xpath(\"//p[@class='averageCtc']\")\n",
    "for i in avg:\n",
    "    avg=i.text\n",
    "    Avg_salary.append(avg)"
   ]
  },
  {
   "cell_type": "code",
   "execution_count": 293,
   "id": "5a7e1247",
   "metadata": {},
   "outputs": [],
   "source": [
    "Experience_required=[]\n",
    "er=driver.find_elements_by_xpath(\"//div[@class='salaries sbold-list-header']\")\n",
    "for i in er:\n",
    "    er=i.text\n",
    "    Experience_required.append(er)"
   ]
  },
  {
   "cell_type": "code",
   "execution_count": 295,
   "id": "0cb40bf4",
   "metadata": {},
   "outputs": [],
   "source": [
    "Min_salary=[]\n",
    "for i in Min_Max_salary:\n",
    "    Min_salary.append(i[0:7])"
   ]
  },
  {
   "cell_type": "code",
   "execution_count": 296,
   "id": "50d60903",
   "metadata": {},
   "outputs": [],
   "source": [
    "Max_salary=[]\n",
    "for i in Min_Max_salary:\n",
    "    Max_salary.append(i[7:])"
   ]
  },
  {
   "cell_type": "code",
   "execution_count": 298,
   "id": "2fe525cc",
   "metadata": {},
   "outputs": [],
   "source": [
    "Designation=[]\n",
    "for i in Experience_required:\n",
    "    Designation.append(i[0:14])"
   ]
  },
  {
   "cell_type": "code",
   "execution_count": 299,
   "id": "b9887c23",
   "metadata": {},
   "outputs": [],
   "source": [
    "Experience_Required=[]\n",
    "for i in Experience_required:\n",
    "    Experience_Required.append(i[19:])"
   ]
  },
  {
   "cell_type": "code",
   "execution_count": 306,
   "id": "aa24fe41",
   "metadata": {},
   "outputs": [],
   "source": [
    "Data10=pd.DataFrame({'Company':company,\"Designation\":Designation,'Experience_Required':Experience_Required,\"Min_salary\":Min_salary,'Avg_salary':Avg_salary,\"Max_salary\":Max_salary})"
   ]
  },
  {
   "cell_type": "code",
   "execution_count": 304,
   "id": "4abc49e2",
   "metadata": {},
   "outputs": [],
   "source": [
    "Data10['Min_salary']=[x.strip(\"\\n\") for x in Data10['Min_salary']]\n",
    "Data10['Max_salary']=[x.strip(\"\\n\") for x in Data10['Max_salary']]\n"
   ]
  },
  {
   "cell_type": "code",
   "execution_count": 305,
   "id": "77c9e2b7",
   "metadata": {},
   "outputs": [
    {
     "data": {
      "text/html": [
       "<div>\n",
       "<style scoped>\n",
       "    .dataframe tbody tr th:only-of-type {\n",
       "        vertical-align: middle;\n",
       "    }\n",
       "\n",
       "    .dataframe tbody tr th {\n",
       "        vertical-align: top;\n",
       "    }\n",
       "\n",
       "    .dataframe thead th {\n",
       "        text-align: right;\n",
       "    }\n",
       "</style>\n",
       "<table border=\"1\" class=\"dataframe\">\n",
       "  <thead>\n",
       "    <tr style=\"text-align: right;\">\n",
       "      <th></th>\n",
       "      <th>Company</th>\n",
       "      <th>Designation</th>\n",
       "      <th>Experience_Required</th>\n",
       "      <th>Min_salary</th>\n",
       "      <th>Avg_salary</th>\n",
       "      <th>Max_salary</th>\n",
       "    </tr>\n",
       "  </thead>\n",
       "  <tbody>\n",
       "    <tr>\n",
       "      <th>0</th>\n",
       "      <td>GENPACT India Private Limited</td>\n",
       "      <td>Data Scientist</td>\n",
       "      <td>3 yrs exp</td>\n",
       "      <td>₹ 25.0L</td>\n",
       "      <td>₹ 29.7L</td>\n",
       "      <td>₹ 35.0L</td>\n",
       "    </tr>\n",
       "    <tr>\n",
       "      <th>1</th>\n",
       "      <td>EXL Services.com ( I ) Pvt. Ltd.</td>\n",
       "      <td>Data Scientist</td>\n",
       "      <td>3-4 yrs exp</td>\n",
       "      <td>₹ 15.0L</td>\n",
       "      <td>₹ 20.5L</td>\n",
       "      <td>₹ 25.5L</td>\n",
       "    </tr>\n",
       "    <tr>\n",
       "      <th>2</th>\n",
       "      <td>GENPACT India Private Limited</td>\n",
       "      <td>Data Scientist</td>\n",
       "      <td>4 yrs exp</td>\n",
       "      <td>₹ 5.6L</td>\n",
       "      <td>₹ 18.9L</td>\n",
       "      <td>₹ 26.2L</td>\n",
       "    </tr>\n",
       "    <tr>\n",
       "      <th>3</th>\n",
       "      <td>TECHNIP GLOBAL BUSINESS SERVICES PRIVATE LIMITED</td>\n",
       "      <td>Data Scientist</td>\n",
       "      <td>2 yrs exp</td>\n",
       "      <td>₹ 9.8L</td>\n",
       "      <td>₹ 15.9L</td>\n",
       "      <td>₹ 20.0L</td>\n",
       "    </tr>\n",
       "    <tr>\n",
       "      <th>4</th>\n",
       "      <td>Tech Mahindra Ltd</td>\n",
       "      <td>Data Scientist</td>\n",
       "      <td>3-4 yrs exp</td>\n",
       "      <td>₹ 11.0L</td>\n",
       "      <td>₹ 15.2L</td>\n",
       "      <td>₹ 22.0L</td>\n",
       "    </tr>\n",
       "    <tr>\n",
       "      <th>5</th>\n",
       "      <td>GENPACT India Private Limited</td>\n",
       "      <td>Data Scientist</td>\n",
       "      <td>2-4 yrs exp</td>\n",
       "      <td>₹ 9.5L</td>\n",
       "      <td>₹ 15.2L</td>\n",
       "      <td>₹ 22.0L</td>\n",
       "    </tr>\n",
       "    <tr>\n",
       "      <th>6</th>\n",
       "      <td>Bristlecone India Limited</td>\n",
       "      <td>Data Scientist</td>\n",
       "      <td>2-4 yrs exp</td>\n",
       "      <td>₹ 9.0L</td>\n",
       "      <td>₹ 14.8L</td>\n",
       "      <td>₹ 20.0L</td>\n",
       "    </tr>\n",
       "    <tr>\n",
       "      <th>7</th>\n",
       "      <td>Zyoin</td>\n",
       "      <td>Data Scientist</td>\n",
       "      <td>2-4 yrs exp</td>\n",
       "      <td>₹ 8.3L</td>\n",
       "      <td>₹ 14.0L</td>\n",
       "      <td>₹ 20.5L</td>\n",
       "    </tr>\n",
       "    <tr>\n",
       "      <th>8</th>\n",
       "      <td>Ashkom Media India Private Limited</td>\n",
       "      <td>Data Scientist</td>\n",
       "      <td>4 yrs exp</td>\n",
       "      <td>₹ 10.0L</td>\n",
       "      <td>₹ 12.7L</td>\n",
       "      <td>₹ 21.0L</td>\n",
       "    </tr>\n",
       "    <tr>\n",
       "      <th>9</th>\n",
       "      <td>Newgen Software Technologies Ltd.</td>\n",
       "      <td>Data Scientist</td>\n",
       "      <td>4 yrs exp</td>\n",
       "      <td>₹ 8.5L</td>\n",
       "      <td>₹ 12.4L</td>\n",
       "      <td>₹ 15.0L</td>\n",
       "    </tr>\n",
       "  </tbody>\n",
       "</table>\n",
       "</div>"
      ],
      "text/plain": [
       "                                            Company     Designation  \\\n",
       "0                     GENPACT India Private Limited  Data Scientist   \n",
       "1                  EXL Services.com ( I ) Pvt. Ltd.  Data Scientist   \n",
       "2                     GENPACT India Private Limited  Data Scientist   \n",
       "3  TECHNIP GLOBAL BUSINESS SERVICES PRIVATE LIMITED  Data Scientist   \n",
       "4                                 Tech Mahindra Ltd  Data Scientist   \n",
       "5                     GENPACT India Private Limited  Data Scientist   \n",
       "6                         Bristlecone India Limited  Data Scientist   \n",
       "7                                             Zyoin  Data Scientist   \n",
       "8                Ashkom Media India Private Limited  Data Scientist   \n",
       "9                 Newgen Software Technologies Ltd.  Data Scientist   \n",
       "\n",
       "  Experience_Required Min_salary Avg_salary Max_salary  \n",
       "0           3 yrs exp    ₹ 25.0L    ₹ 29.7L    ₹ 35.0L  \n",
       "1         3-4 yrs exp    ₹ 15.0L    ₹ 20.5L    ₹ 25.5L  \n",
       "2           4 yrs exp     ₹ 5.6L    ₹ 18.9L    ₹ 26.2L  \n",
       "3           2 yrs exp     ₹ 9.8L    ₹ 15.9L    ₹ 20.0L  \n",
       "4         3-4 yrs exp    ₹ 11.0L    ₹ 15.2L    ₹ 22.0L  \n",
       "5         2-4 yrs exp     ₹ 9.5L    ₹ 15.2L    ₹ 22.0L  \n",
       "6         2-4 yrs exp     ₹ 9.0L    ₹ 14.8L    ₹ 20.0L  \n",
       "7         2-4 yrs exp     ₹ 8.3L    ₹ 14.0L    ₹ 20.5L  \n",
       "8           4 yrs exp    ₹ 10.0L    ₹ 12.7L    ₹ 21.0L  \n",
       "9           4 yrs exp     ₹ 8.5L    ₹ 12.4L    ₹ 15.0L  "
      ]
     },
     "execution_count": 305,
     "metadata": {},
     "output_type": "execute_result"
    }
   ],
   "source": [
    "Data10"
   ]
  },
  {
   "cell_type": "code",
   "execution_count": null,
   "id": "0e797ec5",
   "metadata": {},
   "outputs": [],
   "source": []
  },
  {
   "cell_type": "code",
   "execution_count": null,
   "id": "f68b945c",
   "metadata": {},
   "outputs": [],
   "source": []
  },
  {
   "cell_type": "code",
   "execution_count": null,
   "id": "30bfa057",
   "metadata": {},
   "outputs": [],
   "source": []
  },
  {
   "cell_type": "code",
   "execution_count": null,
   "id": "a59ec974",
   "metadata": {},
   "outputs": [],
   "source": []
  },
  {
   "cell_type": "code",
   "execution_count": null,
   "id": "1218f861",
   "metadata": {},
   "outputs": [],
   "source": []
  },
  {
   "cell_type": "code",
   "execution_count": null,
   "id": "63c4b11f",
   "metadata": {},
   "outputs": [],
   "source": []
  },
  {
   "cell_type": "code",
   "execution_count": null,
   "id": "5d566d13",
   "metadata": {},
   "outputs": [],
   "source": []
  },
  {
   "cell_type": "code",
   "execution_count": null,
   "id": "c2f85378",
   "metadata": {},
   "outputs": [],
   "source": []
  }
 ],
 "metadata": {
  "kernelspec": {
   "display_name": "Python 3 (ipykernel)",
   "language": "python",
   "name": "python3"
  },
  "language_info": {
   "codemirror_mode": {
    "name": "ipython",
    "version": 3
   },
   "file_extension": ".py",
   "mimetype": "text/x-python",
   "name": "python",
   "nbconvert_exporter": "python",
   "pygments_lexer": "ipython3",
   "version": "3.9.7"
  }
 },
 "nbformat": 4,
 "nbformat_minor": 5
}
