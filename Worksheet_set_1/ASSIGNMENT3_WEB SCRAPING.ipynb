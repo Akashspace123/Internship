{
 "cells": [
  {
   "cell_type": "markdown",
   "id": "f4c4ab26",
   "metadata": {},
   "source": [
    "1) Write a python program which searches all the product under a particular product from www.amazon.in. \n",
    "The product to be searched will be taken as input from user. For e.g. If user input is ‘guitar’. Then search \n",
    "for guitars."
   ]
  },
  {
   "cell_type": "code",
   "execution_count": 2,
   "id": "b5e0c02a",
   "metadata": {},
   "outputs": [],
   "source": [
    "import pandas as pd\n",
    "import selenium \n",
    "from selenium import webdriver\n",
    "import time\n",
    "import warnings\n",
    "warnings.filterwarnings(\"ignore\")  "
   ]
  },
  {
   "cell_type": "code",
   "execution_count": 3,
   "id": "9499a051",
   "metadata": {},
   "outputs": [],
   "source": [
    "driver=webdriver.Chrome(r\"C:\\Users\\ABC\\chromedriver.exe\")"
   ]
  },
  {
   "cell_type": "code",
   "execution_count": 4,
   "id": "7f5275df",
   "metadata": {},
   "outputs": [],
   "source": [
    "driver.get(\"https://www.amazon.in/\")\n",
    "time.sleep(1)"
   ]
  },
  {
   "cell_type": "code",
   "execution_count": 5,
   "id": "d2a9734b",
   "metadata": {},
   "outputs": [
    {
     "name": "stdout",
     "output_type": "stream",
     "text": [
      "You have to search only in Electronic category \n",
      "\n",
      "Enter the product name :laptops\n"
     ]
    }
   ],
   "source": [
    "print(\"You have to search only in Electronic category \\n\")\n",
    "product=input(\"Enter the product name :\")"
   ]
  },
  {
   "cell_type": "code",
   "execution_count": 6,
   "id": "d67aeefc",
   "metadata": {},
   "outputs": [],
   "source": [
    "click_2=driver.find_element_by_xpath(\"/html/body/div[1]/header/div/div[1]/div[2]/div/form/div[2]/div[1]/input\")\n",
    "click_2.send_keys(product)"
   ]
  },
  {
   "cell_type": "code",
   "execution_count": 7,
   "id": "44fd4f6e",
   "metadata": {},
   "outputs": [],
   "source": [
    "img=driver.find_element_by_xpath(\"/html/body/div[1]/header/div/div[1]/div[2]/div/form/div[3]/div/span/input\")\n",
    "img.click()\n",
    "time.sleep(2)"
   ]
  },
  {
   "cell_type": "code",
   "execution_count": 8,
   "id": "4da59d6c",
   "metadata": {},
   "outputs": [],
   "source": [
    "product_opening_urls = []\n",
    "\n",
    "for i in range(0,2):                                                  \n",
    "    url=driver.find_elements_by_xpath(\"//a[@class='a-link-normal s-no-outline']\")\n",
    "    time.sleep(4)                       \n",
    "    for k in url:\n",
    "        product_opening_urls.append(k.get_attribute(\"href\"))                        \n",
    "        time.sleep(4)\n",
    "    nxt_button=driver.find_element_by_xpath(\"//a[@class='s-pagination-item s-pagination-next s-pagination-button s-pagination-separator']\")     #scraping the list of buttons from the pag\n",
    "    nxt_button.click()\n",
    "    time.sleep(4)"
   ]
  },
  {
   "cell_type": "code",
   "execution_count": 23,
   "id": "1d888074",
   "metadata": {},
   "outputs": [],
   "source": [
    "product=[]\n",
    "for i in product_opening_urls :\n",
    "    driver.get(i)\n",
    "    \n",
    "    for k in driver.find_elements_by_xpath(\"//h1[@class='a-size-large a-spacing-none']\"):\n",
    "        if k.text is None:\n",
    "            product.append(\"--\")\n",
    "        else:    \n",
    "            product.append(k.text)"
   ]
  },
  {
   "cell_type": "code",
   "execution_count": 25,
   "id": "84696403",
   "metadata": {},
   "outputs": [
    {
     "name": "stdout",
     "output_type": "stream",
     "text": [
      "length 48\n"
     ]
    },
    {
     "data": {
      "text/plain": [
       "0    HP 14s 11th Gen Intel Core i3- 8GB RAM/256GB S...\n",
       "1    Lenovo IdeaPad 3 10th Gen Intel Core i5 15.6\" ...\n",
       "2    Lenovo IdeaPad 3 Intel Celeron N4020 14'' HD T...\n",
       "3    Asus Vivobook 15 X1502ZA-BQ501WS Intel® Core™ ...\n",
       "4    ASUS VivoBook 15 (2021), 15.6-inch (39.62 cm) ...\n",
       "dtype: object"
      ]
     },
     "execution_count": 25,
     "metadata": {},
     "output_type": "execute_result"
    }
   ],
   "source": [
    "pp=pd.Series(product)\n",
    "print(\"length\",len(product))\n",
    "pp.head(5)"
   ]
  },
  {
   "cell_type": "markdown",
   "id": "adba9c61",
   "metadata": {},
   "source": [
    "2) In the above question, now scrape the following details of each product listed in first 3 pages of your \n",
    "search results and save it in a data frame and csv. In case if any product has less than 3 pages in search \n",
    "results then scrape all the products available under that product name. Details to be scraped are: \"Brand \n",
    "Name\", \"Name of the Product\", \"Price\", \"Return/Exchange\", \"Expected Delivery\", \"Availability\" and \n",
    "“Product URL”. In case, if any of the details are missing for any of the product then replace it by “-“."
   ]
  },
  {
   "cell_type": "code",
   "execution_count": 43,
   "id": "780600b3",
   "metadata": {},
   "outputs": [],
   "source": [
    "from selenium.common.exceptions import NoSuchElementException, StaleElementReferenceException,InvalidArgumentException,WebDriverException"
   ]
  },
  {
   "cell_type": "code",
   "execution_count": 92,
   "id": "dc3c9cfb",
   "metadata": {},
   "outputs": [],
   "source": [
    "Price=[]\n",
    "\n",
    "for url in product_opening_urls:\n",
    "    driver.get(url)\n",
    "    time.sleep(2)\n",
    "    \n",
    "    try:\n",
    "        prc=driver.find_element_by_xpath('//div[@class=\"a-section a-spacing-none aok-align-center\"]')\n",
    "        Price.append(prc.text)\n",
    "    except NoSuchElementException:\n",
    "        Price.append('--')  "
   ]
  },
  {
   "cell_type": "code",
   "execution_count": 114,
   "id": "4ab28ae8",
   "metadata": {},
   "outputs": [],
   "source": [
    "pp=[]\n",
    "for i in range(len(Price)):\n",
    "    pp.append(Price[i][5:13])\n",
    "    "
   ]
  },
  {
   "cell_type": "code",
   "execution_count": 81,
   "id": "f78eb901",
   "metadata": {},
   "outputs": [],
   "source": [
    "Availability=[]\n",
    "\n",
    "for i in product_opening_urls:\n",
    "    driver.get(i)\n",
    "    \n",
    "    av=driver.find_elements_by_xpath(\"//div[@class='a-section a-spacing-none }']\")\n",
    "    for k in av:\n",
    "        if k.text is None:\n",
    "            Availability.append(\"--\") \n",
    "        else:\n",
    "            Availability.append(k.text)"
   ]
  },
  {
   "cell_type": "code",
   "execution_count": 117,
   "id": "4aaf5ad6",
   "metadata": {},
   "outputs": [
    {
     "data": {
      "text/html": [
       "<div>\n",
       "<style scoped>\n",
       "    .dataframe tbody tr th:only-of-type {\n",
       "        vertical-align: middle;\n",
       "    }\n",
       "\n",
       "    .dataframe tbody tr th {\n",
       "        vertical-align: top;\n",
       "    }\n",
       "\n",
       "    .dataframe thead th {\n",
       "        text-align: right;\n",
       "    }\n",
       "</style>\n",
       "<table border=\"1\" class=\"dataframe\">\n",
       "  <thead>\n",
       "    <tr style=\"text-align: right;\">\n",
       "      <th></th>\n",
       "      <th>Name of the Product</th>\n",
       "      <th>Price</th>\n",
       "      <th>Availability</th>\n",
       "      <th>Product URL</th>\n",
       "    </tr>\n",
       "  </thead>\n",
       "  <tbody>\n",
       "    <tr>\n",
       "      <th>0</th>\n",
       "      <td>HP 14s 11th Gen Intel Core i3- 8GB RAM/256GB S...</td>\n",
       "      <td>₹38,990\\n</td>\n",
       "      <td>In stock.</td>\n",
       "      <td>https://www.amazon.in/gp/slredirect/picassoRed...</td>\n",
       "    </tr>\n",
       "    <tr>\n",
       "      <th>1</th>\n",
       "      <td>Lenovo IdeaPad 3 10th Gen Intel Core i5 15.6\" ...</td>\n",
       "      <td>₹45,790\\n</td>\n",
       "      <td>Only 1 left in stock.</td>\n",
       "      <td>https://www.amazon.in/gp/slredirect/picassoRed...</td>\n",
       "    </tr>\n",
       "    <tr>\n",
       "      <th>2</th>\n",
       "      <td>Lenovo IdeaPad 3 Intel Celeron N4020 14'' HD T...</td>\n",
       "      <td>₹27,942\\n</td>\n",
       "      <td>In stock.</td>\n",
       "      <td>https://www.amazon.in/Lenovo-IdeaPad-Celeron-P...</td>\n",
       "    </tr>\n",
       "  </tbody>\n",
       "</table>\n",
       "</div>"
      ],
      "text/plain": [
       "                                 Name of the Product      Price  \\\n",
       "0  HP 14s 11th Gen Intel Core i3- 8GB RAM/256GB S...  ₹38,990\\n   \n",
       "1  Lenovo IdeaPad 3 10th Gen Intel Core i5 15.6\" ...  ₹45,790\\n   \n",
       "2  Lenovo IdeaPad 3 Intel Celeron N4020 14'' HD T...  ₹27,942\\n   \n",
       "\n",
       "            Availability                                        Product URL  \n",
       "0              In stock.  https://www.amazon.in/gp/slredirect/picassoRed...  \n",
       "1  Only 1 left in stock.  https://www.amazon.in/gp/slredirect/picassoRed...  \n",
       "2              In stock.  https://www.amazon.in/Lenovo-IdeaPad-Celeron-P...  "
      ]
     },
     "execution_count": 117,
     "metadata": {},
     "output_type": "execute_result"
    }
   ],
   "source": [
    "data=pd.DataFrame({\"Name of the Product\":product,\n",
    "                  \"Price\":pp,\n",
    "                  \"Availability\":Availability,\n",
    "                  \"Product URL\":product_opening_urls})\n",
    "data.head()"
   ]
  },
  {
   "cell_type": "markdown",
   "id": "3fa7e82a",
   "metadata": {},
   "source": [
    "3) Write a python program to access the search bar and search button on images.google.com and scrape 10\n",
    "images each for keywords ‘fruits’, ‘cars’ and ‘Machine Learning’, ‘Guitar’, ‘Cakes’."
   ]
  },
  {
   "cell_type": "code",
   "execution_count": 23,
   "id": "e6b0a6f6",
   "metadata": {},
   "outputs": [],
   "source": [
    "import pandas as pd\n",
    "import time\n",
    "import warnings\n",
    "warnings.filterwarnings('ignore')\n",
    "import selenium\n",
    "from selenium import webdriver\n",
    "import requests"
   ]
  },
  {
   "cell_type": "code",
   "execution_count": 24,
   "id": "d6326a7d",
   "metadata": {},
   "outputs": [],
   "source": [
    "driver_1=webdriver.Chrome(r\"C:\\Users\\ABC\\chromedriver.exe\")\n",
    "driver_2=webdriver.Chrome(r\"C:\\Users\\ABC\\chromedriver.exe\")\n",
    "driver_3=webdriver.Chrome(r\"C:\\Users\\ABC\\chromedriver.exe\")\n",
    "driver_4=webdriver.Chrome(r\"C:\\Users\\ABC\\chromedriver.exe\")\n",
    "driver_5=webdriver.Chrome(r\"C:\\Users\\ABC\\chromedriver.exe\")"
   ]
  },
  {
   "cell_type": "code",
   "execution_count": 25,
   "id": "f1f18432",
   "metadata": {},
   "outputs": [
    {
     "name": "stdout",
     "output_type": "stream",
     "text": [
      "Type the name : fruits\n",
      "Type the name : cars\n",
      "Type the name : machine learning\n",
      "Type the name : guitar\n",
      "Type the name : cakes\n"
     ]
    }
   ],
   "source": [
    "search_1=input(\"Type the name : \")\n",
    "search_2=input(\"Type the name : \")\n",
    "search_3=input(\"Type the name : \")\n",
    "search_4=input(\"Type the name : \")\n",
    "search_5=input(\"Type the name : \")"
   ]
  },
  {
   "cell_type": "code",
   "execution_count": 26,
   "id": "4df109d9",
   "metadata": {},
   "outputs": [],
   "source": [
    "driver_1.get(\"https://images.google.com/?gws_rd=ssl\")\n",
    "driver_2.get(\"https://images.google.com/?gws_rd=ssl\")\n",
    "driver_3.get(\"https://images.google.com/?gws_rd=ssl\")\n",
    "driver_4.get(\"https://images.google.com/?gws_rd=ssl\")\n",
    "driver_5.get(\"https://images.google.com/?gws_rd=ssl\")"
   ]
  },
  {
   "cell_type": "code",
   "execution_count": 27,
   "id": "32a173d6",
   "metadata": {},
   "outputs": [],
   "source": [
    "cli_1=driver_1.find_element_by_xpath(\"/html/body/div[1]/div[3]/form/div[1]/div[1]/div[1]/div/div[2]/input\")\n",
    "cli_1.send_keys(search_1)\n",
    "cli_2=driver_2.find_element_by_xpath(\"/html/body/div[1]/div[3]/form/div[1]/div[1]/div[1]/div/div[2]/input\")\n",
    "cli_2.send_keys(search_2)\n",
    "cli_3=driver_3.find_element_by_xpath(\"/html/body/div[1]/div[3]/form/div[1]/div[1]/div[1]/div/div[2]/input\")\n",
    "cli_3.send_keys(search_3)\n",
    "cli_4=driver_4.find_element_by_xpath(\"/html/body/div[1]/div[3]/form/div[1]/div[1]/div[1]/div/div[2]/input\")\n",
    "cli_4.send_keys(search_4)\n",
    "cli_5=driver_5.find_element_by_xpath(\"/html/body/div[1]/div[3]/form/div[1]/div[1]/div[1]/div/div[2]/input\")\n",
    "cli_5.send_keys(search_5)"
   ]
  },
  {
   "cell_type": "code",
   "execution_count": 28,
   "id": "3272ce7e",
   "metadata": {},
   "outputs": [],
   "source": [
    "clc_1=driver_1.find_element_by_xpath(\"//div[@class='zgAlFc']\")\n",
    "clc_1.click()\n",
    "clc_2=driver_2.find_element_by_xpath(\"//div[@class='zgAlFc']\")\n",
    "clc_2.click()\n",
    "clc_3=driver_3.find_element_by_xpath(\"//div[@class='zgAlFc']\")\n",
    "clc_3.click()\n",
    "clc_4=driver_4.find_element_by_xpath(\"//div[@class='zgAlFc']\")\n",
    "clc_4.click()\n",
    "clc_5=driver_5.find_element_by_xpath(\"//div[@class='zgAlFc']\")\n",
    "clc_5.click()"
   ]
  },
  {
   "cell_type": "code",
   "execution_count": 29,
   "id": "e635d111",
   "metadata": {},
   "outputs": [],
   "source": [
    "for i in range(20):\n",
    "    driver_1.execute_script(\"window.scrollBy(0,1000)\")\n",
    "    driver_2.execute_script(\"window.scrollBy(0,1000)\")\n",
    "    driver_3.execute_script(\"window.scrollBy(0,1000)\")\n",
    "    driver_4.execute_script(\"window.scrollBy(0,1000)\")\n",
    "    driver_5.execute_script(\"window.scrollBy(0,1000)\")\n",
    "\n",
    "images_1=driver_1.find_elements_by_xpath(\"//img[@class='rg_i Q4LuWd']\")\n",
    "images_2=driver_2.find_elements_by_xpath(\"//img[@class='rg_i Q4LuWd']\")\n",
    "images_3=driver_3.find_elements_by_xpath(\"//img[@class='rg_i Q4LuWd']\")\n",
    "images_4=driver_4.find_elements_by_xpath(\"//img[@class='rg_i Q4LuWd']\")\n",
    "images_5=driver_5.find_elements_by_xpath(\"//img[@class='rg_i Q4LuWd']\")\n",
    "\n",
    "img_url_1=[]\n",
    "img_data_1=[]\n",
    "img_url_2=[]\n",
    "img_data_2=[]\n",
    "img_url_3=[]\n",
    "img_data_3=[]\n",
    "img_url_4=[]\n",
    "img_data_4=[]\n",
    "img_url_5=[]\n",
    "img_data_5=[]                "
   ]
  },
  {
   "cell_type": "code",
   "execution_count": 42,
   "id": "bfdc33e2",
   "metadata": {},
   "outputs": [],
   "source": [
    "for image in images_1:\n",
    "    pict_1=image.get_attribute(\"src\")\n",
    "    if pict_1 is not None:\n",
    "        if(pict_1[0:4]=='http'):\n",
    "            img_url_1.append(pict_1)"
   ]
  },
  {
   "cell_type": "code",
   "execution_count": 43,
   "id": "94295ec6",
   "metadata": {},
   "outputs": [
    {
     "name": "stdout",
     "output_type": "stream",
     "text": [
      "Downloading 0 of 10 images\n",
      "Downloading 1 of 10 images\n",
      "Downloading 2 of 10 images\n",
      "Downloading 3 of 10 images\n",
      "Downloading 4 of 10 images\n",
      "Downloading 5 of 10 images\n",
      "Downloading 6 of 10 images\n",
      "Downloading 7 of 10 images\n",
      "Downloading 8 of 10 images\n",
      "Downloading 9 of 10 images\n",
      "Downloading 10 of 10 images\n"
     ]
    }
   ],
   "source": [
    "for i in range(len(img_url_1)):\n",
    "    if i>10:\n",
    "        break    \n",
    "    print(\"Downloading {0} of {1} images\" .format(i,10))\n",
    "    responce=requests.get(img_url_1[i])\n",
    "    file=open(r\"D:\\New folder\\New folder\" + str(i)+\" .jpg\",\"wb\")\n",
    "    file.write(responce.content)"
   ]
  },
  {
   "cell_type": "code",
   "execution_count": 44,
   "id": "97ac9712",
   "metadata": {},
   "outputs": [],
   "source": [
    "for image in images_2:\n",
    "    pict_2=image.get_attribute(\"src\")\n",
    "    if pict_2 is not None:\n",
    "        if(pict_2[0:4]=='http'):\n",
    "            img_url_2.append(pict_2)"
   ]
  },
  {
   "cell_type": "code",
   "execution_count": 45,
   "id": "3a8a87e4",
   "metadata": {},
   "outputs": [
    {
     "name": "stdout",
     "output_type": "stream",
     "text": [
      "Downloading 0 of 10 images\n",
      "Downloading 1 of 10 images\n",
      "Downloading 2 of 10 images\n",
      "Downloading 3 of 10 images\n",
      "Downloading 4 of 10 images\n",
      "Downloading 5 of 10 images\n",
      "Downloading 6 of 10 images\n",
      "Downloading 7 of 10 images\n",
      "Downloading 8 of 10 images\n",
      "Downloading 9 of 10 images\n",
      "Downloading 10 of 10 images\n"
     ]
    }
   ],
   "source": [
    "for i in range(len(img_url_2)):\n",
    "    if i>10:\n",
    "        break    \n",
    "    print(\"Downloading {0} of {1} images\" .format(i,10))\n",
    "    responce=requests.get(img_url_2[i])\n",
    "    file=open(r\"D:\\New folder\\New folder (2)\" + str(i)+\" .jpg\",\"wb\")\n",
    "    file.write(responce.content)"
   ]
  },
  {
   "cell_type": "code",
   "execution_count": 46,
   "id": "a1f1778d",
   "metadata": {},
   "outputs": [
    {
     "name": "stdout",
     "output_type": "stream",
     "text": [
      "Downloading 0 of 10 images\n",
      "Downloading 1 of 10 images\n",
      "Downloading 2 of 10 images\n",
      "Downloading 3 of 10 images\n",
      "Downloading 4 of 10 images\n",
      "Downloading 5 of 10 images\n",
      "Downloading 6 of 10 images\n",
      "Downloading 7 of 10 images\n",
      "Downloading 8 of 10 images\n",
      "Downloading 9 of 10 images\n",
      "Downloading 10 of 10 images\n"
     ]
    }
   ],
   "source": [
    "for image in images_3:\n",
    "    pict_3=image.get_attribute(\"src\")\n",
    "    if pict_3 is not None:\n",
    "        if(pict_3[0:4]=='http'):\n",
    "            img_url_3.append(pict_3)\n",
    "\n",
    "for i in range(len(img_url_3)):\n",
    "    if i>10:\n",
    "        break    \n",
    "    print(\"Downloading {0} of {1} images\" .format(i,10))\n",
    "    responce=requests.get(img_url_3[i])\n",
    "    file=open(r\"D:\\New folder\\New folder (3)\" + str(i)+\" .jpg\",\"wb\")\n",
    "    file.write(responce.content)"
   ]
  },
  {
   "cell_type": "code",
   "execution_count": 47,
   "id": "77f93129",
   "metadata": {},
   "outputs": [
    {
     "name": "stdout",
     "output_type": "stream",
     "text": [
      "Downloading 0 of 10 images\n",
      "Downloading 1 of 10 images\n",
      "Downloading 2 of 10 images\n",
      "Downloading 3 of 10 images\n",
      "Downloading 4 of 10 images\n",
      "Downloading 5 of 10 images\n",
      "Downloading 6 of 10 images\n",
      "Downloading 7 of 10 images\n",
      "Downloading 8 of 10 images\n",
      "Downloading 9 of 10 images\n",
      "Downloading 10 of 10 images\n"
     ]
    }
   ],
   "source": [
    "for image in images_4:\n",
    "    pict_4=image.get_attribute(\"src\")\n",
    "    if pict_4 is not None:\n",
    "        if(pict_4[0:4]=='http'):\n",
    "            img_url_4.append(pict_4)\n",
    "\n",
    "for i in range(len(img_url_4)):\n",
    "    if i>10:\n",
    "        break    \n",
    "    print(\"Downloading {0} of {1} images\" .format(i,10))\n",
    "    responce=requests.get(img_url_4[i])\n",
    "    file=open(r\"D:\\New folder\\New folder (4)\" + str(i)+\" .jpg\",\"wb\")\n",
    "    file.write(responce.content) "
   ]
  },
  {
   "cell_type": "code",
   "execution_count": 48,
   "id": "50290ada",
   "metadata": {},
   "outputs": [
    {
     "name": "stdout",
     "output_type": "stream",
     "text": [
      "Downloading 0 of 10 images\n",
      "Downloading 1 of 10 images\n",
      "Downloading 2 of 10 images\n",
      "Downloading 3 of 10 images\n",
      "Downloading 4 of 10 images\n",
      "Downloading 5 of 10 images\n",
      "Downloading 6 of 10 images\n",
      "Downloading 7 of 10 images\n",
      "Downloading 8 of 10 images\n",
      "Downloading 9 of 10 images\n",
      "Downloading 10 of 10 images\n"
     ]
    }
   ],
   "source": [
    "for image in images_5:\n",
    "    pict_5=image.get_attribute(\"src\")\n",
    "    if pict_5 is not None:\n",
    "        if(pict_5[0:4]=='http'):\n",
    "            img_url_5.append(pict_5) \n",
    "\n",
    "for i in range(len(img_url_5)):\n",
    "    if i>10:\n",
    "        break    \n",
    "    print(\"Downloading {0} of {1} images\" .format(i,10))\n",
    "    responce=requests.get(img_url_5[i])\n",
    "    file=open(r\"D:\\New folder\\New folder (5)\" + str(i)+\" .jpg\",\"wb\")\n",
    "    file.write(responce.content) "
   ]
  },
  {
   "cell_type": "markdown",
   "id": "589219bb",
   "metadata": {},
   "source": [
    "4)Write a python program to search for a smartphone(e.g.: Oneplus Nord, pixel 4A, etc.) on\n",
    "www.flipkart.com and scrape following details for all the search results displayed on 1st page. Details to be \n",
    "scraped: “Brand Name”, “Smartphone name”, “Colour”, “RAM”, “Storage(ROM)”, “Primary Camera”, \n",
    "“Secondary Camera”, “Display Size”, “Battery Capacity”, “Price”, “Product URL”. Incase if any of the \n",
    "details is missing then replace it by “- “. Save your results in a dataframe and CSV."
   ]
  },
  {
   "cell_type": "code",
   "execution_count": 178,
   "id": "ba17d0a6",
   "metadata": {},
   "outputs": [],
   "source": [
    "import pandas as pd\n",
    "import time\n",
    "import selenium\n",
    "from selenium import webdriver\n",
    "import warnings\n",
    "warnings.filterwarnings(\"ignore\")"
   ]
  },
  {
   "cell_type": "code",
   "execution_count": 179,
   "id": "7ddb4951",
   "metadata": {},
   "outputs": [],
   "source": [
    "driver=webdriver.Chrome(r\"C:\\Users\\ABC\\chromedriver.exe\")\n",
    "\n",
    "URL=\"https://www.flipkart.com/\"\n",
    "driver.get(URL)\n",
    "\n",
    "clk=driver.find_element_by_xpath(\"/html/body/div[2]/div/div/button\")\n",
    "clk.click()"
   ]
  },
  {
   "cell_type": "code",
   "execution_count": 180,
   "id": "1133edb4",
   "metadata": {},
   "outputs": [],
   "source": [
    "search=driver.find_element_by_xpath(\"/html/body/div[1]/div/div[1]/div[1]/div[2]/div[2]/form/div/div/input\")\n",
    "clk=driver.find_element_by_xpath(\"/html/body/div[1]/div/div[1]/div[1]/div[2]/div[2]/form/div/button\")\n",
    "\n",
    "product=\"Smartphones\"\n",
    "\n",
    "search.send_keys(product)\n",
    "clk.click()"
   ]
  },
  {
   "cell_type": "code",
   "execution_count": 181,
   "id": "881ddba0",
   "metadata": {},
   "outputs": [],
   "source": [
    "Product_oepn_urls=[]\n",
    "\n",
    "for i in range(0,1):\n",
    "    URL=driver.find_elements_by_xpath(\"//a[@class='_1fQZEK']\")\n",
    "    time.sleep(3)\n",
    "    for k in URL:\n",
    "        Product_oepn_urls.append(k.get_attribute('href'))"
   ]
  },
  {
   "cell_type": "code",
   "execution_count": 183,
   "id": "67f35bf1",
   "metadata": {},
   "outputs": [
    {
     "data": {
      "text/plain": [
       "24"
      ]
     },
     "execution_count": 183,
     "metadata": {},
     "output_type": "execute_result"
    }
   ],
   "source": [
    "len(Product_oepn_urls)"
   ]
  },
  {
   "cell_type": "code",
   "execution_count": 184,
   "id": "ef0b26d9",
   "metadata": {},
   "outputs": [],
   "source": [
    "from selenium.common.exceptions import NoSuchElementException    "
   ]
  },
  {
   "cell_type": "code",
   "execution_count": 185,
   "id": "430d047e",
   "metadata": {},
   "outputs": [],
   "source": [
    "Brand_Name=[]\n",
    "for i in Product_oepn_urls:\n",
    "    driver.get(i)\n",
    "    time.sleep(3)\n",
    "    \n",
    "    try:\n",
    "        bnc=driver.find_element_by_xpath(\"//span[@class='B_NuCI']\")\n",
    "        Brand_Name.append(bnc.text)\n",
    "    except NoSuchElementException :\n",
    "        Brand_Name.append(\"--\")"
   ]
  },
  {
   "cell_type": "code",
   "execution_count": 214,
   "id": "5f7ecc64",
   "metadata": {},
   "outputs": [],
   "source": [
    "RAM=[]\n",
    "for i in Product_oepn_urls:\n",
    "    driver.get(i)\n",
    "    time.sleep(3)\n",
    "    \n",
    "    try:\n",
    "        ra=driver.find_element_by_xpath(\"/html/body/div[1]/div/div[3]/div[1]/div[2]/div[7]/div[1]/div/div[2]/ul/li[1]\")\n",
    "        RAM.append(ra.text)\n",
    "    except NoSuchElementException :\n",
    "        RAM.append(\"--\")\n",
    "   "
   ]
  },
  {
   "cell_type": "code",
   "execution_count": 230,
   "id": "9fd39dc9",
   "metadata": {},
   "outputs": [],
   "source": [
    "Primary_Camera=[]\n",
    "for i in Product_oepn_urls:\n",
    "    driver.get(i)\n",
    "    time.sleep(3)\n",
    "    \n",
    "    \n",
    "    try:\n",
    "        pcsc=driver.find_element_by_xpath(\"/html/body/div[1]/div/div[3]/div[1]/div[2]/div[7]/div[1]/div/div[2]/ul/li[3]\")\n",
    "        Primary_Camera.append(pcsc.text)\n",
    "    except NoSuchElementException:\n",
    "        Primary_Camera.append(\"--\")"
   ]
  },
  {
   "cell_type": "code",
   "execution_count": 239,
   "id": "42077143",
   "metadata": {},
   "outputs": [],
   "source": [
    "Display_Size=[] \n",
    "for i in Product_oepn_urls:\n",
    "    driver.get(i)\n",
    "    time.sleep(3)\n",
    "    \n",
    "    try:\n",
    "        ds=driver.find_element_by_xpath(\"/html/body/div[1]/div/div[3]/div[1]/div[2]/div[7]/div[1]/div/div[2]/ul/li[2]\")\n",
    "        Display_Size.append(ds.text)\n",
    "    except NoSuchElementException:\n",
    "        Display_Size.append(\"--\")"
   ]
  },
  {
   "cell_type": "code",
   "execution_count": 250,
   "id": "bd151b27",
   "metadata": {},
   "outputs": [],
   "source": [
    "Battery_Capacity=[]\n",
    "for i in Product_oepn_urls:\n",
    "    driver.get(i)\n",
    "    time.sleep(3)\n",
    "    \n",
    "    try:\n",
    "        bb=driver.find_element_by_xpath(\"/html/body/div[1]/div/div[3]/div[1]/div[2]/div[7]/div[1]/div/div[2]/ul/li[4]\")\n",
    "        Battery_Capacity.append(bb.text)\n",
    "    except NoSuchElementException:\n",
    "        Battery_Capacity.append(\"--\")"
   ]
  },
  {
   "cell_type": "code",
   "execution_count": 253,
   "id": "d1fd91cb",
   "metadata": {},
   "outputs": [],
   "source": [
    "Price=[] \n",
    "for i in Product_oepn_urls:\n",
    "    driver.get(i)\n",
    "    time.sleep(3)\n",
    "    \n",
    "    try:\n",
    "        price=driver.find_element_by_xpath(\"//div[@class='_30jeq3 _16Jk6d']\")\n",
    "        Price.append(price.text)\n",
    "    except NoSuchElementException:\n",
    "        Price.append(\"--\")"
   ]
  },
  {
   "cell_type": "code",
   "execution_count": 259,
   "id": "4086050f",
   "metadata": {},
   "outputs": [
    {
     "data": {
      "text/html": [
       "<div>\n",
       "<style scoped>\n",
       "    .dataframe tbody tr th:only-of-type {\n",
       "        vertical-align: middle;\n",
       "    }\n",
       "\n",
       "    .dataframe tbody tr th {\n",
       "        vertical-align: top;\n",
       "    }\n",
       "\n",
       "    .dataframe thead th {\n",
       "        text-align: right;\n",
       "    }\n",
       "</style>\n",
       "<table border=\"1\" class=\"dataframe\">\n",
       "  <thead>\n",
       "    <tr style=\"text-align: right;\">\n",
       "      <th></th>\n",
       "      <th>Brand_name &amp; Colour</th>\n",
       "      <th>RAM &amp; ROM</th>\n",
       "      <th>Primary &amp; secondary Camera</th>\n",
       "      <th>Display_Size</th>\n",
       "      <th>Battery_Capacity</th>\n",
       "      <th>Price</th>\n",
       "    </tr>\n",
       "  </thead>\n",
       "  <tbody>\n",
       "    <tr>\n",
       "      <th>0</th>\n",
       "      <td>POCO C31 (Royal Blue, 64 GB)  (4 GB RAM)</td>\n",
       "      <td>4 GB RAM | 64 GB ROM | Expandable Upto 512 GB</td>\n",
       "      <td>13MP + 2MP + 2MP | 5MP Front Camera</td>\n",
       "      <td>16.59 cm (6.53 inch) HD+ Display</td>\n",
       "      <td>5000 mAh Lithium-ion Polymer Battery</td>\n",
       "      <td>₹8,499</td>\n",
       "    </tr>\n",
       "    <tr>\n",
       "      <th>1</th>\n",
       "      <td>MOTOROLA G60 (Moonless, 128 GB)  (6 GB RAM)</td>\n",
       "      <td>6 GB RAM | 128 GB ROM</td>\n",
       "      <td>108MP + 8MP + 2MP | 32MP Front Camera</td>\n",
       "      <td>17.22 cm (6.78 inch) Full HD+ Display</td>\n",
       "      <td>6000 mAh Battery</td>\n",
       "      <td>₹14,999</td>\n",
       "    </tr>\n",
       "    <tr>\n",
       "      <th>2</th>\n",
       "      <td>realme C35 (Glowing Green, 64 GB)  (4 GB RAM)</td>\n",
       "      <td>4 GB RAM | 64 GB ROM | Expandable Upto 1 TB</td>\n",
       "      <td>50MP + 2MP + 0.3MP | 8MP Front Camera</td>\n",
       "      <td>16.76 cm (6.6 inch) Full HD+ Display</td>\n",
       "      <td>5000 mAh Lithium Polymer Battery</td>\n",
       "      <td>₹11,999</td>\n",
       "    </tr>\n",
       "    <tr>\n",
       "      <th>3</th>\n",
       "      <td>I Kall Z5 (Pink, 16 GB)  (3 GB RAM)</td>\n",
       "      <td>3 GB RAM | 16 GB ROM</td>\n",
       "      <td>8MP Rear Camera | 5MP Front Camera</td>\n",
       "      <td>13.84 cm (5.45 inch) Display</td>\n",
       "      <td>3000 mAh Battery</td>\n",
       "      <td>₹4,799</td>\n",
       "    </tr>\n",
       "    <tr>\n",
       "      <th>4</th>\n",
       "      <td>POCO C31 (Shadow Gray, 64 GB)  (4 GB RAM)</td>\n",
       "      <td>--</td>\n",
       "      <td>--</td>\n",
       "      <td>--</td>\n",
       "      <td>--</td>\n",
       "      <td>₹8,499</td>\n",
       "    </tr>\n",
       "  </tbody>\n",
       "</table>\n",
       "</div>"
      ],
      "text/plain": [
       "                             Brand_name & Colour  \\\n",
       "0       POCO C31 (Royal Blue, 64 GB)  (4 GB RAM)   \n",
       "1    MOTOROLA G60 (Moonless, 128 GB)  (6 GB RAM)   \n",
       "2  realme C35 (Glowing Green, 64 GB)  (4 GB RAM)   \n",
       "3            I Kall Z5 (Pink, 16 GB)  (3 GB RAM)   \n",
       "4      POCO C31 (Shadow Gray, 64 GB)  (4 GB RAM)   \n",
       "\n",
       "                                       RAM & ROM  \\\n",
       "0  4 GB RAM | 64 GB ROM | Expandable Upto 512 GB   \n",
       "1                          6 GB RAM | 128 GB ROM   \n",
       "2    4 GB RAM | 64 GB ROM | Expandable Upto 1 TB   \n",
       "3                           3 GB RAM | 16 GB ROM   \n",
       "4                                             --   \n",
       "\n",
       "              Primary & secondary Camera  \\\n",
       "0    13MP + 2MP + 2MP | 5MP Front Camera   \n",
       "1  108MP + 8MP + 2MP | 32MP Front Camera   \n",
       "2  50MP + 2MP + 0.3MP | 8MP Front Camera   \n",
       "3     8MP Rear Camera | 5MP Front Camera   \n",
       "4                                     --   \n",
       "\n",
       "                            Display_Size  \\\n",
       "0       16.59 cm (6.53 inch) HD+ Display   \n",
       "1  17.22 cm (6.78 inch) Full HD+ Display   \n",
       "2   16.76 cm (6.6 inch) Full HD+ Display   \n",
       "3           13.84 cm (5.45 inch) Display   \n",
       "4                                     --   \n",
       "\n",
       "                       Battery_Capacity    Price  \n",
       "0  5000 mAh Lithium-ion Polymer Battery   ₹8,499  \n",
       "1                      6000 mAh Battery  ₹14,999  \n",
       "2      5000 mAh Lithium Polymer Battery  ₹11,999  \n",
       "3                      3000 mAh Battery   ₹4,799  \n",
       "4                                    --   ₹8,499  "
      ]
     },
     "execution_count": 259,
     "metadata": {},
     "output_type": "execute_result"
    }
   ],
   "source": [
    "data=pd.DataFrame({\"Brand_name & Colour\":Brand_Name,\n",
    "                  \"RAM & ROM\":RAM,\n",
    "                  \"Primary & secondary Camera\":Primary_Camera,\n",
    "                  \"Display_Size\":Display_Size,\n",
    "                  \"Battery_Capacity\":Battery_Capacity,\n",
    "                  \"Price\":Price})\n",
    "data.head(5)"
   ]
  },
  {
   "cell_type": "markdown",
   "id": "a306dd92",
   "metadata": {},
   "source": [
    "5) Write a program to scrap geospatial coordinates (latitude, longitude) of a city searched on google\n",
    "maps."
   ]
  },
  {
   "cell_type": "code",
   "execution_count": 8,
   "id": "51a71a1b",
   "metadata": {},
   "outputs": [],
   "source": [
    "import pandas as pd\n",
    "import time\n",
    "import selenium\n",
    "from selenium import webdriver\n",
    "import warnings\n",
    "warnings.filterwarnings(\"ignore\")"
   ]
  },
  {
   "cell_type": "code",
   "execution_count": 27,
   "id": "fdb18c94",
   "metadata": {},
   "outputs": [],
   "source": [
    "driver=webdriver.Chrome(r\"C:\\Users\\ABC\\chromedriver.exe\")"
   ]
  },
  {
   "cell_type": "code",
   "execution_count": 28,
   "id": "9cabd5c8",
   "metadata": {},
   "outputs": [],
   "source": [
    "search=driver.get(\"https://www.google.com/maps\")"
   ]
  },
  {
   "cell_type": "code",
   "execution_count": 29,
   "id": "4dda43fd",
   "metadata": {},
   "outputs": [
    {
     "name": "stdout",
     "output_type": "stream",
     "text": [
      "Type City Name :\n",
      "gwalior\n"
     ]
    }
   ],
   "source": [
    "city=input(\"Type City Name :\\n\")"
   ]
  },
  {
   "cell_type": "code",
   "execution_count": 30,
   "id": "809fb00a",
   "metadata": {},
   "outputs": [],
   "source": [
    "search_city_name=driver.find_element_by_xpath(\"/html/body/div[3]/div[9]/div[3]/div[1]/div[1]/div[1]/div[2]/form/div[2]/div[3]/div/input[1]\")\n",
    "search_city_name.send_keys(city)"
   ]
  },
  {
   "cell_type": "code",
   "execution_count": 31,
   "id": "f0f91bdf",
   "metadata": {},
   "outputs": [],
   "source": [
    "clk_button=driver.find_element_by_xpath(\"/html/body/div[3]/div[9]/div[3]/div[1]/div[1]/div[1]/div[2]/div[1]/button\")\n",
    "clk_button.click()"
   ]
  },
  {
   "cell_type": "code",
   "execution_count": 38,
   "id": "3465e431",
   "metadata": {},
   "outputs": [],
   "source": [
    "latitude_longitude=driver.find_elements_by_xpath(\"//button[@class='ZqLNQd t9f27']\")"
   ]
  },
  {
   "cell_type": "code",
   "execution_count": 41,
   "id": "67efcd0e",
   "metadata": {},
   "outputs": [
    {
     "name": "stdout",
     "output_type": "stream",
     "text": [
      "The latitude and longitude of the gwalior is 26.196838, 78.160676\n"
     ]
    }
   ],
   "source": [
    "for i in latitude_longitude:\n",
    "    print(\"The latitude and longitude of the\",city,\"is\",i.text)"
   ]
  },
  {
   "cell_type": "code",
   "execution_count": null,
   "id": "118ca186",
   "metadata": {},
   "outputs": [],
   "source": []
  },
  {
   "cell_type": "markdown",
   "id": "ea6c38b7",
   "metadata": {},
   "source": [
    "6) Write a program to scrap details of all the funding deals for second quarter (i.e Jan 21 – March 21) \n",
    "from trak.in."
   ]
  },
  {
   "cell_type": "code",
   "execution_count": 280,
   "id": "40ac7c2a",
   "metadata": {},
   "outputs": [],
   "source": [
    "URL=\"https://trak.in/URL=https://trak.in/\"\n",
    "driver=webdriver.Chrome(r\"C:\\Users\\ABC\\chromedriver.exe\")"
   ]
  },
  {
   "cell_type": "code",
   "execution_count": 281,
   "id": "ddd9b053",
   "metadata": {},
   "outputs": [],
   "source": [
    "driver.get(URL)"
   ]
  },
  {
   "cell_type": "code",
   "execution_count": 285,
   "id": "b8796821",
   "metadata": {},
   "outputs": [],
   "source": [
    "url=[]\n",
    "\n",
    "for i in range(0,1):\n",
    "    fnd=driver.find_elements_by_xpath(\"/html/body/div[2]/div[1]/div[2]/div[1]/ul[1]/li[9]/a\")\n",
    "    time.sleep(3)\n",
    "    \n",
    "    for k in fnd:\n",
    "        url.append(k.get_attribute(\"href\"))  "
   ]
  },
  {
   "cell_type": "code",
   "execution_count": 293,
   "id": "ab2abb4f",
   "metadata": {},
   "outputs": [],
   "source": [
    "date=[]\n",
    "for i in url:\n",
    "    driver.get(i)\n",
    "    time.sleep(3)\n",
    "    \n",
    "    for k in driver.find_elements_by_xpath(\"//td[@class='column-2']\"):\n",
    "        date.append(k.text)"
   ]
  },
  {
   "cell_type": "code",
   "execution_count": 297,
   "id": "c46ca388",
   "metadata": {},
   "outputs": [],
   "source": [
    "Startup_name=[]\n",
    "for i in url:\n",
    "    driver.get(i)\n",
    "    time.sleep(3)\n",
    "    \n",
    "    for k in driver.find_elements_by_xpath(\"//td[@class='column-3']\"):\n",
    "        Startup_name.append(k.text)"
   ]
  },
  {
   "cell_type": "code",
   "execution_count": 300,
   "id": "6f61350f",
   "metadata": {},
   "outputs": [],
   "source": [
    "Industry=[]\n",
    "for i in url:\n",
    "    driver.get(i)\n",
    "    time.sleep(3)\n",
    "    \n",
    "    for k in driver.find_elements_by_xpath(\"//td[@class='column-4']\"):\n",
    "        Industry.append(k.text)"
   ]
  },
  {
   "cell_type": "code",
   "execution_count": 303,
   "id": "2fd4bea4",
   "metadata": {},
   "outputs": [],
   "source": [
    "Sub_vertical=[]\n",
    "for i in url:\n",
    "    driver.get(i)\n",
    "    time.sleep(3)\n",
    "    \n",
    "    for k in driver.find_elements_by_xpath(\"//td[@class='column-5']\"):\n",
    "        Sub_vertical.append(k.text)"
   ]
  },
  {
   "cell_type": "code",
   "execution_count": 306,
   "id": "f4eec93e",
   "metadata": {},
   "outputs": [],
   "source": [
    "City=[]\n",
    "for i in url:\n",
    "    driver.get(i)\n",
    "    time.sleep(3)\n",
    "    \n",
    "    for k in driver.find_elements_by_xpath(\"//td[@class='column-6']\"):\n",
    "        City.append(k.text)"
   ]
  },
  {
   "cell_type": "code",
   "execution_count": 309,
   "id": "99110761",
   "metadata": {},
   "outputs": [],
   "source": [
    "Investors_name=[]\n",
    "for i in url:\n",
    "    driver.get(i)\n",
    "    time.sleep(3)\n",
    "    \n",
    "    for k in driver.find_elements_by_xpath(\"//td[@class='column-7']\"):\n",
    "        Investors_name.append(k.text)"
   ]
  },
  {
   "cell_type": "code",
   "execution_count": 312,
   "id": "382badb9",
   "metadata": {},
   "outputs": [],
   "source": [
    "Investment_type=[]\n",
    "for i in url:\n",
    "    driver.get(i)\n",
    "    time.sleep(3)\n",
    "    \n",
    "    for k in driver.find_elements_by_xpath(\"//td[@class='column-8']\"):\n",
    "        Investment_type.append(k.text)"
   ]
  },
  {
   "cell_type": "code",
   "execution_count": 314,
   "id": "59e700de",
   "metadata": {},
   "outputs": [],
   "source": [
    "Amount_in_USD=[]\n",
    "for i in url:\n",
    "    driver.get(i)\n",
    "    time.sleep(3)\n",
    "    \n",
    "    for k in driver.find_elements_by_xpath(\"//td[@class='column-9']\"):\n",
    "        Amount_in_USD.append(k.text)"
   ]
  },
  {
   "cell_type": "code",
   "execution_count": 320,
   "id": "d0974078",
   "metadata": {},
   "outputs": [
    {
     "data": {
      "text/html": [
       "<div>\n",
       "<style scoped>\n",
       "    .dataframe tbody tr th:only-of-type {\n",
       "        vertical-align: middle;\n",
       "    }\n",
       "\n",
       "    .dataframe tbody tr th {\n",
       "        vertical-align: top;\n",
       "    }\n",
       "\n",
       "    .dataframe thead th {\n",
       "        text-align: right;\n",
       "    }\n",
       "</style>\n",
       "<table border=\"1\" class=\"dataframe\">\n",
       "  <thead>\n",
       "    <tr style=\"text-align: right;\">\n",
       "      <th></th>\n",
       "      <th>Data</th>\n",
       "      <th>Startup_name</th>\n",
       "      <th>Industry</th>\n",
       "      <th>Sub_vertical</th>\n",
       "      <th>City</th>\n",
       "      <th>Investors_name</th>\n",
       "      <th>Investment_type</th>\n",
       "      <th>Amount_in_USD</th>\n",
       "    </tr>\n",
       "  </thead>\n",
       "  <tbody>\n",
       "    <tr>\n",
       "      <th>0</th>\n",
       "      <td>01/04/2021</td>\n",
       "      <td>BYJU’S</td>\n",
       "      <td>Edu-tech</td>\n",
       "      <td>Online tutoring</td>\n",
       "      <td>Bengaluru</td>\n",
       "      <td>Innoven Capital</td>\n",
       "      <td>Series F</td>\n",
       "      <td>460,000,000</td>\n",
       "    </tr>\n",
       "    <tr>\n",
       "      <th>1</th>\n",
       "      <td>05/04/2021</td>\n",
       "      <td>Meesho</td>\n",
       "      <td>E-commerce</td>\n",
       "      <td>Online reselling platform</td>\n",
       "      <td>Bengaluru</td>\n",
       "      <td>SoftBank Vision Fund 2</td>\n",
       "      <td>Series E</td>\n",
       "      <td>300,000,000</td>\n",
       "    </tr>\n",
       "    <tr>\n",
       "      <th>2</th>\n",
       "      <td>14/04/2021</td>\n",
       "      <td>Swiggy</td>\n",
       "      <td>Online Food Delivery</td>\n",
       "      <td>Online Food Delivery</td>\n",
       "      <td>Bengaluru</td>\n",
       "      <td>Amansa Holdings, Carmignac, Falcon Edge Capita...</td>\n",
       "      <td>Series J</td>\n",
       "      <td>343,000,000</td>\n",
       "    </tr>\n",
       "    <tr>\n",
       "      <th>3</th>\n",
       "      <td>07/04/2021</td>\n",
       "      <td>Groww</td>\n",
       "      <td>FinTech</td>\n",
       "      <td>Investment platform</td>\n",
       "      <td>Bengaluru</td>\n",
       "      <td>MC Global Edtech, B Capital, Baron, others</td>\n",
       "      <td>Series D</td>\n",
       "      <td>83,000,000</td>\n",
       "    </tr>\n",
       "    <tr>\n",
       "      <th>4</th>\n",
       "      <td>14/04/2021</td>\n",
       "      <td>Beldara</td>\n",
       "      <td>E-commerce</td>\n",
       "      <td>Global B2B marketplace</td>\n",
       "      <td>Mumbai</td>\n",
       "      <td>Hindustan Media Ventures</td>\n",
       "      <td>Venture</td>\n",
       "      <td>7,400,000</td>\n",
       "    </tr>\n",
       "    <tr>\n",
       "      <th>5</th>\n",
       "      <td>04/03/2021</td>\n",
       "      <td>DealShare</td>\n",
       "      <td>E-commerce</td>\n",
       "      <td>Online shopping platform</td>\n",
       "      <td>Jaipur, Rajasthan</td>\n",
       "      <td>Innoven Capital</td>\n",
       "      <td>Debt Financing</td>\n",
       "      <td>250,000,000</td>\n",
       "    </tr>\n",
       "    <tr>\n",
       "      <th>6</th>\n",
       "      <td>31/03/2021</td>\n",
       "      <td>Uniphore</td>\n",
       "      <td>Technology</td>\n",
       "      <td>Conversational Service Automation (CSA)</td>\n",
       "      <td>Palo Alto</td>\n",
       "      <td>Sorenson Capital Partners</td>\n",
       "      <td>Series D</td>\n",
       "      <td>140,000,000</td>\n",
       "    </tr>\n",
       "    <tr>\n",
       "      <th>7</th>\n",
       "      <td>30/03/2021</td>\n",
       "      <td>Dunzo</td>\n",
       "      <td>E-commerce</td>\n",
       "      <td>Hyper-local delivery app</td>\n",
       "      <td>Bengaluru</td>\n",
       "      <td>Krishtal Advisors Pte Ltd</td>\n",
       "      <td>Series E</td>\n",
       "      <td>8,000,000</td>\n",
       "    </tr>\n",
       "    <tr>\n",
       "      <th>8</th>\n",
       "      <td>30/03/2021</td>\n",
       "      <td>BYJU’S</td>\n",
       "      <td>Edu-tech</td>\n",
       "      <td>Online tutoring</td>\n",
       "      <td>Bengaluru</td>\n",
       "      <td>MC Global Edtech, B Capital, Baron, others</td>\n",
       "      <td>Series F</td>\n",
       "      <td>460,000,000</td>\n",
       "    </tr>\n",
       "    <tr>\n",
       "      <th>9</th>\n",
       "      <td>23/03/2021</td>\n",
       "      <td>SkilloVilla</td>\n",
       "      <td>Edu-tech</td>\n",
       "      <td>Career and job-oriented upskilling.</td>\n",
       "      <td>Bengaluru</td>\n",
       "      <td>Titan Capital, others</td>\n",
       "      <td>Seed</td>\n",
       "      <td>300,000,000</td>\n",
       "    </tr>\n",
       "    <tr>\n",
       "      <th>10</th>\n",
       "      <td>25/03/2021</td>\n",
       "      <td>CityMall</td>\n",
       "      <td>E-commerce</td>\n",
       "      <td>Social ecommerce and online grocery platform</td>\n",
       "      <td>Gurgaon</td>\n",
       "      <td>Accel Partners</td>\n",
       "      <td>Series A</td>\n",
       "      <td>11,000,000</td>\n",
       "    </tr>\n",
       "    <tr>\n",
       "      <th>11</th>\n",
       "      <td>26/03/2021</td>\n",
       "      <td>DotPe</td>\n",
       "      <td>FinTech</td>\n",
       "      <td>Commerce and payments platform to offline ente...</td>\n",
       "      <td>Gurgaon</td>\n",
       "      <td>PayU</td>\n",
       "      <td>Series A</td>\n",
       "      <td>27,500,000</td>\n",
       "    </tr>\n",
       "    <tr>\n",
       "      <th>12</th>\n",
       "      <td>11/02/2021</td>\n",
       "      <td>Doubtnut</td>\n",
       "      <td>Edu Tech</td>\n",
       "      <td>E-Learning Platform</td>\n",
       "      <td>Gurgaon</td>\n",
       "      <td>SIG Global, Sequoia Capital, WaterBridge Ventu...</td>\n",
       "      <td>Series B</td>\n",
       "      <td>2,500,000</td>\n",
       "    </tr>\n",
       "    <tr>\n",
       "      <th>13</th>\n",
       "      <td>22/02/2021</td>\n",
       "      <td>Zomato</td>\n",
       "      <td>Hospitality</td>\n",
       "      <td>Online Food Delivery Platform</td>\n",
       "      <td>Gurgaon</td>\n",
       "      <td>Tiger Global, Kora</td>\n",
       "      <td>Venture</td>\n",
       "      <td>250,000,000</td>\n",
       "    </tr>\n",
       "    <tr>\n",
       "      <th>14</th>\n",
       "      <td>19/02/2021</td>\n",
       "      <td>Fingerlix</td>\n",
       "      <td>Hospitality</td>\n",
       "      <td>Semi-cooked food delivery app</td>\n",
       "      <td>Mumbai</td>\n",
       "      <td>Rhodium Trust, Accel Partners and Swiggy</td>\n",
       "      <td>Series C</td>\n",
       "      <td>2,747,045.20</td>\n",
       "    </tr>\n",
       "    <tr>\n",
       "      <th>15</th>\n",
       "      <td>17/02/2021</td>\n",
       "      <td>Zolve</td>\n",
       "      <td>FinTech</td>\n",
       "      <td>Global Neobank Venture</td>\n",
       "      <td>Mumbai</td>\n",
       "      <td>Accel Partners and Lightspeed Venture Partners</td>\n",
       "      <td>Seed</td>\n",
       "      <td>1,50,00,000</td>\n",
       "    </tr>\n",
       "    <tr>\n",
       "      <th>16</th>\n",
       "      <td>15/02/2021</td>\n",
       "      <td>KreditBee</td>\n",
       "      <td>Finance</td>\n",
       "      <td>Digital lending platform</td>\n",
       "      <td>Bengaluru</td>\n",
       "      <td>Azim Premji’s PremjiInvest and South Korea’s M...</td>\n",
       "      <td>Series C</td>\n",
       "      <td>75,000,000</td>\n",
       "    </tr>\n",
       "    <tr>\n",
       "      <th>17</th>\n",
       "      <td>12/02/2021</td>\n",
       "      <td>Pepperfry</td>\n",
       "      <td>E-commerce</td>\n",
       "      <td>Multi-brand furniture brand</td>\n",
       "      <td>Mumbai</td>\n",
       "      <td>InnoVen Capital</td>\n",
       "      <td>Debt Financing</td>\n",
       "      <td>4,773,958</td>\n",
       "    </tr>\n",
       "    <tr>\n",
       "      <th>18</th>\n",
       "      <td>12/02/2021</td>\n",
       "      <td>Grofers</td>\n",
       "      <td>E-Commerce</td>\n",
       "      <td>Online supermarket</td>\n",
       "      <td>Gurgaon</td>\n",
       "      <td>SoftBank Vision Fund (SVF)</td>\n",
       "      <td>Unspecified</td>\n",
       "      <td>55,000,000</td>\n",
       "    </tr>\n",
       "    <tr>\n",
       "      <th>19</th>\n",
       "      <td>09/02/2021</td>\n",
       "      <td>Nothing</td>\n",
       "      <td>Technology</td>\n",
       "      <td>Consumer Technology Venture</td>\n",
       "      <td>London</td>\n",
       "      <td>GV</td>\n",
       "      <td>Series A</td>\n",
       "      <td>15,000,000</td>\n",
       "    </tr>\n",
       "    <tr>\n",
       "      <th>20</th>\n",
       "      <td>09/02/2021</td>\n",
       "      <td>SplashLearn</td>\n",
       "      <td>EdTech</td>\n",
       "      <td>Game-based learning programme</td>\n",
       "      <td>Gurgaon</td>\n",
       "      <td>Owl Ventures</td>\n",
       "      <td>Series C</td>\n",
       "      <td>18,000,000</td>\n",
       "    </tr>\n",
       "    <tr>\n",
       "      <th>21</th>\n",
       "      <td>15/01/2021</td>\n",
       "      <td>Digit Insurance</td>\n",
       "      <td>Financial Services</td>\n",
       "      <td>Insurance Services</td>\n",
       "      <td>Bengaluru</td>\n",
       "      <td>A91 Partners, Faering Capital, TVS Capital Funds</td>\n",
       "      <td>Venture</td>\n",
       "      <td>1,80,00,000</td>\n",
       "    </tr>\n",
       "    <tr>\n",
       "      <th>22</th>\n",
       "      <td>28/01/2021</td>\n",
       "      <td>Bombay Shaving Company</td>\n",
       "      <td>Consumer Goods Company</td>\n",
       "      <td>Shave care, beard care, and skincare products</td>\n",
       "      <td>New Delhi</td>\n",
       "      <td>Reckitt Benckiser</td>\n",
       "      <td>Venture</td>\n",
       "      <td>6,172,258.50</td>\n",
       "    </tr>\n",
       "    <tr>\n",
       "      <th>23</th>\n",
       "      <td>19/01/2021</td>\n",
       "      <td>DeHaat</td>\n",
       "      <td>AgriTech Startup</td>\n",
       "      <td>online marketplace for farm products and services</td>\n",
       "      <td>Patna</td>\n",
       "      <td>Prosus Ventures</td>\n",
       "      <td>Series C</td>\n",
       "      <td>30,000,000</td>\n",
       "    </tr>\n",
       "    <tr>\n",
       "      <th>24</th>\n",
       "      <td>19/01/2021</td>\n",
       "      <td>Darwinbox</td>\n",
       "      <td>SaaS</td>\n",
       "      <td>HR Tech</td>\n",
       "      <td>Mumbai</td>\n",
       "      <td>Salesforce Ventures</td>\n",
       "      <td>Seed</td>\n",
       "      <td>15,000,000</td>\n",
       "    </tr>\n",
       "    <tr>\n",
       "      <th>25</th>\n",
       "      <td>18/01/2021</td>\n",
       "      <td>mfine</td>\n",
       "      <td>Health Tech Startup</td>\n",
       "      <td>AI-powered telemedicine mobile app</td>\n",
       "      <td>Bengaluru</td>\n",
       "      <td>Heritas Capital Management</td>\n",
       "      <td>Venture Round</td>\n",
       "      <td>16,000,000</td>\n",
       "    </tr>\n",
       "    <tr>\n",
       "      <th>26</th>\n",
       "      <td>18/01/2021</td>\n",
       "      <td>Udayy</td>\n",
       "      <td>EdTech</td>\n",
       "      <td>Online learning platform for kids in class 1-5</td>\n",
       "      <td>Gurgaon</td>\n",
       "      <td>Sequoia Capital</td>\n",
       "      <td>Seed Funding</td>\n",
       "      <td>15,000,000</td>\n",
       "    </tr>\n",
       "    <tr>\n",
       "      <th>27</th>\n",
       "      <td>11/01/2021</td>\n",
       "      <td>True Elements</td>\n",
       "      <td>Food Startup</td>\n",
       "      <td>Whole Food plant based Nashta</td>\n",
       "      <td>Pune</td>\n",
       "      <td>SIDBI Venture Capital</td>\n",
       "      <td>Series</td>\n",
       "      <td>100,000,000</td>\n",
       "    </tr>\n",
       "    <tr>\n",
       "      <th>28</th>\n",
       "      <td>13/01/2021</td>\n",
       "      <td>Saveo</td>\n",
       "      <td>B2B E-commerce</td>\n",
       "      <td>Pharmacies</td>\n",
       "      <td>Bengaluru</td>\n",
       "      <td>Matrix Partners India, RTP Global, others</td>\n",
       "      <td>Seed</td>\n",
       "      <td>4,000,000</td>\n",
       "    </tr>\n",
       "  </tbody>\n",
       "</table>\n",
       "</div>"
      ],
      "text/plain": [
       "          Data            Startup_name                Industry  \\\n",
       "0   01/04/2021                  BYJU’S                Edu-tech   \n",
       "1   05/04/2021                  Meesho              E-commerce   \n",
       "2   14/04/2021                  Swiggy    Online Food Delivery   \n",
       "3   07/04/2021                   Groww                 FinTech   \n",
       "4   14/04/2021                 Beldara              E-commerce   \n",
       "5   04/03/2021               DealShare              E-commerce   \n",
       "6   31/03/2021                Uniphore              Technology   \n",
       "7   30/03/2021                   Dunzo              E-commerce   \n",
       "8   30/03/2021                  BYJU’S                Edu-tech   \n",
       "9   23/03/2021             SkilloVilla                Edu-tech   \n",
       "10  25/03/2021                CityMall              E-commerce   \n",
       "11  26/03/2021                   DotPe                 FinTech   \n",
       "12  11/02/2021                Doubtnut                Edu Tech   \n",
       "13  22/02/2021                  Zomato             Hospitality   \n",
       "14  19/02/2021               Fingerlix             Hospitality   \n",
       "15  17/02/2021                   Zolve                 FinTech   \n",
       "16  15/02/2021               KreditBee                 Finance   \n",
       "17  12/02/2021               Pepperfry              E-commerce   \n",
       "18  12/02/2021                 Grofers              E-Commerce   \n",
       "19  09/02/2021                 Nothing              Technology   \n",
       "20  09/02/2021             SplashLearn                  EdTech   \n",
       "21  15/01/2021         Digit Insurance      Financial Services   \n",
       "22  28/01/2021  Bombay Shaving Company  Consumer Goods Company   \n",
       "23  19/01/2021                  DeHaat        AgriTech Startup   \n",
       "24  19/01/2021               Darwinbox                    SaaS   \n",
       "25  18/01/2021                   mfine     Health Tech Startup   \n",
       "26  18/01/2021                   Udayy                  EdTech   \n",
       "27  11/01/2021           True Elements            Food Startup   \n",
       "28  13/01/2021                   Saveo          B2B E-commerce   \n",
       "\n",
       "                                         Sub_vertical               City  \\\n",
       "0                                     Online tutoring          Bengaluru   \n",
       "1                           Online reselling platform          Bengaluru   \n",
       "2                                Online Food Delivery          Bengaluru   \n",
       "3                                 Investment platform          Bengaluru   \n",
       "4                              Global B2B marketplace             Mumbai   \n",
       "5                            Online shopping platform  Jaipur, Rajasthan   \n",
       "6             Conversational Service Automation (CSA)          Palo Alto   \n",
       "7                            Hyper-local delivery app          Bengaluru   \n",
       "8                                     Online tutoring          Bengaluru   \n",
       "9                 Career and job-oriented upskilling.          Bengaluru   \n",
       "10       Social ecommerce and online grocery platform            Gurgaon   \n",
       "11  Commerce and payments platform to offline ente...            Gurgaon   \n",
       "12                                E-Learning Platform            Gurgaon   \n",
       "13                      Online Food Delivery Platform            Gurgaon   \n",
       "14                      Semi-cooked food delivery app             Mumbai   \n",
       "15                             Global Neobank Venture             Mumbai   \n",
       "16                           Digital lending platform          Bengaluru   \n",
       "17                        Multi-brand furniture brand             Mumbai   \n",
       "18                                 Online supermarket            Gurgaon   \n",
       "19                        Consumer Technology Venture             London   \n",
       "20                      Game-based learning programme            Gurgaon   \n",
       "21                                 Insurance Services          Bengaluru   \n",
       "22      Shave care, beard care, and skincare products          New Delhi   \n",
       "23  online marketplace for farm products and services              Patna   \n",
       "24                                            HR Tech             Mumbai   \n",
       "25                 AI-powered telemedicine mobile app          Bengaluru   \n",
       "26     Online learning platform for kids in class 1-5            Gurgaon   \n",
       "27                      Whole Food plant based Nashta               Pune   \n",
       "28                                         Pharmacies          Bengaluru   \n",
       "\n",
       "                                       Investors_name Investment_type  \\\n",
       "0                                     Innoven Capital        Series F   \n",
       "1                              SoftBank Vision Fund 2        Series E   \n",
       "2   Amansa Holdings, Carmignac, Falcon Edge Capita...        Series J   \n",
       "3          MC Global Edtech, B Capital, Baron, others        Series D   \n",
       "4                            Hindustan Media Ventures         Venture   \n",
       "5                                     Innoven Capital  Debt Financing   \n",
       "6                           Sorenson Capital Partners        Series D   \n",
       "7                           Krishtal Advisors Pte Ltd        Series E   \n",
       "8          MC Global Edtech, B Capital, Baron, others        Series F   \n",
       "9                               Titan Capital, others            Seed   \n",
       "10                                     Accel Partners        Series A   \n",
       "11                                               PayU        Series A   \n",
       "12  SIG Global, Sequoia Capital, WaterBridge Ventu...        Series B   \n",
       "13                                 Tiger Global, Kora         Venture   \n",
       "14           Rhodium Trust, Accel Partners and Swiggy        Series C   \n",
       "15     Accel Partners and Lightspeed Venture Partners            Seed   \n",
       "16  Azim Premji’s PremjiInvest and South Korea’s M...        Series C   \n",
       "17                                    InnoVen Capital  Debt Financing   \n",
       "18                         SoftBank Vision Fund (SVF)     Unspecified   \n",
       "19                                                 GV        Series A   \n",
       "20                                       Owl Ventures        Series C   \n",
       "21   A91 Partners, Faering Capital, TVS Capital Funds         Venture   \n",
       "22                                  Reckitt Benckiser         Venture   \n",
       "23                                    Prosus Ventures        Series C   \n",
       "24                                Salesforce Ventures            Seed   \n",
       "25                         Heritas Capital Management   Venture Round   \n",
       "26                                    Sequoia Capital    Seed Funding   \n",
       "27                              SIDBI Venture Capital          Series   \n",
       "28          Matrix Partners India, RTP Global, others            Seed   \n",
       "\n",
       "   Amount_in_USD  \n",
       "0    460,000,000  \n",
       "1    300,000,000  \n",
       "2    343,000,000  \n",
       "3     83,000,000  \n",
       "4      7,400,000  \n",
       "5    250,000,000  \n",
       "6    140,000,000  \n",
       "7      8,000,000  \n",
       "8    460,000,000  \n",
       "9    300,000,000  \n",
       "10    11,000,000  \n",
       "11    27,500,000  \n",
       "12     2,500,000  \n",
       "13   250,000,000  \n",
       "14  2,747,045.20  \n",
       "15   1,50,00,000  \n",
       "16    75,000,000  \n",
       "17     4,773,958  \n",
       "18    55,000,000  \n",
       "19    15,000,000  \n",
       "20    18,000,000  \n",
       "21   1,80,00,000  \n",
       "22  6,172,258.50  \n",
       "23    30,000,000  \n",
       "24    15,000,000  \n",
       "25    16,000,000  \n",
       "26    15,000,000  \n",
       "27   100,000,000  \n",
       "28     4,000,000  "
      ]
     },
     "execution_count": 320,
     "metadata": {},
     "output_type": "execute_result"
    }
   ],
   "source": [
    "data=pd.DataFrame({\"Data\":date,\n",
    "                  \"Startup_name\":Startup_name,\n",
    "                  \"Industry\":Industry,\n",
    "                  \"Sub_vertical\":Sub_vertical,\n",
    "                  \"City\":City,\n",
    "                  \"Investors_name\":Investors_name,\n",
    "                  \"Investment_type\":Investment_type,\n",
    "                  \"Amount_in_USD\":Amount_in_USD})\n",
    "data.head(29)"
   ]
  },
  {
   "cell_type": "code",
   "execution_count": null,
   "id": "244e12af",
   "metadata": {},
   "outputs": [],
   "source": []
  },
  {
   "cell_type": "markdown",
   "id": "ac1b1c2a",
   "metadata": {},
   "source": [
    "7) Write a program to scrap all the available details of best gaming laptops from digit.in."
   ]
  },
  {
   "cell_type": "code",
   "execution_count": 3,
   "id": "a9895191",
   "metadata": {},
   "outputs": [],
   "source": [
    "import pandas as pd\n",
    "import time\n",
    "import selenium\n",
    "from selenium import webdriver\n",
    "import warnings\n",
    "warnings.filterwarnings(\"ignore\")"
   ]
  },
  {
   "cell_type": "code",
   "execution_count": 362,
   "id": "73443726",
   "metadata": {},
   "outputs": [],
   "source": [
    "driver=webdriver.Chrome(r\"C:\\Users\\ABC\\chromedriver.exe\")"
   ]
  },
  {
   "cell_type": "code",
   "execution_count": 363,
   "id": "3271c1bb",
   "metadata": {},
   "outputs": [],
   "source": [
    "driver.get(\"https://www.digit.in/\")"
   ]
  },
  {
   "cell_type": "code",
   "execution_count": 364,
   "id": "37a559cf",
   "metadata": {},
   "outputs": [],
   "source": [
    "topL=driver.find_element_by_xpath(\"/html/body/div[3]/div/div[2]/div[2]/div[4]/ul/li[9]/a\")\n",
    "topL.click()"
   ]
  },
  {
   "cell_type": "code",
   "execution_count": 373,
   "id": "d1a4706c",
   "metadata": {},
   "outputs": [],
   "source": [
    "Name=[]\n",
    "\n",
    "NNN=driver.find_elements_by_xpath(\"//div[@class='TopNumbeHeading sticky-footer']\")\n",
    "for i in NNN:\n",
    "    Name.append(i.text)"
   ]
  },
  {
   "cell_type": "code",
   "execution_count": 366,
   "id": "4880e6e3",
   "metadata": {},
   "outputs": [],
   "source": [
    "Details=[]\n",
    "\n",
    "dt=driver.find_elements_by_xpath(\"//div[@class='Wrap-pop']\")\n",
    "for i in dt:\n",
    "    Details.append(i.text)"
   ]
  },
  {
   "cell_type": "code",
   "execution_count": 375,
   "id": "d1b963c3",
   "metadata": {},
   "outputs": [],
   "source": [
    "Nam=[]\n",
    "for i in range(0,9):\n",
    "    Nam.append(Name[i][3:])"
   ]
  },
  {
   "cell_type": "code",
   "execution_count": 417,
   "id": "c1c7a8ce",
   "metadata": {},
   "outputs": [],
   "source": [
    "Ops=[]\n",
    "Display=[]\n",
    "Procseeor=[]\n",
    "Memory=[]"
   ]
  },
  {
   "cell_type": "code",
   "execution_count": 419,
   "id": "afd5a37c",
   "metadata": {},
   "outputs": [],
   "source": [
    "for i in range(1):\n",
    "    Ops=Details[i::4]"
   ]
  },
  {
   "cell_type": "code",
   "execution_count": 421,
   "id": "f7bbc10c",
   "metadata": {},
   "outputs": [],
   "source": [
    "p=[1]\n",
    "for i in p:\n",
    "    Display=Details[i::4]"
   ]
  },
  {
   "cell_type": "code",
   "execution_count": 422,
   "id": "722502d0",
   "metadata": {},
   "outputs": [],
   "source": [
    "l=[2]\n",
    "for i in l:\n",
    "    Procseeor=Details[i::4]"
   ]
  },
  {
   "cell_type": "code",
   "execution_count": 423,
   "id": "31b2f9a5",
   "metadata": {},
   "outputs": [],
   "source": [
    "k=[3]\n",
    "for i in k:\n",
    "    Memory=Details[i::4]"
   ]
  },
  {
   "cell_type": "code",
   "execution_count": 426,
   "id": "854ff77b",
   "metadata": {},
   "outputs": [
    {
     "data": {
      "text/html": [
       "<div>\n",
       "<style scoped>\n",
       "    .dataframe tbody tr th:only-of-type {\n",
       "        vertical-align: middle;\n",
       "    }\n",
       "\n",
       "    .dataframe tbody tr th {\n",
       "        vertical-align: top;\n",
       "    }\n",
       "\n",
       "    .dataframe thead th {\n",
       "        text-align: right;\n",
       "    }\n",
       "</style>\n",
       "<table border=\"1\" class=\"dataframe\">\n",
       "  <thead>\n",
       "    <tr style=\"text-align: right;\">\n",
       "      <th></th>\n",
       "      <th>Operating System</th>\n",
       "      <th>Display</th>\n",
       "      <th>Procseeor</th>\n",
       "      <th>Memory</th>\n",
       "    </tr>\n",
       "  </thead>\n",
       "  <tbody>\n",
       "    <tr>\n",
       "      <th>0</th>\n",
       "      <td>OS\\nWINDOWS 11 HOME</td>\n",
       "      <td>DISPLAY\\n17\" (3840 X 2160)</td>\n",
       "      <td>PROCESSOR\\n12TH GEN INTEL CORE I9-12900HK | 5 GHZ</td>\n",
       "      <td>MEMORY\\n2 TB SSD/16 GBGB DDR5</td>\n",
       "    </tr>\n",
       "    <tr>\n",
       "      <th>1</th>\n",
       "      <td>OS\\nWINDOWS 11 HOME</td>\n",
       "      <td>DISPLAY\\n15.6\" (2560 X 1440)</td>\n",
       "      <td>PROCESSOR\\n12TH GEN INTEL CORE I9-12900H | 2.5...</td>\n",
       "      <td>MEMORY\\n2 TB SSD/32 GBGB DDR5</td>\n",
       "    </tr>\n",
       "    <tr>\n",
       "      <th>2</th>\n",
       "      <td>OS\\nWINDOWS 10</td>\n",
       "      <td>DISPLAY\\n15.6\" (1920 X 1080)</td>\n",
       "      <td>PROCESSOR\\nAMD RYZEN 9 OCTA CORE | 2.4 GHZ</td>\n",
       "      <td>MEMORY\\n1 TB HDD/16 GBGB DDR4</td>\n",
       "    </tr>\n",
       "    <tr>\n",
       "      <th>3</th>\n",
       "      <td>OS\\nWINDOWS 10</td>\n",
       "      <td>DISPLAY\\n15.6\" (1920 X 1080)</td>\n",
       "      <td>PROCESSOR\\nINTEL CORE I7 11TH GEN - 11375H | NA</td>\n",
       "      <td>MEMORY\\n1 TB SSD/16 GBGB DDR4</td>\n",
       "    </tr>\n",
       "    <tr>\n",
       "      <th>4</th>\n",
       "      <td>OS\\nWINDOWS 10</td>\n",
       "      <td>DISPLAY\\n15.6\" (2560 X 1440)</td>\n",
       "      <td>PROCESSOR\\nAMD RYZEN 9 OCTA CORE - 5900HX | 3....</td>\n",
       "      <td>MEMORY\\n2 TB SSD/32 GBGB DDR4</td>\n",
       "    </tr>\n",
       "    <tr>\n",
       "      <th>5</th>\n",
       "      <td>OS\\nWINDOWS 10 HOME</td>\n",
       "      <td>DISPLAY\\n15.6\" (1920 X 1080)</td>\n",
       "      <td>PROCESSOR\\nAMD RYZEN™ 9 5900HX | 3.3 GHZ</td>\n",
       "      <td>MEMORY\\n1 TB SSD/16 GBGB DDR4</td>\n",
       "    </tr>\n",
       "    <tr>\n",
       "      <th>6</th>\n",
       "      <td>OS\\nWINDOWS 10 HOME</td>\n",
       "      <td>DISPLAY\\n14\" (1920 X 1080)</td>\n",
       "      <td>PROCESSOR\\nAMD 3RD GEN RYZEN 9 | 3.3 GHZ</td>\n",
       "      <td>MEMORY\\n1 TB SSD/16 GBGB DDR4</td>\n",
       "    </tr>\n",
       "    <tr>\n",
       "      <th>7</th>\n",
       "      <td>OS\\nWINDOWS 11 HOME</td>\n",
       "      <td>DISPLAY\\n16.1\" (1920 X 1080)</td>\n",
       "      <td>PROCESSOR\\n12TH GEN INTEL CORE I7-12700H | 4.7...</td>\n",
       "      <td>MEMORY\\n1 TB SSD/16 GBGB DDR4</td>\n",
       "    </tr>\n",
       "    <tr>\n",
       "      <th>8</th>\n",
       "      <td>OS\\nWINDOWS 10</td>\n",
       "      <td>DISPLAY\\n15.6\" (3840 X 1100)</td>\n",
       "      <td>PROCESSOR\\nINTEL CORE I7 10TH GEN 10875H | NA</td>\n",
       "      <td>MEMORY\\n512 GB SSD/4 GBGB DDR4</td>\n",
       "    </tr>\n",
       "    <tr>\n",
       "      <th>9</th>\n",
       "      <td>OS\\nWINDOWS 10 HOME</td>\n",
       "      <td>DISPLAY\\n15.6\" (1920 X 1080)</td>\n",
       "      <td>PROCESSOR\\nAMD RYZEN™ 5-5500U HEXA-CORE | NA</td>\n",
       "      <td>MEMORY\\n512 GB SSD/8 GBGB DDR4</td>\n",
       "    </tr>\n",
       "  </tbody>\n",
       "</table>\n",
       "</div>"
      ],
      "text/plain": [
       "      Operating System                       Display  \\\n",
       "0  OS\\nWINDOWS 11 HOME    DISPLAY\\n17\" (3840 X 2160)   \n",
       "1  OS\\nWINDOWS 11 HOME  DISPLAY\\n15.6\" (2560 X 1440)   \n",
       "2       OS\\nWINDOWS 10  DISPLAY\\n15.6\" (1920 X 1080)   \n",
       "3       OS\\nWINDOWS 10  DISPLAY\\n15.6\" (1920 X 1080)   \n",
       "4       OS\\nWINDOWS 10  DISPLAY\\n15.6\" (2560 X 1440)   \n",
       "5  OS\\nWINDOWS 10 HOME  DISPLAY\\n15.6\" (1920 X 1080)   \n",
       "6  OS\\nWINDOWS 10 HOME    DISPLAY\\n14\" (1920 X 1080)   \n",
       "7  OS\\nWINDOWS 11 HOME  DISPLAY\\n16.1\" (1920 X 1080)   \n",
       "8       OS\\nWINDOWS 10  DISPLAY\\n15.6\" (3840 X 1100)   \n",
       "9  OS\\nWINDOWS 10 HOME  DISPLAY\\n15.6\" (1920 X 1080)   \n",
       "\n",
       "                                           Procseeor  \\\n",
       "0  PROCESSOR\\n12TH GEN INTEL CORE I9-12900HK | 5 GHZ   \n",
       "1  PROCESSOR\\n12TH GEN INTEL CORE I9-12900H | 2.5...   \n",
       "2         PROCESSOR\\nAMD RYZEN 9 OCTA CORE | 2.4 GHZ   \n",
       "3    PROCESSOR\\nINTEL CORE I7 11TH GEN - 11375H | NA   \n",
       "4  PROCESSOR\\nAMD RYZEN 9 OCTA CORE - 5900HX | 3....   \n",
       "5           PROCESSOR\\nAMD RYZEN™ 9 5900HX | 3.3 GHZ   \n",
       "6           PROCESSOR\\nAMD 3RD GEN RYZEN 9 | 3.3 GHZ   \n",
       "7  PROCESSOR\\n12TH GEN INTEL CORE I7-12700H | 4.7...   \n",
       "8      PROCESSOR\\nINTEL CORE I7 10TH GEN 10875H | NA   \n",
       "9       PROCESSOR\\nAMD RYZEN™ 5-5500U HEXA-CORE | NA   \n",
       "\n",
       "                           Memory  \n",
       "0   MEMORY\\n2 TB SSD/16 GBGB DDR5  \n",
       "1   MEMORY\\n2 TB SSD/32 GBGB DDR5  \n",
       "2   MEMORY\\n1 TB HDD/16 GBGB DDR4  \n",
       "3   MEMORY\\n1 TB SSD/16 GBGB DDR4  \n",
       "4   MEMORY\\n2 TB SSD/32 GBGB DDR4  \n",
       "5   MEMORY\\n1 TB SSD/16 GBGB DDR4  \n",
       "6   MEMORY\\n1 TB SSD/16 GBGB DDR4  \n",
       "7   MEMORY\\n1 TB SSD/16 GBGB DDR4  \n",
       "8  MEMORY\\n512 GB SSD/4 GBGB DDR4  \n",
       "9  MEMORY\\n512 GB SSD/8 GBGB DDR4  "
      ]
     },
     "execution_count": 426,
     "metadata": {},
     "output_type": "execute_result"
    }
   ],
   "source": [
    "data=pd.DataFrame({\"Operating System\":Ops,\n",
    "                  \"Display\":Display,\n",
    "                  \"Procseeor\":Procseeor,\n",
    "                  \"Memory\":Memory})\n",
    "data"
   ]
  },
  {
   "cell_type": "markdown",
   "id": "ae2df83f",
   "metadata": {},
   "source": [
    "8) Write a python program to scrape the details for all billionaires from www.forbes.com. Details to be \n",
    "scrapped: “Rank”, “Name”, “Net worth”, “Age”, “Citizenship”, “Source”, “Industry”.\n"
   ]
  },
  {
   "cell_type": "code",
   "execution_count": 6,
   "id": "6cb75e93",
   "metadata": {},
   "outputs": [],
   "source": [
    "URL=\"https://www.forbes.com/?sh=6bf07a452254\"\n",
    "\n",
    "driver=webdriver.Chrome(r\"C:\\Users\\ABC\\chromedriver.exe\")\n",
    "driver.get(URL)\n",
    "time.sleep(3)"
   ]
  },
  {
   "cell_type": "code",
   "execution_count": 7,
   "id": "3cb89d8d",
   "metadata": {},
   "outputs": [],
   "source": [
    "search=driver.find_element_by_xpath(\"/html/body/div[1]/header/nav/div[1]/button[1]\")\n",
    "search.click()\n",
    "time.sleep(3)"
   ]
  },
  {
   "cell_type": "code",
   "execution_count": 8,
   "id": "8b2ad8b2",
   "metadata": {},
   "outputs": [],
   "source": [
    "search_2=driver.find_element_by_xpath(\"/html/body/div[1]/header/nav/div[3]/ul/li[1]\")\n",
    "search_2.click()\n",
    "time.sleep(3)"
   ]
  },
  {
   "cell_type": "code",
   "execution_count": 9,
   "id": "e05adacc",
   "metadata": {},
   "outputs": [],
   "source": [
    "product_opening_urls = []\n",
    "\n",
    "for i in range(0,1):                                                  \n",
    "    url=driver.find_elements_by_xpath(\"/html/body/div[1]/header/nav/div[3]/ul/li[1]/div[2]/ul/li[2]/a\")\n",
    "    time.sleep(4)                       \n",
    "    for k in url:     \n",
    "        product_opening_urls.append(k.get_attribute(\"href\"))                        \n",
    "        time.sleep(4)"
   ]
  },
  {
   "cell_type": "code",
   "execution_count": 10,
   "id": "a5887bc3",
   "metadata": {},
   "outputs": [
    {
     "data": {
      "text/plain": [
       "['https://www.forbes.com/billionaires/']"
      ]
     },
     "execution_count": 10,
     "metadata": {},
     "output_type": "execute_result"
    }
   ],
   "source": [
    "product_opening_urls"
   ]
  },
  {
   "cell_type": "code",
   "execution_count": 19,
   "id": "09f682fd",
   "metadata": {},
   "outputs": [],
   "source": [
    "Rank=[]\n",
    "\n",
    "for i in product_opening_urls:\n",
    "    driver.get(i)\n",
    "    \n",
    "    for k in driver.find_elements_by_xpath(\"//div[@class='rank']\"):\n",
    "        Rank.append(k.text)"
   ]
  },
  {
   "cell_type": "code",
   "execution_count": 12,
   "id": "b2e958fa",
   "metadata": {},
   "outputs": [],
   "source": [
    "Name=[]\n",
    "\n",
    "for i in product_opening_urls:\n",
    "    driver.get(i)\n",
    "    \n",
    "    for k in driver.find_elements_by_xpath(\"//div[@class='personName']\"):\n",
    "        Name.append(k.text)"
   ]
  },
  {
   "cell_type": "code",
   "execution_count": 13,
   "id": "8f742c1b",
   "metadata": {},
   "outputs": [],
   "source": [
    "Net_Worth=[]\n",
    "\n",
    "for i in product_opening_urls:\n",
    "    driver.get(i)\n",
    "    \n",
    "    for k in driver.find_elements_by_xpath(\"//div[@class='netWorth']\"):\n",
    "        Net_Worth.append(k.text)"
   ]
  },
  {
   "cell_type": "code",
   "execution_count": 14,
   "id": "dae287f2",
   "metadata": {},
   "outputs": [],
   "source": [
    "Country=[]\n",
    "\n",
    "for i in product_opening_urls:\n",
    "    driver.get(i)\n",
    "    \n",
    "    for k in driver.find_elements_by_xpath(\"//div[@class='countryOfCitizenship']\"):\n",
    "        Country.append(k.text)"
   ]
  },
  {
   "cell_type": "code",
   "execution_count": 33,
   "id": "0bca9bc7",
   "metadata": {},
   "outputs": [],
   "source": [
    "Source=[]\n",
    "\n",
    "for i in product_opening_urls:\n",
    "    driver.get(i)\n",
    "    \n",
    "    for k in driver.find_elements_by_xpath(\"//span[@class='source-text']\"):\n",
    "        Source.append(k.text)"
   ]
  },
  {
   "cell_type": "code",
   "execution_count": 23,
   "id": "1e8b369d",
   "metadata": {},
   "outputs": [],
   "source": [
    "category=[]\n",
    "\n",
    "for i in product_opening_urls:\n",
    "    driver.get(i)\n",
    "    \n",
    "    for k in driver.find_elements_by_xpath(\"//div[@class='category']\"):\n",
    "        category.append(k.text)"
   ]
  },
  {
   "cell_type": "code",
   "execution_count": 26,
   "id": "dfbb6778",
   "metadata": {},
   "outputs": [],
   "source": [
    "Age=[]\n",
    "\n",
    "for i in product_opening_urls:\n",
    "    driver.get(i)\n",
    "    \n",
    "    for k in driver.find_elements_by_xpath(\"//div[@class='age']\"):\n",
    "        Age.append(k.text)"
   ]
  },
  {
   "cell_type": "code",
   "execution_count": 35,
   "id": "0551e4b0",
   "metadata": {},
   "outputs": [
    {
     "data": {
      "text/html": [
       "<div>\n",
       "<style scoped>\n",
       "    .dataframe tbody tr th:only-of-type {\n",
       "        vertical-align: middle;\n",
       "    }\n",
       "\n",
       "    .dataframe tbody tr th {\n",
       "        vertical-align: top;\n",
       "    }\n",
       "\n",
       "    .dataframe thead th {\n",
       "        text-align: right;\n",
       "    }\n",
       "</style>\n",
       "<table border=\"1\" class=\"dataframe\">\n",
       "  <thead>\n",
       "    <tr style=\"text-align: right;\">\n",
       "      <th></th>\n",
       "      <th>Rank</th>\n",
       "      <th>Name</th>\n",
       "      <th>Age</th>\n",
       "      <th>Net_Worth</th>\n",
       "      <th>Country</th>\n",
       "      <th>Source</th>\n",
       "      <th>Category</th>\n",
       "    </tr>\n",
       "  </thead>\n",
       "  <tbody>\n",
       "    <tr>\n",
       "      <th>0</th>\n",
       "      <td>1.</td>\n",
       "      <td>Elon Musk</td>\n",
       "      <td>50</td>\n",
       "      <td>$219 B</td>\n",
       "      <td>United States</td>\n",
       "      <td>Tesla, SpaceX</td>\n",
       "      <td>Automotive</td>\n",
       "    </tr>\n",
       "    <tr>\n",
       "      <th>1</th>\n",
       "      <td>2.</td>\n",
       "      <td>Jeff Bezos</td>\n",
       "      <td>58</td>\n",
       "      <td>$171 B</td>\n",
       "      <td>United States</td>\n",
       "      <td>Amazon</td>\n",
       "      <td>Technology</td>\n",
       "    </tr>\n",
       "    <tr>\n",
       "      <th>2</th>\n",
       "      <td>3.</td>\n",
       "      <td>Bernard Arnault &amp; family</td>\n",
       "      <td>73</td>\n",
       "      <td>$158 B</td>\n",
       "      <td>France</td>\n",
       "      <td>LVMH</td>\n",
       "      <td>Fashion &amp; Retail</td>\n",
       "    </tr>\n",
       "    <tr>\n",
       "      <th>3</th>\n",
       "      <td>4.</td>\n",
       "      <td>Bill Gates</td>\n",
       "      <td>66</td>\n",
       "      <td>$129 B</td>\n",
       "      <td>United States</td>\n",
       "      <td>Microsoft</td>\n",
       "      <td>Technology</td>\n",
       "    </tr>\n",
       "    <tr>\n",
       "      <th>4</th>\n",
       "      <td>5.</td>\n",
       "      <td>Warren Buffett</td>\n",
       "      <td>91</td>\n",
       "      <td>$118 B</td>\n",
       "      <td>United States</td>\n",
       "      <td>Berkshire Hathaway</td>\n",
       "      <td>Finance &amp; Investments</td>\n",
       "    </tr>\n",
       "    <tr>\n",
       "      <th>...</th>\n",
       "      <td>...</td>\n",
       "      <td>...</td>\n",
       "      <td>...</td>\n",
       "      <td>...</td>\n",
       "      <td>...</td>\n",
       "      <td>...</td>\n",
       "      <td>...</td>\n",
       "    </tr>\n",
       "    <tr>\n",
       "      <th>195</th>\n",
       "      <td>192.</td>\n",
       "      <td>Marcel Herrmann Telles</td>\n",
       "      <td>72</td>\n",
       "      <td>$10.3 B</td>\n",
       "      <td>Brazil</td>\n",
       "      <td>beer</td>\n",
       "      <td>Food &amp; Beverage</td>\n",
       "    </tr>\n",
       "    <tr>\n",
       "      <th>196</th>\n",
       "      <td>197.</td>\n",
       "      <td>Leon Black</td>\n",
       "      <td>70</td>\n",
       "      <td>$10 B</td>\n",
       "      <td>United States</td>\n",
       "      <td>private equity</td>\n",
       "      <td>Finance &amp; Investments</td>\n",
       "    </tr>\n",
       "    <tr>\n",
       "      <th>197</th>\n",
       "      <td>197.</td>\n",
       "      <td>Joe Gebbia</td>\n",
       "      <td>40</td>\n",
       "      <td>$10 B</td>\n",
       "      <td>United States</td>\n",
       "      <td>Airbnb</td>\n",
       "      <td>Technology</td>\n",
       "    </tr>\n",
       "    <tr>\n",
       "      <th>198</th>\n",
       "      <td>197.</td>\n",
       "      <td>David Geffen</td>\n",
       "      <td>79</td>\n",
       "      <td>$10 B</td>\n",
       "      <td>United States</td>\n",
       "      <td>movies, record labels</td>\n",
       "      <td>Media &amp; Entertainment</td>\n",
       "    </tr>\n",
       "    <tr>\n",
       "      <th>199</th>\n",
       "      <td>197.</td>\n",
       "      <td>Yu Renrong</td>\n",
       "      <td>56</td>\n",
       "      <td>$10 B</td>\n",
       "      <td>China</td>\n",
       "      <td>semiconductors</td>\n",
       "      <td>Manufacturing</td>\n",
       "    </tr>\n",
       "  </tbody>\n",
       "</table>\n",
       "<p>200 rows × 7 columns</p>\n",
       "</div>"
      ],
      "text/plain": [
       "     Rank                      Name Age Net_Worth        Country  \\\n",
       "0      1.                 Elon Musk  50    $219 B  United States   \n",
       "1      2.                Jeff Bezos  58    $171 B  United States   \n",
       "2      3.  Bernard Arnault & family  73    $158 B         France   \n",
       "3      4.                Bill Gates  66    $129 B  United States   \n",
       "4      5.            Warren Buffett  91    $118 B  United States   \n",
       "..    ...                       ...  ..       ...            ...   \n",
       "195  192.    Marcel Herrmann Telles  72   $10.3 B         Brazil   \n",
       "196  197.                Leon Black  70     $10 B  United States   \n",
       "197  197.                Joe Gebbia  40     $10 B  United States   \n",
       "198  197.              David Geffen  79     $10 B  United States   \n",
       "199  197.                Yu Renrong  56     $10 B          China   \n",
       "\n",
       "                    Source               Category  \n",
       "0            Tesla, SpaceX             Automotive  \n",
       "1                   Amazon             Technology  \n",
       "2                     LVMH       Fashion & Retail  \n",
       "3                Microsoft             Technology  \n",
       "4       Berkshire Hathaway  Finance & Investments  \n",
       "..                     ...                    ...  \n",
       "195                   beer        Food & Beverage  \n",
       "196         private equity  Finance & Investments  \n",
       "197                 Airbnb             Technology  \n",
       "198  movies, record labels  Media & Entertainment  \n",
       "199         semiconductors          Manufacturing  \n",
       "\n",
       "[200 rows x 7 columns]"
      ]
     },
     "execution_count": 35,
     "metadata": {},
     "output_type": "execute_result"
    }
   ],
   "source": [
    "data=pd.DataFrame({\"Rank\":Rank,\n",
    "                 \"Name\":Name,\n",
    "                  \"Age\":Age,\n",
    "                 \"Net_Worth\":Net_Worth,\n",
    "                  \"Country\":Country,\n",
    "                  \"Source\":Source,\n",
    "                  \"Category\":category\n",
    "                 })\n",
    "data"
   ]
  },
  {
   "cell_type": "code",
   "execution_count": null,
   "id": "d63edfed",
   "metadata": {},
   "outputs": [],
   "source": []
  },
  {
   "cell_type": "markdown",
   "id": "d25c3c00",
   "metadata": {},
   "source": [
    "9) Write a program to extract at least 500 Comments, Comment upvote and time when comment was posted \n",
    "from any YouTube Video."
   ]
  },
  {
   "cell_type": "code",
   "execution_count": 49,
   "id": "3f5078d4",
   "metadata": {},
   "outputs": [],
   "source": [
    "from selenium.common.exceptions import NoSuchElementException    "
   ]
  },
  {
   "cell_type": "code",
   "execution_count": 50,
   "id": "8f305fd8",
   "metadata": {},
   "outputs": [],
   "source": [
    "driver=webdriver.Chrome(r\"C:\\Users\\ABC\\chromedriver.exe\")"
   ]
  },
  {
   "cell_type": "code",
   "execution_count": 51,
   "id": "54273cce",
   "metadata": {},
   "outputs": [],
   "source": [
    "driver.get(\"https://www.youtube.com/?feature=ytca\")"
   ]
  },
  {
   "cell_type": "code",
   "execution_count": 52,
   "id": "973727d4",
   "metadata": {},
   "outputs": [],
   "source": [
    "cli=driver.find_element_by_xpath(\"/html/body/ytd-app/div[1]/div/ytd-masthead/div[3]/div[2]/ytd-searchbox/form/div[1]/div[1]/input\")\n",
    "cli.send_keys('Verna Car')"
   ]
  },
  {
   "cell_type": "code",
   "execution_count": 53,
   "id": "d71c61f6",
   "metadata": {},
   "outputs": [],
   "source": [
    "clk_2=driver.find_element_by_xpath(\"/html/body/ytd-app/div[1]/div/ytd-masthead/div[3]/div[2]/ytd-searchbox/button\")\n",
    "clk_2.click()"
   ]
  },
  {
   "cell_type": "code",
   "execution_count": 65,
   "id": "735a612d",
   "metadata": {},
   "outputs": [],
   "source": [
    "video_url=[]\n",
    "\n",
    "for i in range(0,1):\n",
    "    vid=driver.find_elements_by_xpath(\"/html/body/ytd-app/div[1]/ytd-page-manager/ytd-browse/ytd-two-column-browse-results-renderer/div[1]/ytd-rich-grid-renderer/div[6]/ytd-rich-grid-row[1]/div/ytd-rich-item-renderer/div/ytd-rich-grid-media/div[1]/div[2]/div[1]/h3/a\")\n",
    "    time.sleep(3)\n",
    "    \n",
    "    for k in vid:\n",
    "        video_url.append(k.get_attribute(\"href\"))"
   ]
  },
  {
   "cell_type": "code",
   "execution_count": 66,
   "id": "22995d7a",
   "metadata": {},
   "outputs": [
    {
     "data": {
      "text/plain": [
       "['https://www.youtube.com/watch?v=glMqtch_v00']"
      ]
     },
     "execution_count": 66,
     "metadata": {},
     "output_type": "execute_result"
    }
   ],
   "source": [
    "video_url"
   ]
  },
  {
   "cell_type": "code",
   "execution_count": 67,
   "id": "f74f8c5c",
   "metadata": {},
   "outputs": [],
   "source": [
    "for i in video_url:\n",
    "    driver.get(i)\n",
    "\n",
    "for i in range(1000):\n",
    "    driver.execute_script(\"window.scrollBy(0,10000)\")\n",
    "\n",
    "comments = []\n",
    "\n",
    "cm = driver.find_elements_by_id(\"//div[@class='style-scope ytd-expander']\")\n",
    "\n",
    "for i in cm:\n",
    "\n",
    "    if i.text is None:\n",
    "\n",
    "        comments.append(\"--\")\n",
    "\n",
    "    else:\n",
    "\n",
    "        comments.append(i.text)\n",
    "\n",
    "time.sleep(5)"
   ]
  },
  {
   "cell_type": "code",
   "execution_count": 69,
   "id": "2adf5daf",
   "metadata": {},
   "outputs": [
    {
     "data": {
      "text/plain": [
       "[]"
      ]
     },
     "execution_count": 69,
     "metadata": {},
     "output_type": "execute_result"
    }
   ],
   "source": [
    "comments"
   ]
  },
  {
   "cell_type": "markdown",
   "id": "c81c06b9",
   "metadata": {},
   "source": [
    "10) Write a python program to scrape a data for all available Hostels from https://www.hostelworld.com/ in \n",
    "“London” location. You have to scrape hostel name, distance from city centre, ratings, total reviews, \n",
    "overall reviews, privates from price, dorms from price, facilities and property description."
   ]
  },
  {
   "cell_type": "code",
   "execution_count": 1,
   "id": "ab00d571",
   "metadata": {},
   "outputs": [],
   "source": [
    "import pandas as pd\n",
    "import selenium\n",
    "from selenium import webdriver\n",
    "import time\n",
    "import warnings\n",
    "warnings.filterwarnings(\"ignore\")"
   ]
  },
  {
   "cell_type": "code",
   "execution_count": 89,
   "id": "c955d238",
   "metadata": {},
   "outputs": [],
   "source": [
    "driver=webdriver.Chrome(r\"C:\\Users\\ABC\\chromedriver.exe\")"
   ]
  },
  {
   "cell_type": "code",
   "execution_count": 90,
   "id": "e6632d45",
   "metadata": {},
   "outputs": [],
   "source": [
    "driver.get(\"https://www.hostelworld.com/\")"
   ]
  },
  {
   "cell_type": "code",
   "execution_count": 98,
   "id": "29a23bcc",
   "metadata": {},
   "outputs": [],
   "source": [
    "search_1=driver.find_element_by_xpath(\"/html/body/div[3]/div/div/div[1]/div[1]/div/div[2]/div[4]/div/div[2]/div/div[1]/div/div/div/input\")\n",
    "search_1.send_keys(\"london\")"
   ]
  },
  {
   "cell_type": "code",
   "execution_count": 99,
   "id": "7f678b21",
   "metadata": {},
   "outputs": [],
   "source": [
    "search_2=driver.find_element_by_xpath(\"/html/body/div[3]/div/div/div[1]/div[1]/div/div[2]/div[4]/div/div[2]/div/div[1]/div/div/ul/li[2]\")\n",
    "search_2.click()"
   ]
  },
  {
   "cell_type": "code",
   "execution_count": 100,
   "id": "27c86628",
   "metadata": {},
   "outputs": [],
   "source": [
    "search_2=driver.find_element_by_xpath(\"/html/body/div[3]/div/div/div[1]/div[1]/div/div[2]/div[4]/div/div[2]/div/div[5]/button\")\n",
    "search_2.click()"
   ]
  },
  {
   "cell_type": "code",
   "execution_count": 103,
   "id": "ac39ba15",
   "metadata": {},
   "outputs": [],
   "source": [
    "Distance_from_city_centre=[]\n",
    "\n",
    "dd=driver.find_elements_by_xpath(\"//span[@class='description']\")\n",
    "for i in dd:\n",
    "    Distance_from_city_centre.append(i.text)"
   ]
  },
  {
   "cell_type": "code",
   "execution_count": 106,
   "id": "50bc774d",
   "metadata": {},
   "outputs": [],
   "source": [
    "opening_urls=[]\n",
    "\n",
    "ope=driver.find_elements_by_xpath(\"//a[@class='view-button']\")\n",
    "time.sleep(3)\n",
    "    \n",
    "for k in ope:\n",
    "    opening_urls.append(k.get_attribute(\"href\"))"
   ]
  },
  {
   "cell_type": "code",
   "execution_count": 108,
   "id": "3ebb0f44",
   "metadata": {},
   "outputs": [],
   "source": [
    "Hostal_name=[]\n",
    "\n",
    "for i in opening_urls:\n",
    "    driver.get(i)\n",
    "    time.sleep(3)\n",
    "    \n",
    "    for k in driver.find_elements_by_xpath(\"//div[@class='title-2']\"):\n",
    "        Hostal_name.append(k.text)"
   ]
  },
  {
   "cell_type": "code",
   "execution_count": 9,
   "id": "b6bbfd28",
   "metadata": {},
   "outputs": [],
   "source": [
    "from selenium.common.exceptions import NoSuchElementException  "
   ]
  },
  {
   "cell_type": "code",
   "execution_count": 113,
   "id": "e089eaf3",
   "metadata": {},
   "outputs": [],
   "source": [
    "rating=[]\n",
    "\n",
    "for i in opening_urls:\n",
    "    driver.get(i)\n",
    "    time.sleep(3)\n",
    "    \n",
    "    try:\n",
    "        pp=driver.find_element_by_xpath(\"//div[@class='score orange big']\")\n",
    "        rating.append(pp.text)\n",
    "    except NoSuchElementException:\n",
    "        rating.append(\"--\")"
   ]
  },
  {
   "cell_type": "code",
   "execution_count": 115,
   "id": "ce545056",
   "metadata": {},
   "outputs": [],
   "source": [
    "Total_reviews=[]\n",
    "\n",
    "for i in opening_urls:\n",
    "    driver.get(i)\n",
    "    time.sleep(3)\n",
    "    \n",
    "    for k in driver.find_elements_by_xpath(\"//div[@class='reviews']\"):\n",
    "        Total_reviews.append(k.text)"
   ]
  },
  {
   "cell_type": "code",
   "execution_count": 117,
   "id": "ff36dc9a",
   "metadata": {},
   "outputs": [],
   "source": [
    "for i in range(0,1):\n",
    "    Total_reviews=Total_reviews[i::2]"
   ]
  },
  {
   "cell_type": "code",
   "execution_count": 149,
   "id": "7a8f1baa",
   "metadata": {},
   "outputs": [],
   "source": [
    "facilities=[]\n",
    "\n",
    "for i in opening_urls:\n",
    "    driver.get(i)\n",
    "    time.sleep(3)\n",
    "    \n",
    "    try:\n",
    "        ff=driver.find_element_by_xpath(\"/html/body/div[3]/div/div/div[1]/section/div[10]/div/ul/li[1]/ul\")\n",
    "        facilities.append(ff.text)\n",
    "    except NoSuchElementException :\n",
    "        facilities.append(\"--\")"
   ]
  },
  {
   "cell_type": "code",
   "execution_count": 170,
   "id": "e981dc96",
   "metadata": {},
   "outputs": [],
   "source": [
    "Genral_fac=[]\n",
    "\n",
    "for i in opening_urls:\n",
    "    driver.get(i)\n",
    "    time.sleep(3)\n",
    "   \n",
    "    try:\n",
    "        ff=driver.find_element_by_xpath(\"/html/body/div[3]/div/div/div[1]/section/div[10]/div/ul/li[2]/ul\")\n",
    "        Genral_fac.append(ff.text)\n",
    "    except NoSuchElementException :\n",
    "        Genral_fac.append(\"--\")"
   ]
  },
  {
   "cell_type": "code",
   "execution_count": 159,
   "id": "6c28fad0",
   "metadata": {},
   "outputs": [],
   "source": [
    "Services_fac=[]\n",
    "\n",
    "for i in opening_urls:\n",
    "    driver.get(i)\n",
    "    time.sleep(3)\n",
    "   \n",
    "    try:\n",
    "        ss=driver.find_element_by_xpath(\"/html/body/div[3]/div/div/div[1]/section/div[10]/div/ul/li[3]/ul\")\n",
    "        Services_fac.append(ss.text)\n",
    "    except NoSuchElementException :\n",
    "        Services_fac.append(\"--\")"
   ]
  },
  {
   "cell_type": "code",
   "execution_count": 161,
   "id": "3e5038e3",
   "metadata": {},
   "outputs": [],
   "source": [
    "Food_Drink_fac=[]\n",
    "\n",
    "for i in opening_urls:\n",
    "    driver.get(i)\n",
    "    time.sleep(3)\n",
    "   \n",
    "    try:\n",
    "        dd=driver.find_element_by_xpath(\"/html/body/div[3]/div/div/div[1]/section/div[10]/div/ul/li[4]/ul\")\n",
    "        Food_Drink_fac.append(dd.text)\n",
    "    except NoSuchElementException :\n",
    "        Food_Drink_fac.append(\"--\")"
   ]
  },
  {
   "cell_type": "code",
   "execution_count": 164,
   "id": "0fd60d56",
   "metadata": {},
   "outputs": [],
   "source": [
    "Private_Rooms=[]\n",
    "\n",
    "for i in opening_urls:\n",
    "    driver.get(i)\n",
    "    time.sleep(3)\n",
    "   \n",
    "    try:\n",
    "        dd=driver.find_element_by_xpath(\"//div[@class='room-details']\")\n",
    "        Private_Rooms.append(dd.text)\n",
    "    except NoSuchElementException :\n",
    "        Private_Rooms.append(\"--\")"
   ]
  },
  {
   "cell_type": "code",
   "execution_count": 172,
   "id": "7c3f1332",
   "metadata": {},
   "outputs": [],
   "source": [
    "data=pd.DataFrame({\"Hostal_name\":Hostal_name,\n",
    "                  \"Distance from citycentre\":Distance_from_city_centre,\n",
    "                  \"Rating\":rating,\n",
    "                  \"Total_reviews\":Total_reviews,\n",
    "                  \"Free Facilities\":facilities,\n",
    "                  \"Genral_fac\":Genral_fac,\n",
    "                  \"Services_fac\":Services_fac,\n",
    "                  \"Food_Drink_fac\":Food_Drink_fac,\n",
    "                  \"Private_Rooms\":Private_Rooms})"
   ]
  },
  {
   "cell_type": "code",
   "execution_count": 173,
   "id": "747891e5",
   "metadata": {},
   "outputs": [
    {
     "data": {
      "text/html": [
       "<div>\n",
       "<style scoped>\n",
       "    .dataframe tbody tr th:only-of-type {\n",
       "        vertical-align: middle;\n",
       "    }\n",
       "\n",
       "    .dataframe tbody tr th {\n",
       "        vertical-align: top;\n",
       "    }\n",
       "\n",
       "    .dataframe thead th {\n",
       "        text-align: right;\n",
       "    }\n",
       "</style>\n",
       "<table border=\"1\" class=\"dataframe\">\n",
       "  <thead>\n",
       "    <tr style=\"text-align: right;\">\n",
       "      <th></th>\n",
       "      <th>Hostal_name</th>\n",
       "      <th>Distance from citycentre</th>\n",
       "      <th>Rating</th>\n",
       "      <th>Total_reviews</th>\n",
       "      <th>Free Facilities</th>\n",
       "      <th>Genral_fac</th>\n",
       "      <th>Services_fac</th>\n",
       "      <th>Food_Drink_fac</th>\n",
       "      <th>Private_Rooms</th>\n",
       "    </tr>\n",
       "  </thead>\n",
       "  <tbody>\n",
       "    <tr>\n",
       "      <th>0</th>\n",
       "      <td>St Christopher's Village</td>\n",
       "      <td>Hostel - 1.8km from city centre</td>\n",
       "      <td>7.9</td>\n",
       "      <td>11206 Total Reviews</td>\n",
       "      <td>Linen Included Free City Maps Free WiFi Free I...</td>\n",
       "      <td>Security Lockers Key Card Access Common Room E...</td>\n",
       "      <td>Internet access Laundry Facilities Towels for ...</td>\n",
       "      <td>Restaurant Bar Meals Available Vending Machine...</td>\n",
       "      <td>Spacious triple bunk room complete with locker...</td>\n",
       "    </tr>\n",
       "    <tr>\n",
       "      <th>1</th>\n",
       "      <td>Selina Camden</td>\n",
       "      <td>Hostel - 5.5km from city centre</td>\n",
       "      <td>9.6</td>\n",
       "      <td>24 Total Reviews</td>\n",
       "      <td>--</td>\n",
       "      <td>--</td>\n",
       "      <td>--</td>\n",
       "      <td>--</td>\n",
       "      <td>The suite ofers opulent comfort with a queen s...</td>\n",
       "    </tr>\n",
       "    <tr>\n",
       "      <th>2</th>\n",
       "      <td>Generator London</td>\n",
       "      <td>Hostel - 3km from city centre</td>\n",
       "      <td>7.7</td>\n",
       "      <td>6943 Total Reviews</td>\n",
       "      <td>--</td>\n",
       "      <td>Wheelchair Friendly Security Lockers Key Card ...</td>\n",
       "      <td>Internet access Laundry Facilities Airport Tra...</td>\n",
       "      <td>Restaurant Bar Meals Available Vending Machine...</td>\n",
       "      <td>--</td>\n",
       "    </tr>\n",
       "    <tr>\n",
       "      <th>3</th>\n",
       "      <td>Safestay London Elephant &amp; Castle</td>\n",
       "      <td>Hostel - 1.7km from city centre</td>\n",
       "      <td>7.2</td>\n",
       "      <td>4248 Total Reviews</td>\n",
       "      <td>Linen Included Free City Maps Free WiFi</td>\n",
       "      <td>Security Lockers Key Card Access Common Room E...</td>\n",
       "      <td>Internet access Laundry Facilities Towels for ...</td>\n",
       "      <td>Bar Vending Machines Cafe</td>\n",
       "      <td>--</td>\n",
       "    </tr>\n",
       "    <tr>\n",
       "      <th>4</th>\n",
       "      <td>St Christopher's Hammersmith</td>\n",
       "      <td>Hostel - 7.5km from city centre</td>\n",
       "      <td>7.8</td>\n",
       "      <td>4020 Total Reviews</td>\n",
       "      <td>Linen Included Free City Maps Free WiFi Free I...</td>\n",
       "      <td>Security Lockers Key Card Access Hot Showers R...</td>\n",
       "      <td>Internet access Towels for hire Luggage Storag...</td>\n",
       "      <td>Restaurant Bar Vending Machines</td>\n",
       "      <td>Spacious triple bunk room complete with locker...</td>\n",
       "    </tr>\n",
       "    <tr>\n",
       "      <th>5</th>\n",
       "      <td>Saint James Backpackers</td>\n",
       "      <td>Hostel - 5.5km from city centre</td>\n",
       "      <td>6.0</td>\n",
       "      <td>1789 Total Reviews</td>\n",
       "      <td>Free Breakfast Linen Included Free City Maps F...</td>\n",
       "      <td>Security Lockers Common Room BBQ Adaptors Hot ...</td>\n",
       "      <td>Internet access Towels for hire Luggage Storag...</td>\n",
       "      <td>Meals Available Vending Machines Cafe Tea &amp; Co...</td>\n",
       "      <td>3 bed (triple bunk) private room</td>\n",
       "    </tr>\n",
       "    <tr>\n",
       "      <th>6</th>\n",
       "      <td>Barry House</td>\n",
       "      <td>Bed and Breakfast - 4.2km from city centre</td>\n",
       "      <td>8.6</td>\n",
       "      <td>10 Total Reviews</td>\n",
       "      <td>Free Breakfast Free City Maps Towels Included ...</td>\n",
       "      <td>Hot Showers Cots Available Cable TV Hair Dryer...</td>\n",
       "      <td>Laundry Facilities Luggage Storage 24 Hour Rec...</td>\n",
       "      <td>Tea &amp; Coffee Making Facilities</td>\n",
       "      <td>Standard Quad Room en-suite with one Double Be...</td>\n",
       "    </tr>\n",
       "    <tr>\n",
       "      <th>7</th>\n",
       "      <td>Best Western Boltons London Kensington</td>\n",
       "      <td>Hotel - 5.4km from city centre</td>\n",
       "      <td>--</td>\n",
       "      <td>2 Total Reviews</td>\n",
       "      <td>Towels Included Free WiFi</td>\n",
       "      <td>Key Card Access Elevator Breakfast Not Include...</td>\n",
       "      <td>Internet access Luggage Storage 24 Hour Recept...</td>\n",
       "      <td>Tea &amp; Coffee Making Facilities</td>\n",
       "      <td>Contemporary room with a queen sized bed, an a...</td>\n",
       "    </tr>\n",
       "  </tbody>\n",
       "</table>\n",
       "</div>"
      ],
      "text/plain": [
       "                              Hostal_name  \\\n",
       "0                St Christopher's Village   \n",
       "1                           Selina Camden   \n",
       "2                        Generator London   \n",
       "3       Safestay London Elephant & Castle   \n",
       "4            St Christopher's Hammersmith   \n",
       "5                 Saint James Backpackers   \n",
       "6                             Barry House   \n",
       "7  Best Western Boltons London Kensington   \n",
       "\n",
       "                     Distance from citycentre Rating        Total_reviews  \\\n",
       "0             Hostel - 1.8km from city centre    7.9  11206 Total Reviews   \n",
       "1             Hostel - 5.5km from city centre    9.6     24 Total Reviews   \n",
       "2               Hostel - 3km from city centre    7.7   6943 Total Reviews   \n",
       "3             Hostel - 1.7km from city centre    7.2   4248 Total Reviews   \n",
       "4             Hostel - 7.5km from city centre    7.8   4020 Total Reviews   \n",
       "5             Hostel - 5.5km from city centre    6.0   1789 Total Reviews   \n",
       "6  Bed and Breakfast - 4.2km from city centre    8.6     10 Total Reviews   \n",
       "7              Hotel - 5.4km from city centre     --      2 Total Reviews   \n",
       "\n",
       "                                     Free Facilities  \\\n",
       "0  Linen Included Free City Maps Free WiFi Free I...   \n",
       "1                                                 --   \n",
       "2                                                 --   \n",
       "3            Linen Included Free City Maps Free WiFi   \n",
       "4  Linen Included Free City Maps Free WiFi Free I...   \n",
       "5  Free Breakfast Linen Included Free City Maps F...   \n",
       "6  Free Breakfast Free City Maps Towels Included ...   \n",
       "7                          Towels Included Free WiFi   \n",
       "\n",
       "                                          Genral_fac  \\\n",
       "0  Security Lockers Key Card Access Common Room E...   \n",
       "1                                                 --   \n",
       "2  Wheelchair Friendly Security Lockers Key Card ...   \n",
       "3  Security Lockers Key Card Access Common Room E...   \n",
       "4  Security Lockers Key Card Access Hot Showers R...   \n",
       "5  Security Lockers Common Room BBQ Adaptors Hot ...   \n",
       "6  Hot Showers Cots Available Cable TV Hair Dryer...   \n",
       "7  Key Card Access Elevator Breakfast Not Include...   \n",
       "\n",
       "                                        Services_fac  \\\n",
       "0  Internet access Laundry Facilities Towels for ...   \n",
       "1                                                 --   \n",
       "2  Internet access Laundry Facilities Airport Tra...   \n",
       "3  Internet access Laundry Facilities Towels for ...   \n",
       "4  Internet access Towels for hire Luggage Storag...   \n",
       "5  Internet access Towels for hire Luggage Storag...   \n",
       "6  Laundry Facilities Luggage Storage 24 Hour Rec...   \n",
       "7  Internet access Luggage Storage 24 Hour Recept...   \n",
       "\n",
       "                                      Food_Drink_fac  \\\n",
       "0  Restaurant Bar Meals Available Vending Machine...   \n",
       "1                                                 --   \n",
       "2  Restaurant Bar Meals Available Vending Machine...   \n",
       "3                          Bar Vending Machines Cafe   \n",
       "4                    Restaurant Bar Vending Machines   \n",
       "5  Meals Available Vending Machines Cafe Tea & Co...   \n",
       "6                     Tea & Coffee Making Facilities   \n",
       "7                     Tea & Coffee Making Facilities   \n",
       "\n",
       "                                       Private_Rooms  \n",
       "0  Spacious triple bunk room complete with locker...  \n",
       "1  The suite ofers opulent comfort with a queen s...  \n",
       "2                                                 --  \n",
       "3                                                 --  \n",
       "4  Spacious triple bunk room complete with locker...  \n",
       "5                   3 bed (triple bunk) private room  \n",
       "6  Standard Quad Room en-suite with one Double Be...  \n",
       "7  Contemporary room with a queen sized bed, an a...  "
      ]
     },
     "execution_count": 173,
     "metadata": {},
     "output_type": "execute_result"
    }
   ],
   "source": [
    "data"
   ]
  },
  {
   "cell_type": "code",
   "execution_count": null,
   "id": "59e6a34c",
   "metadata": {},
   "outputs": [],
   "source": []
  }
 ],
 "metadata": {
  "kernelspec": {
   "display_name": "Python 3 (ipykernel)",
   "language": "python",
   "name": "python3"
  },
  "language_info": {
   "codemirror_mode": {
    "name": "ipython",
    "version": 3
   },
   "file_extension": ".py",
   "mimetype": "text/x-python",
   "name": "python",
   "nbconvert_exporter": "python",
   "pygments_lexer": "ipython3",
   "version": "3.9.7"
  }
 },
 "nbformat": 4,
 "nbformat_minor": 5
}
