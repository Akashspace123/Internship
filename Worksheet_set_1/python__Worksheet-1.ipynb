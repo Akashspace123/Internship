{
 "cells": [
  {
   "cell_type": "code",
   "execution_count": 2,
   "id": "c9cab101",
   "metadata": {},
   "outputs": [],
   "source": [
    "# 1) Which of the following operators is used to calculate remainder in a division?\n",
    "# Ans.(c) % \n"
   ]
  },
  {
   "cell_type": "code",
   "execution_count": 3,
   "id": "1c21564f",
   "metadata": {},
   "outputs": [],
   "source": [
    "# 2) In python 2//3 is equal to?\n",
    "# Ans.(B) 0        (Because // is used for ignoring decimal values.)\n",
    "\n"
   ]
  },
  {
   "cell_type": "code",
   "execution_count": 4,
   "id": "3d671908",
   "metadata": {},
   "outputs": [],
   "source": [
    "# 3) In python, 6<<2 is equal to?              Solution intput - bin(6)\n",
    "# Ans.(c) 24                                            output - 0b110\n",
    "#                                                       input-int(0b11000) we have added two zero.\n",
    "#                                                       output - 24   \n"
   ]
  },
  {
   "cell_type": "code",
   "execution_count": 5,
   "id": "438b069e",
   "metadata": {},
   "outputs": [],
   "source": [
    "# 4) In python, 6&2 will give which of the following as output?\n",
    "# Ans.(a) 2     \n"
   ]
  },
  {
   "cell_type": "code",
   "execution_count": 6,
   "id": "e96b901b",
   "metadata": {},
   "outputs": [],
   "source": [
    "# 5) In python, 6|2 will give which of the following as output?\n",
    "# Ans.(d) 6\n"
   ]
  },
  {
   "cell_type": "code",
   "execution_count": 7,
   "id": "5f838db0",
   "metadata": {},
   "outputs": [],
   "source": [
    "# 6) What does the finally keyword denotes in python?\n",
    "# Ans.() the finally block will be executed no matter if the try block raises an error or not.\n"
   ]
  },
  {
   "cell_type": "code",
   "execution_count": 8,
   "id": "99f46742",
   "metadata": {},
   "outputs": [],
   "source": [
    "# 7)What does raise keyword is used for in python?\n",
    "# Ans.(a) It is used to raise an exception\n"
   ]
  },
  {
   "cell_type": "code",
   "execution_count": 9,
   "id": "15f178d6",
   "metadata": {},
   "outputs": [],
   "source": [
    "# 8)Which of the following is a common use case of yield keyword in python?\n",
    "# Ans.(c) in defining a generator.\n"
   ]
  },
  {
   "cell_type": "code",
   "execution_count": 10,
   "id": "6353815b",
   "metadata": {},
   "outputs": [],
   "source": [
    "# 9) Which of the following are the valid variable names?\n",
    "# Ans.(A) _abc\n",
    "#     (C) abc2\n"
   ]
  },
  {
   "cell_type": "code",
   "execution_count": 11,
   "id": "5986d88a",
   "metadata": {},
   "outputs": [],
   "source": [
    "# 10) Which of the following are the keywords in python?\n",
    "# Ans.(A) yield (B) raise\n"
   ]
  },
  {
   "cell_type": "markdown",
   "id": "a9ccedad",
   "metadata": {},
   "source": [
    "11) Write a python program to find the factorial of a number."
   ]
  },
  {
   "cell_type": "code",
   "execution_count": 12,
   "id": "030cb128",
   "metadata": {},
   "outputs": [
    {
     "name": "stdout",
     "output_type": "stream",
     "text": [
      "Enter any number : 5\n",
      "Factorial of the given number is:  120\n"
     ]
    }
   ],
   "source": [
    "num=int(input(\"Enter any number : \"))\n",
    "fact = 1\n",
    "if num<0:\n",
    "    print(\"Factorial not exist for negative number \")\n",
    "    \n",
    "elif num==0:\n",
    "    print(\"Factorial of 0 is 1\")\n",
    "    \n",
    "else:\n",
    "    if num>=1:\n",
    "        for i in range (1, num+1):\n",
    "            fact = fact *i\n",
    "\n",
    "    print (\"Factorial of the given number is: \", fact)"
   ]
  },
  {
   "cell_type": "code",
   "execution_count": 13,
   "id": "287226f0",
   "metadata": {},
   "outputs": [],
   "source": [
    "import math\n",
    "\n",
    "def factorial(num):\n",
    "    \n",
    "    return(math.factorial(num))"
   ]
  },
  {
   "cell_type": "code",
   "execution_count": 14,
   "id": "5b2894d0",
   "metadata": {},
   "outputs": [
    {
     "data": {
      "text/plain": [
       "120"
      ]
     },
     "execution_count": 14,
     "metadata": {},
     "output_type": "execute_result"
    }
   ],
   "source": [
    "factorial(5)"
   ]
  },
  {
   "cell_type": "markdown",
   "id": "37ad4def",
   "metadata": {},
   "source": [
    "12. Write a python program to find whether a number is prime or composite."
   ]
  },
  {
   "cell_type": "code",
   "execution_count": 25,
   "id": "577fd8d9",
   "metadata": {},
   "outputs": [
    {
     "name": "stdout",
     "output_type": "stream",
     "text": [
      "Enter Any Number :99\n",
      "99 is composite\n"
     ]
    }
   ],
   "source": [
    "num=int(input(\"Enter Any Number :\"))\n",
    "\n",
    "if num<1:\n",
    "    (\"Number needs to be greater than 1\")\n",
    "elif num==1:\n",
    "    (num,\"neither prime nor composite\")\n",
    "else:\n",
    "    for i in range(2,(num//2)+1):\n",
    "        if num % i==0:\n",
    "            print(num,\"is composite\")\n",
    "            break\n",
    "    else:\n",
    "            print(num,\"is prime\")"
   ]
  },
  {
   "cell_type": "markdown",
   "id": "0d99b070",
   "metadata": {},
   "source": [
    "13. Write a python program to check whether a given string is palindrome or not."
   ]
  },
  {
   "cell_type": "code",
   "execution_count": 49,
   "id": "72c85a20",
   "metadata": {},
   "outputs": [
    {
     "name": "stdout",
     "output_type": "stream",
     "text": [
      "Type Any string :madam\n",
      "madam\n",
      "madam : This string is palindrome \n"
     ]
    }
   ],
   "source": [
    "def reverse(string):\n",
    "    string=string[::-1]\n",
    "    return string\n",
    "\n",
    "\n",
    "string=input(\"Type Any string :\")\n",
    "\n",
    "dd=reverse(string)\n",
    "print(dd)\n",
    "\n",
    "if dd==string:\n",
    "    print(string,\": This string is palindrome \")\n",
    "else:\n",
    "    print(string,\": This string is not palindrome\")"
   ]
  },
  {
   "cell_type": "markdown",
   "id": "b2f83046",
   "metadata": {},
   "source": [
    "14. Write a Python program to get the third side of right-angled triangle from two given sides."
   ]
  },
  {
   "cell_type": "code",
   "execution_count": 74,
   "id": "ea90c372",
   "metadata": {},
   "outputs": [
    {
     "name": "stdout",
     "output_type": "stream",
     "text": [
      "Enter 1st side :5\n",
      "Enter 2nd side : 6\n",
      "Third side of right-angled triangle is 7.810249675906654\n"
     ]
    }
   ],
   "source": [
    "import math\n",
    "\n",
    "ab=int(input(\"Enter 1st side :\"))\n",
    "ac=int(input(\"Enter 2nd side : \"))\n",
    "\n",
    "sq=(ab*ab)+(ac*ac)\n",
    "bc=math.sqrt(sq)\n",
    "\n",
    "print(\"Third side of right-angled triangle is\",bc)"
   ]
  },
  {
   "cell_type": "markdown",
   "id": "033a5edc",
   "metadata": {},
   "source": [
    "15. Write a python program to print the frequency of each of the characters present in a given string."
   ]
  },
  {
   "cell_type": "code",
   "execution_count": 91,
   "id": "e2de817f",
   "metadata": {},
   "outputs": [
    {
     "name": "stdout",
     "output_type": "stream",
     "text": [
      "Enter any string: Mumbai\n",
      "M - 1 time\n",
      "u - 1 time\n",
      "m - 1 time\n",
      "b - 1 time\n",
      "a - 1 time\n",
      "i - 1 time\n",
      "IndexError: Handled\n",
      "The Frequency of give string characters have been mentioned above.\n"
     ]
    }
   ],
   "source": [
    "st=input(\"Enter any string: \")\n",
    "\n",
    "le=len(st)\n",
    "aa=st.count(st[0])\n",
    "bb=st[0]\n",
    "\n",
    "try:\n",
    "     for i in range(le):\n",
    "        print(bb,\"-\",aa,\"time\")\n",
    "        bb=st[i+1]\n",
    "        aa=st.count(bb)\n",
    "except:\n",
    "    print(\"IndexError: Handled\")\n",
    "finally:\n",
    "    print(\"The Frequency of give string characters have been mentioned above.\")\n",
    "    "
   ]
  },
  {
   "cell_type": "code",
   "execution_count": null,
   "id": "974449f4",
   "metadata": {},
   "outputs": [],
   "source": []
  },
  {
   "cell_type": "code",
   "execution_count": null,
   "id": "f7f1de72",
   "metadata": {},
   "outputs": [],
   "source": []
  },
  {
   "cell_type": "code",
   "execution_count": null,
   "id": "2027bf7c",
   "metadata": {},
   "outputs": [],
   "source": []
  },
  {
   "cell_type": "code",
   "execution_count": null,
   "id": "dcf51b5b",
   "metadata": {},
   "outputs": [],
   "source": []
  },
  {
   "cell_type": "code",
   "execution_count": null,
   "id": "dcb7583a",
   "metadata": {},
   "outputs": [],
   "source": []
  },
  {
   "cell_type": "code",
   "execution_count": null,
   "id": "45b9deb1",
   "metadata": {},
   "outputs": [],
   "source": []
  },
  {
   "cell_type": "code",
   "execution_count": null,
   "id": "ec7c4dbd",
   "metadata": {},
   "outputs": [],
   "source": []
  },
  {
   "cell_type": "code",
   "execution_count": null,
   "id": "7c5ef6b5",
   "metadata": {},
   "outputs": [],
   "source": []
  },
  {
   "cell_type": "code",
   "execution_count": null,
   "id": "0dad222b",
   "metadata": {},
   "outputs": [],
   "source": []
  },
  {
   "cell_type": "code",
   "execution_count": null,
   "id": "72955826",
   "metadata": {},
   "outputs": [],
   "source": []
  },
  {
   "cell_type": "code",
   "execution_count": null,
   "id": "811dd36c",
   "metadata": {},
   "outputs": [],
   "source": []
  },
  {
   "cell_type": "code",
   "execution_count": null,
   "id": "311981fe",
   "metadata": {},
   "outputs": [],
   "source": []
  },
  {
   "cell_type": "code",
   "execution_count": null,
   "id": "b0151c54",
   "metadata": {},
   "outputs": [],
   "source": []
  },
  {
   "cell_type": "code",
   "execution_count": null,
   "id": "e55f4e17",
   "metadata": {},
   "outputs": [],
   "source": []
  },
  {
   "cell_type": "code",
   "execution_count": null,
   "id": "3e6d5096",
   "metadata": {},
   "outputs": [],
   "source": []
  },
  {
   "cell_type": "code",
   "execution_count": null,
   "id": "81afcfcd",
   "metadata": {},
   "outputs": [],
   "source": []
  },
  {
   "cell_type": "code",
   "execution_count": null,
   "id": "c4990e47",
   "metadata": {},
   "outputs": [],
   "source": []
  },
  {
   "cell_type": "code",
   "execution_count": null,
   "id": "b853a878",
   "metadata": {},
   "outputs": [],
   "source": []
  },
  {
   "cell_type": "code",
   "execution_count": null,
   "id": "e4ca5848",
   "metadata": {},
   "outputs": [],
   "source": []
  },
  {
   "cell_type": "code",
   "execution_count": null,
   "id": "8f4d3f34",
   "metadata": {},
   "outputs": [],
   "source": []
  },
  {
   "cell_type": "code",
   "execution_count": null,
   "id": "504483c4",
   "metadata": {},
   "outputs": [],
   "source": []
  },
  {
   "cell_type": "code",
   "execution_count": null,
   "id": "6e907a0d",
   "metadata": {},
   "outputs": [],
   "source": []
  },
  {
   "cell_type": "code",
   "execution_count": null,
   "id": "7ca51cc7",
   "metadata": {},
   "outputs": [],
   "source": []
  },
  {
   "cell_type": "code",
   "execution_count": null,
   "id": "84047e98",
   "metadata": {},
   "outputs": [],
   "source": []
  },
  {
   "cell_type": "code",
   "execution_count": null,
   "id": "42a07cb8",
   "metadata": {},
   "outputs": [],
   "source": []
  },
  {
   "cell_type": "code",
   "execution_count": null,
   "id": "2e1552fa",
   "metadata": {},
   "outputs": [],
   "source": []
  },
  {
   "cell_type": "code",
   "execution_count": null,
   "id": "cfc2e9bb",
   "metadata": {},
   "outputs": [],
   "source": []
  },
  {
   "cell_type": "code",
   "execution_count": null,
   "id": "82546096",
   "metadata": {},
   "outputs": [],
   "source": []
  },
  {
   "cell_type": "code",
   "execution_count": null,
   "id": "e657330c",
   "metadata": {},
   "outputs": [],
   "source": []
  },
  {
   "cell_type": "code",
   "execution_count": null,
   "id": "08391ad2",
   "metadata": {},
   "outputs": [],
   "source": []
  },
  {
   "cell_type": "code",
   "execution_count": null,
   "id": "6ae9bfc1",
   "metadata": {},
   "outputs": [],
   "source": []
  },
  {
   "cell_type": "code",
   "execution_count": null,
   "id": "86700db6",
   "metadata": {},
   "outputs": [],
   "source": []
  },
  {
   "cell_type": "code",
   "execution_count": null,
   "id": "d1c76478",
   "metadata": {},
   "outputs": [],
   "source": []
  },
  {
   "cell_type": "code",
   "execution_count": null,
   "id": "0cbcde70",
   "metadata": {},
   "outputs": [],
   "source": []
  },
  {
   "cell_type": "code",
   "execution_count": null,
   "id": "b19a1c87",
   "metadata": {},
   "outputs": [],
   "source": []
  },
  {
   "cell_type": "code",
   "execution_count": null,
   "id": "574ca00f",
   "metadata": {},
   "outputs": [],
   "source": []
  },
  {
   "cell_type": "code",
   "execution_count": null,
   "id": "ff57d3e8",
   "metadata": {},
   "outputs": [],
   "source": []
  },
  {
   "cell_type": "code",
   "execution_count": 35,
   "id": "6a7ff725",
   "metadata": {},
   "outputs": [
    {
     "data": {
      "text/plain": [
       "'hsaka'"
      ]
     },
     "execution_count": 35,
     "metadata": {},
     "output_type": "execute_result"
    }
   ],
   "source": []
  },
  {
   "cell_type": "code",
   "execution_count": null,
   "id": "e7f27e54",
   "metadata": {},
   "outputs": [],
   "source": []
  },
  {
   "cell_type": "code",
   "execution_count": null,
   "id": "302ed44a",
   "metadata": {},
   "outputs": [],
   "source": []
  },
  {
   "cell_type": "code",
   "execution_count": null,
   "id": "554792b1",
   "metadata": {},
   "outputs": [],
   "source": []
  },
  {
   "cell_type": "code",
   "execution_count": null,
   "id": "8ccb5eed",
   "metadata": {},
   "outputs": [],
   "source": []
  },
  {
   "cell_type": "code",
   "execution_count": null,
   "id": "38f0e229",
   "metadata": {},
   "outputs": [],
   "source": []
  },
  {
   "cell_type": "code",
   "execution_count": null,
   "id": "5adea28d",
   "metadata": {},
   "outputs": [],
   "source": []
  },
  {
   "cell_type": "code",
   "execution_count": null,
   "id": "b1684711",
   "metadata": {},
   "outputs": [],
   "source": []
  },
  {
   "cell_type": "code",
   "execution_count": null,
   "id": "28205749",
   "metadata": {},
   "outputs": [],
   "source": []
  },
  {
   "cell_type": "code",
   "execution_count": null,
   "id": "40bb9bcd",
   "metadata": {},
   "outputs": [],
   "source": []
  },
  {
   "cell_type": "code",
   "execution_count": null,
   "id": "58b49aa4",
   "metadata": {},
   "outputs": [],
   "source": []
  }
 ],
 "metadata": {
  "kernelspec": {
   "display_name": "Python 3 (ipykernel)",
   "language": "python",
   "name": "python3"
  },
  "language_info": {
   "codemirror_mode": {
    "name": "ipython",
    "version": 3
   },
   "file_extension": ".py",
   "mimetype": "text/x-python",
   "name": "python",
   "nbconvert_exporter": "python",
   "pygments_lexer": "ipython3",
   "version": "3.9.7"
  }
 },
 "nbformat": 4,
 "nbformat_minor": 5
}
