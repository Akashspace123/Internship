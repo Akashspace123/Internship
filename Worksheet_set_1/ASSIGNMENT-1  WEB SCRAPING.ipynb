{
 "cells": [
  {
   "cell_type": "markdown",
   "id": "b035a891",
   "metadata": {},
   "source": [
    "# 2)Write a python program to display IMDB’s Top rated 100 movies’ data (i.e. name, rating, year of release and make data frame)"
   ]
  },
  {
   "cell_type": "code",
   "execution_count": 1,
   "id": "d64ce495",
   "metadata": {},
   "outputs": [],
   "source": [
    "import pandas as pd\n",
    "import requests\n",
    "from bs4 import BeautifulSoup\n",
    "import warnings\n",
    "warnings.filterwarnings(\"ignore\")"
   ]
  },
  {
   "cell_type": "code",
   "execution_count": 2,
   "id": "827cd644",
   "metadata": {},
   "outputs": [
    {
     "name": "stdout",
     "output_type": "stream",
     "text": [
      "<Response [200]>\n",
      "<Response [200]>\n"
     ]
    }
   ],
   "source": [
    "page1=requests.get(\"https://www.imdb.com/search/title/?groups=top_100&sort=release_date,asc\")\n",
    "page2=requests.get(\"https://www.imdb.com/search/title/?groups=top_100&sort=release_date,asc&start=51&ref_=adv_nxt\")\n",
    "print(page1)\n",
    "print(page2)"
   ]
  },
  {
   "cell_type": "code",
   "execution_count": 3,
   "id": "459178e7",
   "metadata": {},
   "outputs": [],
   "source": [
    "soup1=BeautifulSoup(page1.content)\n",
    "soup2=BeautifulSoup(page2.content)"
   ]
  },
  {
   "cell_type": "code",
   "execution_count": 4,
   "id": "d9d8313b",
   "metadata": {},
   "outputs": [],
   "source": [
    "name1=[]\n",
    "name2=[]\n",
    "\n",
    "for i in soup1.find_all('h3',class_=\"lister-item-header\"):\n",
    "    name1.append(i.text)\n",
    "\n",
    "for i in soup2.find_all('h3',class_=\"lister-item-header\"):\n",
    "    name2.append(i.text)"
   ]
  },
  {
   "cell_type": "code",
   "execution_count": 5,
   "id": "f57556ac",
   "metadata": {},
   "outputs": [],
   "source": [
    "rating1=[]\n",
    "rating2=[]\n",
    "\n",
    "for i in soup1.find_all('div',class_=\"inline-block ratings-imdb-rating\"):\n",
    "    rating1.append(i.text)\n",
    "    \n",
    "for i in soup2.find_all('div',class_=\"inline-block ratings-imdb-rating\"):\n",
    "    rating2.append(i.text)\n"
   ]
  },
  {
   "cell_type": "code",
   "execution_count": 6,
   "id": "76bde672",
   "metadata": {},
   "outputs": [],
   "source": [
    "year1=[]\n",
    "year2=[]\n",
    "\n",
    "for i in soup1.find_all('span',class_=\"lister-item-year text-muted unbold\"):\n",
    "    year1.append(i.text)\n",
    "for i in soup2.find_all('span',class_=\"lister-item-year text-muted unbold\"):\n",
    "    year2.append(i.text)\n",
    "    "
   ]
  },
  {
   "cell_type": "code",
   "execution_count": 7,
   "id": "f2287ace",
   "metadata": {},
   "outputs": [],
   "source": [
    "name=name1+name2\n",
    "rating=rating1+rating2\n",
    "year=year1+year2"
   ]
  },
  {
   "cell_type": "code",
   "execution_count": 8,
   "id": "3b4905f9",
   "metadata": {},
   "outputs": [
    {
     "data": {
      "text/html": [
       "<div>\n",
       "<style scoped>\n",
       "    .dataframe tbody tr th:only-of-type {\n",
       "        vertical-align: middle;\n",
       "    }\n",
       "\n",
       "    .dataframe tbody tr th {\n",
       "        vertical-align: top;\n",
       "    }\n",
       "\n",
       "    .dataframe thead th {\n",
       "        text-align: right;\n",
       "    }\n",
       "</style>\n",
       "<table border=\"1\" class=\"dataframe\">\n",
       "  <thead>\n",
       "    <tr style=\"text-align: right;\">\n",
       "      <th></th>\n",
       "      <th>Name</th>\n",
       "      <th>Rating</th>\n",
       "      <th>Year of release</th>\n",
       "    </tr>\n",
       "  </thead>\n",
       "  <tbody>\n",
       "    <tr>\n",
       "      <th>0</th>\n",
       "      <td>\\n1.\\nCity Lights\\n(1931)\\n</td>\n",
       "      <td>\\n\\n8.5\\n</td>\n",
       "      <td>(1931)</td>\n",
       "    </tr>\n",
       "    <tr>\n",
       "      <th>1</th>\n",
       "      <td>\\n2.\\nM - Eine Stadt sucht einen Mörder\\n(1931)\\n</td>\n",
       "      <td>\\n\\n8.3\\n</td>\n",
       "      <td>(1931)</td>\n",
       "    </tr>\n",
       "  </tbody>\n",
       "</table>\n",
       "</div>"
      ],
      "text/plain": [
       "                                                Name     Rating  \\\n",
       "0                        \\n1.\\nCity Lights\\n(1931)\\n  \\n\\n8.5\\n   \n",
       "1  \\n2.\\nM - Eine Stadt sucht einen Mörder\\n(1931)\\n  \\n\\n8.3\\n   \n",
       "\n",
       "  Year of release  \n",
       "0          (1931)  \n",
       "1          (1931)  "
      ]
     },
     "execution_count": 8,
     "metadata": {},
     "output_type": "execute_result"
    }
   ],
   "source": [
    "df=pd.DataFrame({\"Name\":name,\"Rating\":rating,\"Year of release\":year})\n",
    "df.head(2)"
   ]
  },
  {
   "cell_type": "markdown",
   "id": "f52bdbbd",
   "metadata": {},
   "source": [
    "Now we are going to remove special Characters "
   ]
  },
  {
   "cell_type": "code",
   "execution_count": 9,
   "id": "8cf17eba",
   "metadata": {},
   "outputs": [],
   "source": [
    "df['Rating']=[x.strip(\"\\n\") for x in df[\"Rating\"]]\n",
    "df[\"Year of release\"]=[x.strip(\"()I\") for x in df[\"Year of release\"]]\n",
    "df['Year of release']=df['Year of release'].str.replace(r'\\W',\"\")\n",
    "df['Name']=[x.strip(\"\\n\") for x in df['Name']]\n",
    "df['Name']=df['Name'].str.replace(r'\\W',\"\")\n",
    "df['Name']=[x.strip(\"1,2,3,4,5,6,7,8,9,0\") for x in df['Name']]"
   ]
  },
  {
   "cell_type": "code",
   "execution_count": 10,
   "id": "61b2c005",
   "metadata": {},
   "outputs": [
    {
     "data": {
      "text/html": [
       "<div>\n",
       "<style scoped>\n",
       "    .dataframe tbody tr th:only-of-type {\n",
       "        vertical-align: middle;\n",
       "    }\n",
       "\n",
       "    .dataframe tbody tr th {\n",
       "        vertical-align: top;\n",
       "    }\n",
       "\n",
       "    .dataframe thead th {\n",
       "        text-align: right;\n",
       "    }\n",
       "</style>\n",
       "<table border=\"1\" class=\"dataframe\">\n",
       "  <thead>\n",
       "    <tr style=\"text-align: right;\">\n",
       "      <th></th>\n",
       "      <th>Name</th>\n",
       "      <th>Rating</th>\n",
       "      <th>Year of release</th>\n",
       "    </tr>\n",
       "  </thead>\n",
       "  <tbody>\n",
       "    <tr>\n",
       "      <th>0</th>\n",
       "      <td>CityLights</td>\n",
       "      <td>8.5</td>\n",
       "      <td>1931</td>\n",
       "    </tr>\n",
       "    <tr>\n",
       "      <th>1</th>\n",
       "      <td>MEineStadtsuchteinenMörder</td>\n",
       "      <td>8.3</td>\n",
       "      <td>1931</td>\n",
       "    </tr>\n",
       "    <tr>\n",
       "      <th>2</th>\n",
       "      <td>ModernTimes</td>\n",
       "      <td>8.5</td>\n",
       "      <td>1936</td>\n",
       "    </tr>\n",
       "    <tr>\n",
       "      <th>3</th>\n",
       "      <td>TheGreatDictator</td>\n",
       "      <td>8.4</td>\n",
       "      <td>1940</td>\n",
       "    </tr>\n",
       "    <tr>\n",
       "      <th>4</th>\n",
       "      <td>CitizenKane</td>\n",
       "      <td>8.3</td>\n",
       "      <td>1941</td>\n",
       "    </tr>\n",
       "    <tr>\n",
       "      <th>...</th>\n",
       "      <td>...</td>\n",
       "      <td>...</td>\n",
       "      <td>...</td>\n",
       "    </tr>\n",
       "    <tr>\n",
       "      <th>95</th>\n",
       "      <td>SpiderManIntotheSpiderVerse</td>\n",
       "      <td>8.4</td>\n",
       "      <td>2018</td>\n",
       "    </tr>\n",
       "    <tr>\n",
       "      <th>96</th>\n",
       "      <td>AvengersEndgame</td>\n",
       "      <td>8.4</td>\n",
       "      <td>2019</td>\n",
       "    </tr>\n",
       "    <tr>\n",
       "      <th>97</th>\n",
       "      <td>Gisaengchung</td>\n",
       "      <td>8.5</td>\n",
       "      <td>2019</td>\n",
       "    </tr>\n",
       "    <tr>\n",
       "      <th>98</th>\n",
       "      <td>JokerI</td>\n",
       "      <td>8.4</td>\n",
       "      <td>2019</td>\n",
       "    </tr>\n",
       "    <tr>\n",
       "      <th>99</th>\n",
       "      <td>SpiderManNoWayHome</td>\n",
       "      <td>8.4</td>\n",
       "      <td>2021</td>\n",
       "    </tr>\n",
       "  </tbody>\n",
       "</table>\n",
       "<p>100 rows × 3 columns</p>\n",
       "</div>"
      ],
      "text/plain": [
       "                           Name Rating Year of release\n",
       "0                    CityLights    8.5            1931\n",
       "1    MEineStadtsuchteinenMörder    8.3            1931\n",
       "2                   ModernTimes    8.5            1936\n",
       "3              TheGreatDictator    8.4            1940\n",
       "4                   CitizenKane    8.3            1941\n",
       "..                          ...    ...             ...\n",
       "95  SpiderManIntotheSpiderVerse    8.4            2018\n",
       "96              AvengersEndgame    8.4            2019\n",
       "97                 Gisaengchung    8.5            2019\n",
       "98                       JokerI    8.4            2019\n",
       "99           SpiderManNoWayHome    8.4            2021\n",
       "\n",
       "[100 rows x 3 columns]"
      ]
     },
     "execution_count": 10,
     "metadata": {},
     "output_type": "execute_result"
    }
   ],
   "source": [
    "IMBD_Rating=df\n",
    "IMBD_Rating"
   ]
  },
  {
   "cell_type": "markdown",
   "id": "9ad6aeef",
   "metadata": {},
   "source": [
    "# 3) Write a python program to display IMDB’s Top rated 100 Indian movies’ data (i.e. name, rating, year of release) and make data frame."
   ]
  },
  {
   "cell_type": "code",
   "execution_count": 11,
   "id": "9909327a",
   "metadata": {},
   "outputs": [],
   "source": [
    "import pandas as pd\n",
    "import requests\n",
    "from bs4 import BeautifulSoup \n",
    "import warnings \n",
    "warnings.filterwarnings(\"ignore\")"
   ]
  },
  {
   "cell_type": "code",
   "execution_count": 12,
   "id": "fd749272",
   "metadata": {},
   "outputs": [
    {
     "data": {
      "text/plain": [
       "<Response [200]>"
      ]
     },
     "execution_count": 12,
     "metadata": {},
     "output_type": "execute_result"
    }
   ],
   "source": [
    "page3=requests.get(\"https://www.imdb.com/india/top-rated-indian-movies/\")\n",
    "page3"
   ]
  },
  {
   "cell_type": "code",
   "execution_count": 13,
   "id": "f9b9a014",
   "metadata": {},
   "outputs": [],
   "source": [
    "soup3=BeautifulSoup(page3.content)"
   ]
  },
  {
   "cell_type": "code",
   "execution_count": 14,
   "id": "67356ce3",
   "metadata": {},
   "outputs": [],
   "source": [
    "name=[]\n",
    "\n",
    "for i in soup3.find_all('td',class_=\"titleColumn\"):\n",
    "    name.append(i.text)\n",
    "    "
   ]
  },
  {
   "cell_type": "code",
   "execution_count": 15,
   "id": "0914fe2b",
   "metadata": {},
   "outputs": [],
   "source": [
    "ranking=[]\n",
    "\n",
    "for i in soup3.find_all('td',class_=\"ratingColumn imdbRating\"):\n",
    "    ranking.append(i.text)\n",
    "     "
   ]
  },
  {
   "cell_type": "code",
   "execution_count": 16,
   "id": "0a2620e0",
   "metadata": {},
   "outputs": [],
   "source": [
    "year=[]\n",
    "\n",
    "for i in soup3.find_all('span',class_='secondaryInfo'):\n",
    "    year.append(i.text)\n",
    "     "
   ]
  },
  {
   "cell_type": "code",
   "execution_count": 17,
   "id": "d0eebbe0",
   "metadata": {},
   "outputs": [
    {
     "data": {
      "text/html": [
       "<div>\n",
       "<style scoped>\n",
       "    .dataframe tbody tr th:only-of-type {\n",
       "        vertical-align: middle;\n",
       "    }\n",
       "\n",
       "    .dataframe tbody tr th {\n",
       "        vertical-align: top;\n",
       "    }\n",
       "\n",
       "    .dataframe thead th {\n",
       "        text-align: right;\n",
       "    }\n",
       "</style>\n",
       "<table border=\"1\" class=\"dataframe\">\n",
       "  <thead>\n",
       "    <tr style=\"text-align: right;\">\n",
       "      <th></th>\n",
       "      <th>Name</th>\n",
       "      <th>Ranking</th>\n",
       "      <th>Year of release</th>\n",
       "    </tr>\n",
       "  </thead>\n",
       "  <tbody>\n",
       "    <tr>\n",
       "      <th>0</th>\n",
       "      <td>\\n      1.\\n      K.G.F: Chapter 2\\n(2022)\\n</td>\n",
       "      <td>\\n8.5\\n</td>\n",
       "      <td>(2022)</td>\n",
       "    </tr>\n",
       "    <tr>\n",
       "      <th>1</th>\n",
       "      <td>\\n      2.\\n      Anbe Sivam\\n(2003)\\n</td>\n",
       "      <td>\\n8.4\\n</td>\n",
       "      <td>(2003)</td>\n",
       "    </tr>\n",
       "  </tbody>\n",
       "</table>\n",
       "</div>"
      ],
      "text/plain": [
       "                                           Name  Ranking Year of release\n",
       "0  \\n      1.\\n      K.G.F: Chapter 2\\n(2022)\\n  \\n8.5\\n          (2022)\n",
       "1        \\n      2.\\n      Anbe Sivam\\n(2003)\\n  \\n8.4\\n          (2003)"
      ]
     },
     "execution_count": 17,
     "metadata": {},
     "output_type": "execute_result"
    }
   ],
   "source": [
    "ss=pd.DataFrame({\"Name\":name,\"Ranking\":ranking,\"Year of release\":year})\n",
    "ss.head(2)"
   ]
  },
  {
   "cell_type": "markdown",
   "id": "850b8da2",
   "metadata": {},
   "source": [
    "now we are removing unwanted characters such as \\n ,(,)"
   ]
  },
  {
   "cell_type": "code",
   "execution_count": 21,
   "id": "4ab4d779",
   "metadata": {},
   "outputs": [],
   "source": [
    "ss['Year of release']=[x.strip(\"()\") for x in ss['Year of release']]\n",
    "ss['Ranking']=[x.strip(\"\\n\") for x in ss[\"Ranking\"]]\n",
    "ss['Name']=[x.strip(\"\\n\") for x in ss[\"Name\"]]\n",
    "ss['Name']=[x.strip(\"0123456789\") for x in ss[\"Name\"]]\n",
    "ss[\"Name\"]=ss[\"Name\"].str.replace(r'\\W',\"\")"
   ]
  },
  {
   "cell_type": "code",
   "execution_count": 22,
   "id": "081bedec",
   "metadata": {},
   "outputs": [
    {
     "data": {
      "text/html": [
       "<div>\n",
       "<style scoped>\n",
       "    .dataframe tbody tr th:only-of-type {\n",
       "        vertical-align: middle;\n",
       "    }\n",
       "\n",
       "    .dataframe tbody tr th {\n",
       "        vertical-align: top;\n",
       "    }\n",
       "\n",
       "    .dataframe thead th {\n",
       "        text-align: right;\n",
       "    }\n",
       "</style>\n",
       "<table border=\"1\" class=\"dataframe\">\n",
       "  <thead>\n",
       "    <tr style=\"text-align: right;\">\n",
       "      <th></th>\n",
       "      <th>Name</th>\n",
       "      <th>Ranking</th>\n",
       "      <th>Year of release</th>\n",
       "    </tr>\n",
       "  </thead>\n",
       "  <tbody>\n",
       "    <tr>\n",
       "      <th>0</th>\n",
       "      <td>KGFChapter</td>\n",
       "      <td>8.5</td>\n",
       "      <td>2022</td>\n",
       "    </tr>\n",
       "    <tr>\n",
       "      <th>1</th>\n",
       "      <td>AnbeSivam</td>\n",
       "      <td>8.4</td>\n",
       "      <td>2003</td>\n",
       "    </tr>\n",
       "    <tr>\n",
       "      <th>2</th>\n",
       "      <td>JaiBhim</td>\n",
       "      <td>8.4</td>\n",
       "      <td>2021</td>\n",
       "    </tr>\n",
       "    <tr>\n",
       "      <th>3</th>\n",
       "      <td>Golmaal</td>\n",
       "      <td>8.4</td>\n",
       "      <td>1979</td>\n",
       "    </tr>\n",
       "    <tr>\n",
       "      <th>4</th>\n",
       "      <td>Nayakan</td>\n",
       "      <td>8.4</td>\n",
       "      <td>1987</td>\n",
       "    </tr>\n",
       "    <tr>\n",
       "      <th>...</th>\n",
       "      <td>...</td>\n",
       "      <td>...</td>\n",
       "      <td>...</td>\n",
       "    </tr>\n",
       "    <tr>\n",
       "      <th>95</th>\n",
       "      <td>Baasha</td>\n",
       "      <td>8.0</td>\n",
       "      <td>1995</td>\n",
       "    </tr>\n",
       "    <tr>\n",
       "      <th>96</th>\n",
       "      <td>Masaan</td>\n",
       "      <td>8.0</td>\n",
       "      <td>2015</td>\n",
       "    </tr>\n",
       "    <tr>\n",
       "      <th>97</th>\n",
       "      <td>DilChahtaHai</td>\n",
       "      <td>8.0</td>\n",
       "      <td>2001</td>\n",
       "    </tr>\n",
       "    <tr>\n",
       "      <th>98</th>\n",
       "      <td>Kahaani</td>\n",
       "      <td>8.0</td>\n",
       "      <td>2012</td>\n",
       "    </tr>\n",
       "    <tr>\n",
       "      <th>99</th>\n",
       "      <td>MaheshintePrathikaaram</td>\n",
       "      <td>8.0</td>\n",
       "      <td>2016</td>\n",
       "    </tr>\n",
       "  </tbody>\n",
       "</table>\n",
       "<p>100 rows × 3 columns</p>\n",
       "</div>"
      ],
      "text/plain": [
       "                      Name Ranking Year of release\n",
       "0               KGFChapter     8.5            2022\n",
       "1                AnbeSivam     8.4            2003\n",
       "2                  JaiBhim     8.4            2021\n",
       "3                  Golmaal     8.4            1979\n",
       "4                  Nayakan     8.4            1987\n",
       "..                     ...     ...             ...\n",
       "95                  Baasha     8.0            1995\n",
       "96                  Masaan     8.0            2015\n",
       "97            DilChahtaHai     8.0            2001\n",
       "98                 Kahaani     8.0            2012\n",
       "99  MaheshintePrathikaaram     8.0            2016\n",
       "\n",
       "[100 rows x 3 columns]"
      ]
     },
     "execution_count": 22,
     "metadata": {},
     "output_type": "execute_result"
    }
   ],
   "source": [
    "IMBD_Rating_Hindi=ss.iloc[0:100,:]\n",
    "IMBD_Rating_Hindi"
   ]
  },
  {
   "cell_type": "markdown",
   "id": "6293ce4c",
   "metadata": {},
   "source": [
    "# 4) Write a python program to scrape product name, price and discounts from https://meesho.com/bags\u0002ladies/pl/p7vbp . "
   ]
  },
  {
   "cell_type": "code",
   "execution_count": 23,
   "id": "4464e141",
   "metadata": {},
   "outputs": [],
   "source": [
    "import pandas as pd\n",
    "import requests\n",
    "from bs4 import BeautifulSoup"
   ]
  },
  {
   "cell_type": "code",
   "execution_count": 24,
   "id": "cf09369a",
   "metadata": {},
   "outputs": [
    {
     "data": {
      "text/plain": [
       "<Response [200]>"
      ]
     },
     "execution_count": 24,
     "metadata": {},
     "output_type": "execute_result"
    }
   ],
   "source": [
    "page4=requests.get(\"https://meesho.com/bags\u0002ladies/pl/p7vbp\")\n",
    "page4"
   ]
  },
  {
   "cell_type": "code",
   "execution_count": 25,
   "id": "6443a02a",
   "metadata": {},
   "outputs": [],
   "source": [
    "soup4=BeautifulSoup(page4.content)"
   ]
  },
  {
   "cell_type": "code",
   "execution_count": 26,
   "id": "ec46a10e",
   "metadata": {},
   "outputs": [],
   "source": [
    "name=[]\n",
    "\n",
    "for i in soup4.find_all('p',class_=\"Text__StyledText-sc-oo0kvp-0 bWSOET NewProductCard__ProductTitle_Desktop-sc-j0e7tu-4 cQhePS NewProductCard__ProductTitle_Desktop-sc-j0e7tu-4 cQhePS\"):\n",
    "    name.append(i.text)   "
   ]
  },
  {
   "cell_type": "code",
   "execution_count": 27,
   "id": "b8cb0f28",
   "metadata": {},
   "outputs": [],
   "source": [
    "price=[]\n",
    "\n",
    "for i in soup4.find_all('h5',class_=\"Text__StyledText-sc-oo0kvp-0 hiHdyy\"):\n",
    "    price.append(i.text)  "
   ]
  },
  {
   "cell_type": "code",
   "execution_count": 28,
   "id": "e3c57365",
   "metadata": {},
   "outputs": [],
   "source": [
    "discounts=[]\n",
    "\n",
    "for i in soup4.find_all('p',class_=\"Text__StyledText-sc-oo0kvp-0 hpXvds Paragraph__StyledParagraphBody2StrikeThrough-sc-69qp0d-0 hEkmRy Paragraph__StyledParagraphBody2StrikeThrough-sc-69qp0d-0 hEkmRy\"):\n",
    "    discounts.append(i.text) "
   ]
  },
  {
   "cell_type": "code",
   "execution_count": 29,
   "id": "29c0ecec",
   "metadata": {},
   "outputs": [],
   "source": [
    "discount_rate=[]\n",
    "\n",
    "for i in soup4.find_all('span',class_=\"Text__StyledText-sc-oo0kvp-0 lnonyH\"):\n",
    "    discount_rate.append(i.text)       "
   ]
  },
  {
   "cell_type": "code",
   "execution_count": 30,
   "id": "98526c63",
   "metadata": {},
   "outputs": [
    {
     "data": {
      "text/html": [
       "<div>\n",
       "<style scoped>\n",
       "    .dataframe tbody tr th:only-of-type {\n",
       "        vertical-align: middle;\n",
       "    }\n",
       "\n",
       "    .dataframe tbody tr th {\n",
       "        vertical-align: top;\n",
       "    }\n",
       "\n",
       "    .dataframe thead th {\n",
       "        text-align: right;\n",
       "    }\n",
       "</style>\n",
       "<table border=\"1\" class=\"dataframe\">\n",
       "  <thead>\n",
       "    <tr style=\"text-align: right;\">\n",
       "      <th></th>\n",
       "      <th>Product Name</th>\n",
       "      <th>Actual Price</th>\n",
       "      <th>Discount_rate</th>\n",
       "      <th>After Discount Price</th>\n",
       "    </tr>\n",
       "  </thead>\n",
       "  <tbody>\n",
       "    <tr>\n",
       "      <th>0</th>\n",
       "      <td>Classic Attractive Women Handbags</td>\n",
       "      <td>₹670</td>\n",
       "      <td>7% off</td>\n",
       "      <td>₹620</td>\n",
       "    </tr>\n",
       "    <tr>\n",
       "      <th>1</th>\n",
       "      <td>Ravishing Alluring Women Handbags</td>\n",
       "      <td>₹434</td>\n",
       "      <td>12% off</td>\n",
       "      <td>₹384</td>\n",
       "    </tr>\n",
       "    <tr>\n",
       "      <th>2</th>\n",
       "      <td>Graceful Fancy Women Handbags</td>\n",
       "      <td>₹578</td>\n",
       "      <td>9% off</td>\n",
       "      <td>₹528</td>\n",
       "    </tr>\n",
       "    <tr>\n",
       "      <th>3</th>\n",
       "      <td>Ravishing Classy Women Handbags</td>\n",
       "      <td>₹1000</td>\n",
       "      <td>5% off</td>\n",
       "      <td>₹950</td>\n",
       "    </tr>\n",
       "    <tr>\n",
       "      <th>4</th>\n",
       "      <td>Classic Versatile Women Handbags</td>\n",
       "      <td>₹1000</td>\n",
       "      <td>5% off</td>\n",
       "      <td>₹950</td>\n",
       "    </tr>\n",
       "    <tr>\n",
       "      <th>5</th>\n",
       "      <td>Voguish Fancy Women Handbags</td>\n",
       "      <td>₹1599</td>\n",
       "      <td>3% off</td>\n",
       "      <td>₹1549</td>\n",
       "    </tr>\n",
       "    <tr>\n",
       "      <th>6</th>\n",
       "      <td>Graceful Versatile Women Handbags</td>\n",
       "      <td>₹1000</td>\n",
       "      <td>5% off</td>\n",
       "      <td>₹950</td>\n",
       "    </tr>\n",
       "    <tr>\n",
       "      <th>7</th>\n",
       "      <td>Classic Stylish Women Handbags</td>\n",
       "      <td>₹3252</td>\n",
       "      <td>2% off</td>\n",
       "      <td>₹3202</td>\n",
       "    </tr>\n",
       "    <tr>\n",
       "      <th>8</th>\n",
       "      <td>Ravishing Fashionable Women Handbags</td>\n",
       "      <td>₹366</td>\n",
       "      <td>14% off</td>\n",
       "      <td>₹316</td>\n",
       "    </tr>\n",
       "    <tr>\n",
       "      <th>9</th>\n",
       "      <td>Elegant Classy Women Handbags</td>\n",
       "      <td>₹1000</td>\n",
       "      <td>5% off</td>\n",
       "      <td>₹950</td>\n",
       "    </tr>\n",
       "    <tr>\n",
       "      <th>10</th>\n",
       "      <td>Elegant Alluring Women Handbags</td>\n",
       "      <td>₹2387</td>\n",
       "      <td>2% off</td>\n",
       "      <td>₹2337</td>\n",
       "    </tr>\n",
       "    <tr>\n",
       "      <th>11</th>\n",
       "      <td>Graceful Attractive Women Handbags</td>\n",
       "      <td>₹600</td>\n",
       "      <td>8% off</td>\n",
       "      <td>₹550</td>\n",
       "    </tr>\n",
       "    <tr>\n",
       "      <th>12</th>\n",
       "      <td>Classic Alluring Women Handbags</td>\n",
       "      <td>₹568</td>\n",
       "      <td>9% off</td>\n",
       "      <td>₹518</td>\n",
       "    </tr>\n",
       "    <tr>\n",
       "      <th>13</th>\n",
       "      <td>Elegant Fashionable Women Handbags</td>\n",
       "      <td>₹775</td>\n",
       "      <td>6% off</td>\n",
       "      <td>₹725</td>\n",
       "    </tr>\n",
       "    <tr>\n",
       "      <th>14</th>\n",
       "      <td>Trendy Alluring Women Handbags</td>\n",
       "      <td>₹1370</td>\n",
       "      <td>4% off</td>\n",
       "      <td>₹1320</td>\n",
       "    </tr>\n",
       "    <tr>\n",
       "      <th>15</th>\n",
       "      <td>Trendy Alluring Women Handbags</td>\n",
       "      <td>₹1000</td>\n",
       "      <td>5% off</td>\n",
       "      <td>₹950</td>\n",
       "    </tr>\n",
       "    <tr>\n",
       "      <th>16</th>\n",
       "      <td>Trendy Stylish Women Handbags</td>\n",
       "      <td>₹873</td>\n",
       "      <td>6% off</td>\n",
       "      <td>₹823</td>\n",
       "    </tr>\n",
       "    <tr>\n",
       "      <th>17</th>\n",
       "      <td>Classic Fancy Women Handbags</td>\n",
       "      <td>₹696</td>\n",
       "      <td>7% off</td>\n",
       "      <td>₹646</td>\n",
       "    </tr>\n",
       "    <tr>\n",
       "      <th>18</th>\n",
       "      <td>Classic Versatile Women Handbags</td>\n",
       "      <td>₹600</td>\n",
       "      <td>8% off</td>\n",
       "      <td>₹550</td>\n",
       "    </tr>\n",
       "    <tr>\n",
       "      <th>19</th>\n",
       "      <td>Classic Fashionable Women Handbags</td>\n",
       "      <td>₹670</td>\n",
       "      <td>7% off</td>\n",
       "      <td>₹620</td>\n",
       "    </tr>\n",
       "  </tbody>\n",
       "</table>\n",
       "</div>"
      ],
      "text/plain": [
       "                            Product Name Actual Price Discount_rate  \\\n",
       "0      Classic Attractive Women Handbags         ₹670        7% off   \n",
       "1      Ravishing Alluring Women Handbags         ₹434       12% off   \n",
       "2          Graceful Fancy Women Handbags         ₹578        9% off   \n",
       "3        Ravishing Classy Women Handbags        ₹1000        5% off   \n",
       "4       Classic Versatile Women Handbags        ₹1000        5% off   \n",
       "5           Voguish Fancy Women Handbags        ₹1599        3% off   \n",
       "6      Graceful Versatile Women Handbags        ₹1000        5% off   \n",
       "7         Classic Stylish Women Handbags        ₹3252        2% off   \n",
       "8   Ravishing Fashionable Women Handbags         ₹366       14% off   \n",
       "9          Elegant Classy Women Handbags        ₹1000        5% off   \n",
       "10       Elegant Alluring Women Handbags        ₹2387        2% off   \n",
       "11    Graceful Attractive Women Handbags         ₹600        8% off   \n",
       "12       Classic Alluring Women Handbags         ₹568        9% off   \n",
       "13    Elegant Fashionable Women Handbags         ₹775        6% off   \n",
       "14        Trendy Alluring Women Handbags        ₹1370        4% off   \n",
       "15        Trendy Alluring Women Handbags        ₹1000        5% off   \n",
       "16         Trendy Stylish Women Handbags         ₹873        6% off   \n",
       "17          Classic Fancy Women Handbags         ₹696        7% off   \n",
       "18      Classic Versatile Women Handbags         ₹600        8% off   \n",
       "19    Classic Fashionable Women Handbags         ₹670        7% off   \n",
       "\n",
       "   After Discount Price  \n",
       "0                  ₹620  \n",
       "1                  ₹384  \n",
       "2                  ₹528  \n",
       "3                  ₹950  \n",
       "4                  ₹950  \n",
       "5                 ₹1549  \n",
       "6                  ₹950  \n",
       "7                 ₹3202  \n",
       "8                  ₹316  \n",
       "9                  ₹950  \n",
       "10                ₹2337  \n",
       "11                 ₹550  \n",
       "12                 ₹518  \n",
       "13                 ₹725  \n",
       "14                ₹1320  \n",
       "15                 ₹950  \n",
       "16                 ₹823  \n",
       "17                 ₹646  \n",
       "18                 ₹550  \n",
       "19                 ₹620  "
      ]
     },
     "execution_count": 30,
     "metadata": {},
     "output_type": "execute_result"
    }
   ],
   "source": [
    "pp=pd.DataFrame({\"Product Name\":name,\"Actual Price\":discounts,\"Discount_rate\":discount_rate,\"After Discount Price\":price})\n",
    "pp"
   ]
  },
  {
   "cell_type": "markdown",
   "id": "9597eb25",
   "metadata": {},
   "source": [
    "# 5) Write a python program to scrape cricket rankings from icc-cricket.com. You have to scrape:"
   ]
  },
  {
   "cell_type": "markdown",
   "id": "80becee9",
   "metadata": {},
   "source": [
    "a) Top 10 ODI teams in men’s cricket along with the records for matches, points and rating.\n",
    "b) Top 10 ODI Batsmen along with the records of their team and rating.\n",
    "c) Top 10 ODI bowlers along with the records of their team and rating"
   ]
  },
  {
   "cell_type": "code",
   "execution_count": 31,
   "id": "bd686fa8",
   "metadata": {},
   "outputs": [],
   "source": [
    "import pandas as pd\n",
    "import requests\n",
    "from bs4 import BeautifulSoup"
   ]
  },
  {
   "cell_type": "markdown",
   "id": "b1082036",
   "metadata": {},
   "source": [
    "a) Top 10 ODI teams in men’s cricket along with the records for matches, points and rating."
   ]
  },
  {
   "cell_type": "code",
   "execution_count": 32,
   "id": "230eb514",
   "metadata": {},
   "outputs": [
    {
     "data": {
      "text/plain": [
       "<Response [200]>"
      ]
     },
     "execution_count": 32,
     "metadata": {},
     "output_type": "execute_result"
    }
   ],
   "source": [
    "page5=requests.get(\"https://www.icc-cricket.com/rankings/mens/team-rankings/odi\")\n",
    "page5"
   ]
  },
  {
   "cell_type": "code",
   "execution_count": 33,
   "id": "9e97e5de",
   "metadata": {},
   "outputs": [],
   "source": [
    "soup5=BeautifulSoup(page5.content)"
   ]
  },
  {
   "cell_type": "code",
   "execution_count": 34,
   "id": "0311e6b1",
   "metadata": {},
   "outputs": [
    {
     "data": {
      "text/plain": [
       "['NZ',\n",
       " 'ENG',\n",
       " 'AUS',\n",
       " 'IND',\n",
       " 'SA',\n",
       " 'PAK',\n",
       " 'BAN',\n",
       " 'SL',\n",
       " 'WI',\n",
       " 'AFG',\n",
       " 'IRE',\n",
       " 'SCO',\n",
       " 'ZIM',\n",
       " 'NED',\n",
       " 'UAE',\n",
       " 'OMA',\n",
       " 'NAM',\n",
       " 'NEP',\n",
       " 'USA',\n",
       " 'PNG',\n",
       " '',\n",
       " '',\n",
       " '',\n",
       " '',\n",
       " '']"
      ]
     },
     "execution_count": 34,
     "metadata": {},
     "output_type": "execute_result"
    }
   ],
   "source": [
    "team=[]\n",
    "\n",
    "for i in soup5.find_all('span',class_=\"u-show-phablet\"):\n",
    "    team.append(i.text)\n",
    "    \n",
    "team"
   ]
  },
  {
   "cell_type": "code",
   "execution_count": 35,
   "id": "9c21aeda",
   "metadata": {},
   "outputs": [
    {
     "data": {
      "text/plain": [
       "['NZ', 'ENG', 'AUS', 'IND', 'SA', 'PAK', 'BAN', 'SL', 'WI', 'AFG']"
      ]
     },
     "execution_count": 35,
     "metadata": {},
     "output_type": "execute_result"
    }
   ],
   "source": [
    "team1=team[0:10]\n",
    "team1"
   ]
  },
  {
   "cell_type": "code",
   "execution_count": 36,
   "id": "dcb7a94c",
   "metadata": {},
   "outputs": [],
   "source": [
    "matches=[]\n",
    "\n",
    "for i in soup5.find_all('td',class_='table-body__cell u-center-text'):\n",
    "    matches.append(i.text)\n",
    "   "
   ]
  },
  {
   "cell_type": "code",
   "execution_count": 37,
   "id": "3772518f",
   "metadata": {},
   "outputs": [
    {
     "data": {
      "text/plain": [
       "[20, '32', '31', '38', '31', '30', '36', '35', '36', '23']"
      ]
     },
     "execution_count": 37,
     "metadata": {},
     "output_type": "execute_result"
    }
   ],
   "source": [
    "match=matches[::2]  #[start:stop:step]\n",
    "match.insert(0,20)\n",
    "match1=match[0:10]\n",
    "match1"
   ]
  },
  {
   "cell_type": "code",
   "execution_count": 38,
   "id": "cbc21d4c",
   "metadata": {},
   "outputs": [
    {
     "name": "stdout",
     "output_type": "stream",
     "text": [
      "[2448, '3,793', '3,475', '4,162', '3,167', '2,921', '3,350', '2,835', '2,788', '1,562']"
     ]
    }
   ],
   "source": [
    "points=matches[1::2]\n",
    "points.insert(0,2448)\n",
    "points1=points[0:10]\n",
    "print(points1,end=\"\")"
   ]
  },
  {
   "cell_type": "code",
   "execution_count": 39,
   "id": "07288a3c",
   "metadata": {},
   "outputs": [
    {
     "data": {
      "text/plain": [
       "[122, '119', '112', '110', '102', '97', '93', '81', '77', '68']"
      ]
     },
     "execution_count": 39,
     "metadata": {},
     "output_type": "execute_result"
    }
   ],
   "source": [
    "ratings=[]\n",
    "\n",
    "for i in soup5.find_all(\"td\",class_=\"table-body__cell u-text-right rating\"):\n",
    "    ratings.append(i.text)\n",
    "    \n",
    "ratings.insert(0,122)\n",
    "ratings1=ratings[0:10]\n",
    "ratings1"
   ]
  },
  {
   "cell_type": "code",
   "execution_count": 40,
   "id": "f4b91f5b",
   "metadata": {},
   "outputs": [
    {
     "data": {
      "text/html": [
       "<div>\n",
       "<style scoped>\n",
       "    .dataframe tbody tr th:only-of-type {\n",
       "        vertical-align: middle;\n",
       "    }\n",
       "\n",
       "    .dataframe tbody tr th {\n",
       "        vertical-align: top;\n",
       "    }\n",
       "\n",
       "    .dataframe thead th {\n",
       "        text-align: right;\n",
       "    }\n",
       "</style>\n",
       "<table border=\"1\" class=\"dataframe\">\n",
       "  <thead>\n",
       "    <tr style=\"text-align: right;\">\n",
       "      <th></th>\n",
       "      <th>Team</th>\n",
       "      <th>Matches</th>\n",
       "      <th>Points</th>\n",
       "      <th>Rating</th>\n",
       "    </tr>\n",
       "  </thead>\n",
       "  <tbody>\n",
       "    <tr>\n",
       "      <th>0</th>\n",
       "      <td>NZ</td>\n",
       "      <td>20</td>\n",
       "      <td>2448</td>\n",
       "      <td>122</td>\n",
       "    </tr>\n",
       "    <tr>\n",
       "      <th>1</th>\n",
       "      <td>ENG</td>\n",
       "      <td>32</td>\n",
       "      <td>3,793</td>\n",
       "      <td>119</td>\n",
       "    </tr>\n",
       "    <tr>\n",
       "      <th>2</th>\n",
       "      <td>AUS</td>\n",
       "      <td>31</td>\n",
       "      <td>3,475</td>\n",
       "      <td>112</td>\n",
       "    </tr>\n",
       "    <tr>\n",
       "      <th>3</th>\n",
       "      <td>IND</td>\n",
       "      <td>38</td>\n",
       "      <td>4,162</td>\n",
       "      <td>110</td>\n",
       "    </tr>\n",
       "    <tr>\n",
       "      <th>4</th>\n",
       "      <td>SA</td>\n",
       "      <td>31</td>\n",
       "      <td>3,167</td>\n",
       "      <td>102</td>\n",
       "    </tr>\n",
       "    <tr>\n",
       "      <th>5</th>\n",
       "      <td>PAK</td>\n",
       "      <td>30</td>\n",
       "      <td>2,921</td>\n",
       "      <td>97</td>\n",
       "    </tr>\n",
       "    <tr>\n",
       "      <th>6</th>\n",
       "      <td>BAN</td>\n",
       "      <td>36</td>\n",
       "      <td>3,350</td>\n",
       "      <td>93</td>\n",
       "    </tr>\n",
       "    <tr>\n",
       "      <th>7</th>\n",
       "      <td>SL</td>\n",
       "      <td>35</td>\n",
       "      <td>2,835</td>\n",
       "      <td>81</td>\n",
       "    </tr>\n",
       "    <tr>\n",
       "      <th>8</th>\n",
       "      <td>WI</td>\n",
       "      <td>36</td>\n",
       "      <td>2,788</td>\n",
       "      <td>77</td>\n",
       "    </tr>\n",
       "    <tr>\n",
       "      <th>9</th>\n",
       "      <td>AFG</td>\n",
       "      <td>23</td>\n",
       "      <td>1,562</td>\n",
       "      <td>68</td>\n",
       "    </tr>\n",
       "  </tbody>\n",
       "</table>\n",
       "</div>"
      ],
      "text/plain": [
       "  Team Matches Points Rating\n",
       "0   NZ      20   2448    122\n",
       "1  ENG      32  3,793    119\n",
       "2  AUS      31  3,475    112\n",
       "3  IND      38  4,162    110\n",
       "4   SA      31  3,167    102\n",
       "5  PAK      30  2,921     97\n",
       "6  BAN      36  3,350     93\n",
       "7   SL      35  2,835     81\n",
       "8   WI      36  2,788     77\n",
       "9  AFG      23  1,562     68"
      ]
     },
     "execution_count": 40,
     "metadata": {},
     "output_type": "execute_result"
    }
   ],
   "source": [
    "Icc_Mens_Odi=pd.DataFrame({\"Team\":team1,\"Matches\":match1,\"Points\":points1,\"Rating\":ratings1})\n",
    "Icc_Mens_Odi"
   ]
  },
  {
   "cell_type": "markdown",
   "id": "259701db",
   "metadata": {},
   "source": [
    "Top 10 ODI Batsmen along with the records of their team and rating. "
   ]
  },
  {
   "cell_type": "code",
   "execution_count": 41,
   "id": "de999329",
   "metadata": {},
   "outputs": [
    {
     "data": {
      "text/plain": [
       "<Response [200]>"
      ]
     },
     "execution_count": 41,
     "metadata": {},
     "output_type": "execute_result"
    }
   ],
   "source": [
    "page5a=requests.get(\"https://www.icc-cricket.com/rankings/mens/player-rankings/odi/batting\")\n",
    "page5a"
   ]
  },
  {
   "cell_type": "code",
   "execution_count": 42,
   "id": "6f438e92",
   "metadata": {},
   "outputs": [],
   "source": [
    "soup5a=BeautifulSoup(page5a.content)"
   ]
  },
  {
   "cell_type": "code",
   "execution_count": 43,
   "id": "c92b0e50",
   "metadata": {},
   "outputs": [
    {
     "data": {
      "text/plain": [
       "['Babar Azam',\n",
       " '\\nVirat Kohli\\n',\n",
       " '\\nImam-ul-Haq\\n',\n",
       " '\\nRohit Sharma\\n',\n",
       " '\\nQuinton de Kock\\n',\n",
       " '\\nJonny Bairstow\\n',\n",
       " '\\nRoss Taylor\\n',\n",
       " '\\nRassie van der Dussen\\n',\n",
       " '\\nDavid Warner\\n',\n",
       " '\\nAaron Finch\\n']"
      ]
     },
     "execution_count": 43,
     "metadata": {},
     "output_type": "execute_result"
    }
   ],
   "source": [
    "batsmen=[]\n",
    "\n",
    "for i in soup5a.find_all('td',class_='table-body__cell rankings-table__name name'):\n",
    "    batsmen.append(i.text)\n",
    "batsmen.insert(0,\"Babar Azam\")# we inserted \"Babar Azam\" becouse when we was scriping the data the we was unable to scrape 1st \n",
    "batsmen1=batsmen[0:10]        # one. thats why we scraped all the data and inserted 1st one,so that our data can be completed.\n",
    "batsmen1"
   ]
  },
  {
   "cell_type": "code",
   "execution_count": 44,
   "id": "139abccc",
   "metadata": {},
   "outputs": [
    {
     "data": {
      "text/plain": [
       "['PAK', 'IND', 'PAK', 'IND', 'SA', 'ENG', 'NZ', 'SA', 'AUS', 'AUS']"
      ]
     },
     "execution_count": 44,
     "metadata": {},
     "output_type": "execute_result"
    }
   ],
   "source": [
    "teamb=[]\n",
    "\n",
    "for i in soup5a.find_all('span',class_=\"table-body__logo-text\"):\n",
    "    teamb.append(i.text)\n",
    "teamb.insert(0,\"PAK\")  \n",
    "teamb1=teamb[0:10]\n",
    "teamb1"
   ]
  },
  {
   "cell_type": "code",
   "execution_count": 45,
   "id": "e501f5b9",
   "metadata": {},
   "outputs": [
    {
     "data": {
      "text/plain": [
       "[891, '811', '795', '791', '789', '775', '775', '769', '750', '745']"
      ]
     },
     "execution_count": 45,
     "metadata": {},
     "output_type": "execute_result"
    }
   ],
   "source": [
    "ratingb=[]\n",
    "\n",
    "for i in soup5a.find_all('td',class_=\"table-body__cell rating\"):\n",
    "    ratingb.append(i.text)\n",
    "    \n",
    "ratingb.insert(0,891)\n",
    "ratingb1=ratingb[0:10]\n",
    "ratingb1"
   ]
  },
  {
   "cell_type": "code",
   "execution_count": 46,
   "id": "36ccaf4b",
   "metadata": {},
   "outputs": [],
   "source": [
    "cbr=[]\n",
    "\n",
    "for i in soup5a.find_all('td',class_=\"table-body__cell u-text-right u-hide-phablet\"):\n",
    "    cbr.append(i.text)\n",
    "    \n",
    "cbr.insert(0,\"891 v Australia, 02/04/2022\")\n",
    "cbr1=cbr[0:10]"
   ]
  },
  {
   "cell_type": "code",
   "execution_count": 47,
   "id": "fe20201a",
   "metadata": {},
   "outputs": [
    {
     "data": {
      "text/html": [
       "<div>\n",
       "<style scoped>\n",
       "    .dataframe tbody tr th:only-of-type {\n",
       "        vertical-align: middle;\n",
       "    }\n",
       "\n",
       "    .dataframe tbody tr th {\n",
       "        vertical-align: top;\n",
       "    }\n",
       "\n",
       "    .dataframe thead th {\n",
       "        text-align: right;\n",
       "    }\n",
       "</style>\n",
       "<table border=\"1\" class=\"dataframe\">\n",
       "  <thead>\n",
       "    <tr style=\"text-align: right;\">\n",
       "      <th></th>\n",
       "      <th>Batsmen</th>\n",
       "      <th>Team</th>\n",
       "      <th>Rating</th>\n",
       "      <th>CAREER BEST RATING</th>\n",
       "    </tr>\n",
       "  </thead>\n",
       "  <tbody>\n",
       "    <tr>\n",
       "      <th>0</th>\n",
       "      <td>Babar Azam</td>\n",
       "      <td>PAK</td>\n",
       "      <td>891</td>\n",
       "      <td>891 v Australia, 02/04/2022</td>\n",
       "    </tr>\n",
       "    <tr>\n",
       "      <th>1</th>\n",
       "      <td>\\nVirat Kohli\\n</td>\n",
       "      <td>IND</td>\n",
       "      <td>811</td>\n",
       "      <td>\\n                                911 v Englan...</td>\n",
       "    </tr>\n",
       "  </tbody>\n",
       "</table>\n",
       "</div>"
      ],
      "text/plain": [
       "           Batsmen Team Rating  \\\n",
       "0       Babar Azam  PAK    891   \n",
       "1  \\nVirat Kohli\\n  IND    811   \n",
       "\n",
       "                                  CAREER BEST RATING  \n",
       "0                        891 v Australia, 02/04/2022  \n",
       "1  \\n                                911 v Englan...  "
      ]
     },
     "execution_count": 47,
     "metadata": {},
     "output_type": "execute_result"
    }
   ],
   "source": [
    "pp=pd.DataFrame({\"Batsmen\":batsmen1,\"Team\":teamb1,\"Rating\":ratingb1,\"CAREER BEST RATING\":cbr1})\n",
    "pp.head(2)"
   ]
  },
  {
   "cell_type": "code",
   "execution_count": 48,
   "id": "dc692846",
   "metadata": {},
   "outputs": [],
   "source": [
    "pp[\"Batsmen\"]=[x.strip(\"\\n\") for x in pp[\"Batsmen\"] ]\n",
    "pp['CAREER BEST RATING']=[x.strip(\"\\n\") for x in pp['CAREER BEST RATING']]"
   ]
  },
  {
   "cell_type": "code",
   "execution_count": 49,
   "id": "95a57d46",
   "metadata": {},
   "outputs": [
    {
     "data": {
      "text/html": [
       "<div>\n",
       "<style scoped>\n",
       "    .dataframe tbody tr th:only-of-type {\n",
       "        vertical-align: middle;\n",
       "    }\n",
       "\n",
       "    .dataframe tbody tr th {\n",
       "        vertical-align: top;\n",
       "    }\n",
       "\n",
       "    .dataframe thead th {\n",
       "        text-align: right;\n",
       "    }\n",
       "</style>\n",
       "<table border=\"1\" class=\"dataframe\">\n",
       "  <thead>\n",
       "    <tr style=\"text-align: right;\">\n",
       "      <th></th>\n",
       "      <th>Batsmen</th>\n",
       "      <th>Team</th>\n",
       "      <th>Rating</th>\n",
       "      <th>CAREER BEST RATING</th>\n",
       "    </tr>\n",
       "  </thead>\n",
       "  <tbody>\n",
       "    <tr>\n",
       "      <th>0</th>\n",
       "      <td>Babar Azam</td>\n",
       "      <td>PAK</td>\n",
       "      <td>891</td>\n",
       "      <td>891 v Australia, 02/04/2022</td>\n",
       "    </tr>\n",
       "    <tr>\n",
       "      <th>1</th>\n",
       "      <td>Virat Kohli</td>\n",
       "      <td>IND</td>\n",
       "      <td>811</td>\n",
       "      <td>911 v England,...</td>\n",
       "    </tr>\n",
       "    <tr>\n",
       "      <th>2</th>\n",
       "      <td>Imam-ul-Haq</td>\n",
       "      <td>PAK</td>\n",
       "      <td>795</td>\n",
       "      <td>795 v Australi...</td>\n",
       "    </tr>\n",
       "    <tr>\n",
       "      <th>3</th>\n",
       "      <td>Rohit Sharma</td>\n",
       "      <td>IND</td>\n",
       "      <td>791</td>\n",
       "      <td>885 v Sri Lank...</td>\n",
       "    </tr>\n",
       "    <tr>\n",
       "      <th>4</th>\n",
       "      <td>Quinton de Kock</td>\n",
       "      <td>SA</td>\n",
       "      <td>789</td>\n",
       "      <td>813 v Sri Lank...</td>\n",
       "    </tr>\n",
       "    <tr>\n",
       "      <th>5</th>\n",
       "      <td>Jonny Bairstow</td>\n",
       "      <td>ENG</td>\n",
       "      <td>775</td>\n",
       "      <td>796 v India, 2...</td>\n",
       "    </tr>\n",
       "    <tr>\n",
       "      <th>6</th>\n",
       "      <td>Ross Taylor</td>\n",
       "      <td>NZ</td>\n",
       "      <td>775</td>\n",
       "      <td>841 v Banglade...</td>\n",
       "    </tr>\n",
       "    <tr>\n",
       "      <th>7</th>\n",
       "      <td>Rassie van der Dussen</td>\n",
       "      <td>SA</td>\n",
       "      <td>769</td>\n",
       "      <td>776 v Banglade...</td>\n",
       "    </tr>\n",
       "    <tr>\n",
       "      <th>8</th>\n",
       "      <td>David Warner</td>\n",
       "      <td>AUS</td>\n",
       "      <td>750</td>\n",
       "      <td>880 v Pakistan...</td>\n",
       "    </tr>\n",
       "    <tr>\n",
       "      <th>9</th>\n",
       "      <td>Aaron Finch</td>\n",
       "      <td>AUS</td>\n",
       "      <td>745</td>\n",
       "      <td>798 v England,...</td>\n",
       "    </tr>\n",
       "  </tbody>\n",
       "</table>\n",
       "</div>"
      ],
      "text/plain": [
       "                 Batsmen Team Rating  \\\n",
       "0             Babar Azam  PAK    891   \n",
       "1            Virat Kohli  IND    811   \n",
       "2            Imam-ul-Haq  PAK    795   \n",
       "3           Rohit Sharma  IND    791   \n",
       "4        Quinton de Kock   SA    789   \n",
       "5         Jonny Bairstow  ENG    775   \n",
       "6            Ross Taylor   NZ    775   \n",
       "7  Rassie van der Dussen   SA    769   \n",
       "8           David Warner  AUS    750   \n",
       "9            Aaron Finch  AUS    745   \n",
       "\n",
       "                                  CAREER BEST RATING  \n",
       "0                        891 v Australia, 02/04/2022  \n",
       "1                                  911 v England,...  \n",
       "2                                  795 v Australi...  \n",
       "3                                  885 v Sri Lank...  \n",
       "4                                  813 v Sri Lank...  \n",
       "5                                  796 v India, 2...  \n",
       "6                                  841 v Banglade...  \n",
       "7                                  776 v Banglade...  \n",
       "8                                  880 v Pakistan...  \n",
       "9                                  798 v England,...  "
      ]
     },
     "execution_count": 49,
     "metadata": {},
     "output_type": "execute_result"
    }
   ],
   "source": [
    "mens_batting=pp\n",
    "mens_batting"
   ]
  },
  {
   "cell_type": "markdown",
   "id": "53e586d3",
   "metadata": {},
   "source": [
    "Top 10 ODI bowlers along with the records of their team and rating"
   ]
  },
  {
   "cell_type": "code",
   "execution_count": 50,
   "id": "acfb6e9e",
   "metadata": {},
   "outputs": [
    {
     "data": {
      "text/plain": [
       "<Response [200]>"
      ]
     },
     "execution_count": 50,
     "metadata": {},
     "output_type": "execute_result"
    }
   ],
   "source": [
    "page5b=requests.get(\"https://www.icc-cricket.com/rankings/mens/player-rankings/odi/bowling\")\n",
    "page5b"
   ]
  },
  {
   "cell_type": "code",
   "execution_count": 51,
   "id": "54417885",
   "metadata": {},
   "outputs": [],
   "source": [
    "soup5b=BeautifulSoup(page5b.content)"
   ]
  },
  {
   "cell_type": "code",
   "execution_count": 52,
   "id": "d4652e20",
   "metadata": {},
   "outputs": [
    {
     "name": "stdout",
     "output_type": "stream",
     "text": [
      "['Trent Boult', '\\nChris Woakes\\n', '\\nJosh Hazlewood\\n', '\\nMatt Henry\\n', '\\nMujeeb Ur Rahman\\n', '\\nJasprit Bumrah\\n', '\\nShaheen Afridi\\n', '\\nMehedi Hasan\\n', '\\nShakib Al Hasan\\n', '\\nRashid Khan\\n']"
     ]
    }
   ],
   "source": [
    "player=[]\n",
    "\n",
    "for i in soup5b.find_all('td',class_=\"table-body__cell rankings-table__name name\"):\n",
    "    player.append(i.text)\n",
    "player.insert(0,'Trent Boult')\n",
    "player1=player[0:10]\n",
    "print(player1,end=\"\")"
   ]
  },
  {
   "cell_type": "code",
   "execution_count": 53,
   "id": "17bb8a8f",
   "metadata": {},
   "outputs": [
    {
     "data": {
      "text/plain": [
       "['NZ', 'ENG', 'AUS', 'NZ', 'AFG', 'IND', 'PAK', 'BAN', 'BAN', 'AFG']"
      ]
     },
     "execution_count": 53,
     "metadata": {},
     "output_type": "execute_result"
    }
   ],
   "source": [
    "teamb=[]\n",
    "\n",
    "for i in soup5b.find_all('span',class_='table-body__logo-text'):\n",
    "    teamb.append(i.text)\n",
    "    \n",
    "teamb.insert(0,\"NZ\")\n",
    "teamb1=teamb[0:10]\n",
    "teamb1"
   ]
  },
  {
   "cell_type": "code",
   "execution_count": 54,
   "id": "204e726c",
   "metadata": {},
   "outputs": [
    {
     "data": {
      "text/plain": [
       "[726, '700', '698', '683', '681', '679', '671', '661', '657', '650']"
      ]
     },
     "execution_count": 54,
     "metadata": {},
     "output_type": "execute_result"
    }
   ],
   "source": [
    "ratingb=[]\n",
    "\n",
    "for i in soup5b.find_all('td',class_='table-body__cell rating'):\n",
    "    ratingb.append(i.text)\n",
    "    \n",
    "ratingb.insert(0,726)\n",
    "ratingb1=ratingb[0:10]\n",
    "ratingb1"
   ]
  },
  {
   "cell_type": "code",
   "execution_count": 55,
   "id": "2d760fc1",
   "metadata": {},
   "outputs": [
    {
     "data": {
      "text/html": [
       "<div>\n",
       "<style scoped>\n",
       "    .dataframe tbody tr th:only-of-type {\n",
       "        vertical-align: middle;\n",
       "    }\n",
       "\n",
       "    .dataframe tbody tr th {\n",
       "        vertical-align: top;\n",
       "    }\n",
       "\n",
       "    .dataframe thead th {\n",
       "        text-align: right;\n",
       "    }\n",
       "</style>\n",
       "<table border=\"1\" class=\"dataframe\">\n",
       "  <thead>\n",
       "    <tr style=\"text-align: right;\">\n",
       "      <th></th>\n",
       "      <th>Name</th>\n",
       "      <th>Team</th>\n",
       "      <th>Rating</th>\n",
       "    </tr>\n",
       "  </thead>\n",
       "  <tbody>\n",
       "    <tr>\n",
       "      <th>0</th>\n",
       "      <td>Trent Boult</td>\n",
       "      <td>NZ</td>\n",
       "      <td>726</td>\n",
       "    </tr>\n",
       "    <tr>\n",
       "      <th>1</th>\n",
       "      <td>\\nChris Woakes\\n</td>\n",
       "      <td>ENG</td>\n",
       "      <td>700</td>\n",
       "    </tr>\n",
       "  </tbody>\n",
       "</table>\n",
       "</div>"
      ],
      "text/plain": [
       "               Name Team Rating\n",
       "0       Trent Boult   NZ    726\n",
       "1  \\nChris Woakes\\n  ENG    700"
      ]
     },
     "execution_count": 55,
     "metadata": {},
     "output_type": "execute_result"
    }
   ],
   "source": [
    "hh=pd.DataFrame({\"Name\":player1,\"Team\":teamb1,\"Rating\":ratingb1})\n",
    "hh.head(2)"
   ]
  },
  {
   "cell_type": "code",
   "execution_count": 56,
   "id": "67d9579a",
   "metadata": {},
   "outputs": [],
   "source": [
    "hh['Name']=[x.strip(\"\\n\") for x in hh['Name']]"
   ]
  },
  {
   "cell_type": "code",
   "execution_count": 57,
   "id": "af0e8a60",
   "metadata": {},
   "outputs": [
    {
     "data": {
      "text/html": [
       "<div>\n",
       "<style scoped>\n",
       "    .dataframe tbody tr th:only-of-type {\n",
       "        vertical-align: middle;\n",
       "    }\n",
       "\n",
       "    .dataframe tbody tr th {\n",
       "        vertical-align: top;\n",
       "    }\n",
       "\n",
       "    .dataframe thead th {\n",
       "        text-align: right;\n",
       "    }\n",
       "</style>\n",
       "<table border=\"1\" class=\"dataframe\">\n",
       "  <thead>\n",
       "    <tr style=\"text-align: right;\">\n",
       "      <th></th>\n",
       "      <th>Name</th>\n",
       "      <th>Team</th>\n",
       "      <th>Rating</th>\n",
       "    </tr>\n",
       "  </thead>\n",
       "  <tbody>\n",
       "    <tr>\n",
       "      <th>0</th>\n",
       "      <td>Trent Boult</td>\n",
       "      <td>NZ</td>\n",
       "      <td>726</td>\n",
       "    </tr>\n",
       "    <tr>\n",
       "      <th>1</th>\n",
       "      <td>Chris Woakes</td>\n",
       "      <td>ENG</td>\n",
       "      <td>700</td>\n",
       "    </tr>\n",
       "    <tr>\n",
       "      <th>2</th>\n",
       "      <td>Josh Hazlewood</td>\n",
       "      <td>AUS</td>\n",
       "      <td>698</td>\n",
       "    </tr>\n",
       "    <tr>\n",
       "      <th>3</th>\n",
       "      <td>Matt Henry</td>\n",
       "      <td>NZ</td>\n",
       "      <td>683</td>\n",
       "    </tr>\n",
       "    <tr>\n",
       "      <th>4</th>\n",
       "      <td>Mujeeb Ur Rahman</td>\n",
       "      <td>AFG</td>\n",
       "      <td>681</td>\n",
       "    </tr>\n",
       "    <tr>\n",
       "      <th>5</th>\n",
       "      <td>Jasprit Bumrah</td>\n",
       "      <td>IND</td>\n",
       "      <td>679</td>\n",
       "    </tr>\n",
       "    <tr>\n",
       "      <th>6</th>\n",
       "      <td>Shaheen Afridi</td>\n",
       "      <td>PAK</td>\n",
       "      <td>671</td>\n",
       "    </tr>\n",
       "    <tr>\n",
       "      <th>7</th>\n",
       "      <td>Mehedi Hasan</td>\n",
       "      <td>BAN</td>\n",
       "      <td>661</td>\n",
       "    </tr>\n",
       "    <tr>\n",
       "      <th>8</th>\n",
       "      <td>Shakib Al Hasan</td>\n",
       "      <td>BAN</td>\n",
       "      <td>657</td>\n",
       "    </tr>\n",
       "    <tr>\n",
       "      <th>9</th>\n",
       "      <td>Rashid Khan</td>\n",
       "      <td>AFG</td>\n",
       "      <td>650</td>\n",
       "    </tr>\n",
       "  </tbody>\n",
       "</table>\n",
       "</div>"
      ],
      "text/plain": [
       "               Name Team Rating\n",
       "0       Trent Boult   NZ    726\n",
       "1      Chris Woakes  ENG    700\n",
       "2    Josh Hazlewood  AUS    698\n",
       "3        Matt Henry   NZ    683\n",
       "4  Mujeeb Ur Rahman  AFG    681\n",
       "5    Jasprit Bumrah  IND    679\n",
       "6    Shaheen Afridi  PAK    671\n",
       "7      Mehedi Hasan  BAN    661\n",
       "8   Shakib Al Hasan  BAN    657\n",
       "9       Rashid Khan  AFG    650"
      ]
     },
     "execution_count": 57,
     "metadata": {},
     "output_type": "execute_result"
    }
   ],
   "source": [
    "Bowlers=hh\n",
    "Bowlers"
   ]
  },
  {
   "cell_type": "markdown",
   "id": "5e4abd8d",
   "metadata": {},
   "source": [
    "# 6) Write a python program to scrape cricket rankings from icc-cricket.com. You have to scrape:"
   ]
  },
  {
   "cell_type": "markdown",
   "id": "b3d351e0",
   "metadata": {},
   "source": [
    "a) Top 10 ODI teams in women’s cricket along with the records for matches, points and rating.\n",
    "b) Top 10 women’s ODI Batting players along with the records of their team and rating.\n",
    "c) Top 10 women’s ODI all-rounder along with the records of their team and rating."
   ]
  },
  {
   "cell_type": "code",
   "execution_count": 58,
   "id": "16f1b87a",
   "metadata": {},
   "outputs": [],
   "source": [
    "import pandas as pd\n",
    "import requests\n",
    "from bs4 import BeautifulSoup"
   ]
  },
  {
   "cell_type": "markdown",
   "id": "a1370c53",
   "metadata": {},
   "source": [
    "a) Top 10 ODI teams in women’s cricket along with the records for matches, points and rating."
   ]
  },
  {
   "cell_type": "code",
   "execution_count": 59,
   "id": "771b6557",
   "metadata": {},
   "outputs": [
    {
     "data": {
      "text/plain": [
       "<Response [200]>"
      ]
     },
     "execution_count": 59,
     "metadata": {},
     "output_type": "execute_result"
    }
   ],
   "source": [
    "page6=requests.get(\"https://www.icc-cricket.com/rankings/womens/team-rankings/odi\")\n",
    "page6"
   ]
  },
  {
   "cell_type": "code",
   "execution_count": 60,
   "id": "9aec216a",
   "metadata": {},
   "outputs": [],
   "source": [
    "soup6=BeautifulSoup(page6.content)"
   ]
  },
  {
   "cell_type": "code",
   "execution_count": 61,
   "id": "75818b4b",
   "metadata": {},
   "outputs": [
    {
     "name": "stdout",
     "output_type": "stream",
     "text": [
      "['Australia', '\\n\\nSouth Africa\\nSA\\n', '\\n\\nEngland\\nENG\\n', '\\n\\nIndia\\nIND\\n', '\\n\\nNew Zealand\\nNZ\\n', '\\n\\nWest Indies\\nWI\\n', '\\n\\nBangladesh\\nBAN\\n', '\\n\\nPakistan\\nPAK\\n', '\\n\\nIreland\\nIRE\\n', '\\n\\nSri Lanka\\nSL\\n', '\\n\\nZimbabwe\\nZIM\\n']"
     ]
    }
   ],
   "source": [
    "teamw=[]\n",
    "\n",
    "for i in soup6.find_all('td',class_=\"table-body__cell rankings-table__team\"):\n",
    "    teamw.append(i.text)\n",
    "teamw.insert(0,'Australia')\n",
    "print(teamw,end='')"
   ]
  },
  {
   "cell_type": "code",
   "execution_count": 62,
   "id": "348c2644",
   "metadata": {},
   "outputs": [],
   "source": [
    "matchwo=[]\n",
    "\n",
    "for i in soup6.find_all('td',class_=\"table-body__cell u-center-text\"):\n",
    "    matchwo.append(i.text)"
   ]
  },
  {
   "cell_type": "code",
   "execution_count": 63,
   "id": "879e4c79",
   "metadata": {},
   "outputs": [
    {
     "data": {
      "text/plain": [
       "[29, '28', '30', '29', '31', '28', '12', '26', '5', '5', '8']"
      ]
     },
     "execution_count": 63,
     "metadata": {},
     "output_type": "execute_result"
    }
   ],
   "source": [
    "matchww=matchwo[::2]\n",
    "matchww.insert(0,29)\n",
    "matchww"
   ]
  },
  {
   "cell_type": "code",
   "execution_count": 64,
   "id": "5544fdae",
   "metadata": {},
   "outputs": [
    {
     "name": "stdout",
     "output_type": "stream",
     "text": [
      "[4840, '3,504', '3,533', '2,878', '3,030', '2,481', '936', '1,752', '240', '233', '0']"
     ]
    }
   ],
   "source": [
    "pointsww=matchwo[1::2]\n",
    "pointsww.insert(0,4840)\n",
    "print(pointsww,end=\"\")"
   ]
  },
  {
   "cell_type": "code",
   "execution_count": 65,
   "id": "6e0d1a59",
   "metadata": {},
   "outputs": [
    {
     "data": {
      "text/plain": [
       "[167, '125', '118', '99', '98', '89', '78', '67', '48', '47', '0']"
      ]
     },
     "execution_count": 65,
     "metadata": {},
     "output_type": "execute_result"
    }
   ],
   "source": [
    "ratingw=[]\n",
    "\n",
    "for i in soup6.find_all('td',class_=\"table-body__cell u-text-right rating\"):\n",
    "    ratingw.append(i.text)\n",
    "    \n",
    "ratingw.insert(0,167)\n",
    "ratingw"
   ]
  },
  {
   "cell_type": "code",
   "execution_count": 66,
   "id": "818a96c1",
   "metadata": {},
   "outputs": [],
   "source": [
    "Woman_odi1=pd.DataFrame({'Team':teamw,\"Matches\":matchww,\"Points\":pointsww,\"Ratings\":ratingw})"
   ]
  },
  {
   "cell_type": "code",
   "execution_count": 67,
   "id": "29ad6ec6",
   "metadata": {},
   "outputs": [
    {
     "data": {
      "text/html": [
       "<div>\n",
       "<style scoped>\n",
       "    .dataframe tbody tr th:only-of-type {\n",
       "        vertical-align: middle;\n",
       "    }\n",
       "\n",
       "    .dataframe tbody tr th {\n",
       "        vertical-align: top;\n",
       "    }\n",
       "\n",
       "    .dataframe thead th {\n",
       "        text-align: right;\n",
       "    }\n",
       "</style>\n",
       "<table border=\"1\" class=\"dataframe\">\n",
       "  <thead>\n",
       "    <tr style=\"text-align: right;\">\n",
       "      <th></th>\n",
       "      <th>Team</th>\n",
       "      <th>Matches</th>\n",
       "      <th>Points</th>\n",
       "      <th>Ratings</th>\n",
       "    </tr>\n",
       "  </thead>\n",
       "  <tbody>\n",
       "    <tr>\n",
       "      <th>0</th>\n",
       "      <td>Australia</td>\n",
       "      <td>29</td>\n",
       "      <td>4840</td>\n",
       "      <td>167</td>\n",
       "    </tr>\n",
       "    <tr>\n",
       "      <th>1</th>\n",
       "      <td>South Africa\\nSA</td>\n",
       "      <td>28</td>\n",
       "      <td>3,504</td>\n",
       "      <td>125</td>\n",
       "    </tr>\n",
       "    <tr>\n",
       "      <th>2</th>\n",
       "      <td>England\\nENG</td>\n",
       "      <td>30</td>\n",
       "      <td>3,533</td>\n",
       "      <td>118</td>\n",
       "    </tr>\n",
       "    <tr>\n",
       "      <th>3</th>\n",
       "      <td>India\\nIND</td>\n",
       "      <td>29</td>\n",
       "      <td>2,878</td>\n",
       "      <td>99</td>\n",
       "    </tr>\n",
       "    <tr>\n",
       "      <th>4</th>\n",
       "      <td>New Zealand\\nNZ</td>\n",
       "      <td>31</td>\n",
       "      <td>3,030</td>\n",
       "      <td>98</td>\n",
       "    </tr>\n",
       "    <tr>\n",
       "      <th>5</th>\n",
       "      <td>West Indies\\nWI</td>\n",
       "      <td>28</td>\n",
       "      <td>2,481</td>\n",
       "      <td>89</td>\n",
       "    </tr>\n",
       "    <tr>\n",
       "      <th>6</th>\n",
       "      <td>Bangladesh\\nBAN</td>\n",
       "      <td>12</td>\n",
       "      <td>936</td>\n",
       "      <td>78</td>\n",
       "    </tr>\n",
       "    <tr>\n",
       "      <th>7</th>\n",
       "      <td>Pakistan\\nPAK</td>\n",
       "      <td>26</td>\n",
       "      <td>1,752</td>\n",
       "      <td>67</td>\n",
       "    </tr>\n",
       "    <tr>\n",
       "      <th>8</th>\n",
       "      <td>Ireland\\nIRE</td>\n",
       "      <td>5</td>\n",
       "      <td>240</td>\n",
       "      <td>48</td>\n",
       "    </tr>\n",
       "    <tr>\n",
       "      <th>9</th>\n",
       "      <td>Sri Lanka\\nSL</td>\n",
       "      <td>5</td>\n",
       "      <td>233</td>\n",
       "      <td>47</td>\n",
       "    </tr>\n",
       "    <tr>\n",
       "      <th>10</th>\n",
       "      <td>Zimbabwe\\nZIM</td>\n",
       "      <td>8</td>\n",
       "      <td>0</td>\n",
       "      <td>0</td>\n",
       "    </tr>\n",
       "  </tbody>\n",
       "</table>\n",
       "</div>"
      ],
      "text/plain": [
       "                Team Matches Points Ratings\n",
       "0          Australia      29   4840     167\n",
       "1   South Africa\\nSA      28  3,504     125\n",
       "2       England\\nENG      30  3,533     118\n",
       "3         India\\nIND      29  2,878      99\n",
       "4    New Zealand\\nNZ      31  3,030      98\n",
       "5    West Indies\\nWI      28  2,481      89\n",
       "6    Bangladesh\\nBAN      12    936      78\n",
       "7      Pakistan\\nPAK      26  1,752      67\n",
       "8       Ireland\\nIRE       5    240      48\n",
       "9      Sri Lanka\\nSL       5    233      47\n",
       "10     Zimbabwe\\nZIM       8      0       0"
      ]
     },
     "execution_count": 67,
     "metadata": {},
     "output_type": "execute_result"
    }
   ],
   "source": [
    "Woman_odi1['Team']=[x.strip(\"\\n\") for x in Woman_odi1['Team']]\n",
    "Woman_odi1"
   ]
  },
  {
   "cell_type": "markdown",
   "id": "a970787a",
   "metadata": {},
   "source": [
    "b) Top 10 women’s ODI Batting players along with the records of their team and rating. "
   ]
  },
  {
   "cell_type": "code",
   "execution_count": 68,
   "id": "d0c7cc3b",
   "metadata": {},
   "outputs": [
    {
     "data": {
      "text/plain": [
       "<Response [200]>"
      ]
     },
     "execution_count": 68,
     "metadata": {},
     "output_type": "execute_result"
    }
   ],
   "source": [
    "page6a=requests.get(\"https://www.icc-cricket.com/rankings/womens/player-rankings/odi/batting\")\n",
    "page6a"
   ]
  },
  {
   "cell_type": "code",
   "execution_count": 69,
   "id": "ed56d4aa",
   "metadata": {},
   "outputs": [],
   "source": [
    "soup6a=BeautifulSoup(page6a.content)"
   ]
  },
  {
   "cell_type": "code",
   "execution_count": 70,
   "id": "93971f41",
   "metadata": {},
   "outputs": [
    {
     "name": "stdout",
     "output_type": "stream",
     "text": [
      "['Alyssa Healy', '\\nNatalie Sciver\\n', '\\nBeth Mooney\\n', '\\nLaura Wolvaardt\\n', '\\nMeg Lanning\\n', '\\nRachael Haynes\\n', '\\nMithali Raj\\n', '\\nAmy Satterthwaite\\n', '\\nSmriti Mandhana\\n', '\\nTammy Beaumont\\n']"
     ]
    }
   ],
   "source": [
    "player=[]\n",
    "\n",
    "for i in soup6a.find_all('td',class_='table-body__cell rankings-table__name name'):\n",
    "    player.append(i.text)\n",
    "    \n",
    "player.insert(0,\"Alyssa Healy\")\n",
    "playerw=player[0:10]\n",
    "print(playerw,end=\"\")"
   ]
  },
  {
   "cell_type": "code",
   "execution_count": 71,
   "id": "2ce8a8ad",
   "metadata": {},
   "outputs": [
    {
     "name": "stdout",
     "output_type": "stream",
     "text": [
      "['AUS', '\\n\\nENG\\n', '\\n\\nAUS\\n', '\\n\\nSA\\n', '\\n\\nAUS\\n', '\\n\\nAUS\\n', '\\n\\nIND\\n', '\\n\\nNZ\\n', '\\n\\nIND\\n', '\\n\\nENG\\n']"
     ]
    }
   ],
   "source": [
    "team=[]\n",
    "\n",
    "for i in soup6a.find_all(\"td\",class_=\"table-body__cell nationality-logo rankings-table__team\"):\n",
    "    team.append(i.text)\n",
    "    \n",
    "team.insert(0,'AUS')\n",
    "teamw=team[0:10]\n",
    "print(teamw,end=\"\")"
   ]
  },
  {
   "cell_type": "code",
   "execution_count": 72,
   "id": "4b33b7bb",
   "metadata": {},
   "outputs": [
    {
     "data": {
      "text/plain": [
       "[785, '750', '748', '722', '710', '701', '686', '681', '669', '659']"
      ]
     },
     "execution_count": 72,
     "metadata": {},
     "output_type": "execute_result"
    }
   ],
   "source": [
    "rating=[]\n",
    "\n",
    "for i in soup6a.find_all('td',class_=\"table-body__cell rating\"):\n",
    "    rating.append(i.text)\n",
    "    \n",
    "rating.insert(0,785)\n",
    "ratingw=rating[0:10]\n",
    "ratingw"
   ]
  },
  {
   "cell_type": "code",
   "execution_count": 73,
   "id": "5846c0ba",
   "metadata": {},
   "outputs": [],
   "source": [
    "women_players=pd.DataFrame({\"Name\":playerw,\"Team\":teamw,\"Rating\":ratingw})"
   ]
  },
  {
   "cell_type": "code",
   "execution_count": 74,
   "id": "1b9b4bfb",
   "metadata": {},
   "outputs": [],
   "source": [
    "women_players['Name']=[x.strip(\"\\n\") for x in women_players['Name']]\n",
    "women_players['Team']=[x.strip(\"\\n\") for x in women_players['Team']]"
   ]
  },
  {
   "cell_type": "code",
   "execution_count": 75,
   "id": "95eaa37c",
   "metadata": {},
   "outputs": [
    {
     "data": {
      "text/html": [
       "<div>\n",
       "<style scoped>\n",
       "    .dataframe tbody tr th:only-of-type {\n",
       "        vertical-align: middle;\n",
       "    }\n",
       "\n",
       "    .dataframe tbody tr th {\n",
       "        vertical-align: top;\n",
       "    }\n",
       "\n",
       "    .dataframe thead th {\n",
       "        text-align: right;\n",
       "    }\n",
       "</style>\n",
       "<table border=\"1\" class=\"dataframe\">\n",
       "  <thead>\n",
       "    <tr style=\"text-align: right;\">\n",
       "      <th></th>\n",
       "      <th>Name</th>\n",
       "      <th>Team</th>\n",
       "      <th>Rating</th>\n",
       "    </tr>\n",
       "  </thead>\n",
       "  <tbody>\n",
       "    <tr>\n",
       "      <th>0</th>\n",
       "      <td>Alyssa Healy</td>\n",
       "      <td>AUS</td>\n",
       "      <td>785</td>\n",
       "    </tr>\n",
       "    <tr>\n",
       "      <th>1</th>\n",
       "      <td>Natalie Sciver</td>\n",
       "      <td>ENG</td>\n",
       "      <td>750</td>\n",
       "    </tr>\n",
       "    <tr>\n",
       "      <th>2</th>\n",
       "      <td>Beth Mooney</td>\n",
       "      <td>AUS</td>\n",
       "      <td>748</td>\n",
       "    </tr>\n",
       "    <tr>\n",
       "      <th>3</th>\n",
       "      <td>Laura Wolvaardt</td>\n",
       "      <td>SA</td>\n",
       "      <td>722</td>\n",
       "    </tr>\n",
       "    <tr>\n",
       "      <th>4</th>\n",
       "      <td>Meg Lanning</td>\n",
       "      <td>AUS</td>\n",
       "      <td>710</td>\n",
       "    </tr>\n",
       "    <tr>\n",
       "      <th>5</th>\n",
       "      <td>Rachael Haynes</td>\n",
       "      <td>AUS</td>\n",
       "      <td>701</td>\n",
       "    </tr>\n",
       "    <tr>\n",
       "      <th>6</th>\n",
       "      <td>Mithali Raj</td>\n",
       "      <td>IND</td>\n",
       "      <td>686</td>\n",
       "    </tr>\n",
       "    <tr>\n",
       "      <th>7</th>\n",
       "      <td>Amy Satterthwaite</td>\n",
       "      <td>NZ</td>\n",
       "      <td>681</td>\n",
       "    </tr>\n",
       "    <tr>\n",
       "      <th>8</th>\n",
       "      <td>Smriti Mandhana</td>\n",
       "      <td>IND</td>\n",
       "      <td>669</td>\n",
       "    </tr>\n",
       "    <tr>\n",
       "      <th>9</th>\n",
       "      <td>Tammy Beaumont</td>\n",
       "      <td>ENG</td>\n",
       "      <td>659</td>\n",
       "    </tr>\n",
       "  </tbody>\n",
       "</table>\n",
       "</div>"
      ],
      "text/plain": [
       "                Name Team Rating\n",
       "0       Alyssa Healy  AUS    785\n",
       "1     Natalie Sciver  ENG    750\n",
       "2        Beth Mooney  AUS    748\n",
       "3    Laura Wolvaardt   SA    722\n",
       "4        Meg Lanning  AUS    710\n",
       "5     Rachael Haynes  AUS    701\n",
       "6        Mithali Raj  IND    686\n",
       "7  Amy Satterthwaite   NZ    681\n",
       "8    Smriti Mandhana  IND    669\n",
       "9     Tammy Beaumont  ENG    659"
      ]
     },
     "execution_count": 75,
     "metadata": {},
     "output_type": "execute_result"
    }
   ],
   "source": [
    "women_players"
   ]
  },
  {
   "cell_type": "markdown",
   "id": "5a39fb94",
   "metadata": {},
   "source": [
    "c) Top 10 women’s ODI all-rounder along with the records of their team and rating"
   ]
  },
  {
   "cell_type": "code",
   "execution_count": 76,
   "id": "a585a429",
   "metadata": {},
   "outputs": [
    {
     "data": {
      "text/plain": [
       "<Response [200]>"
      ]
     },
     "execution_count": 76,
     "metadata": {},
     "output_type": "execute_result"
    }
   ],
   "source": [
    "page6b=requests.get(\"https://www.icc-cricket.com/rankings/womens/player-rankings/odi/all-rounder\")\n",
    "page6b"
   ]
  },
  {
   "cell_type": "code",
   "execution_count": 77,
   "id": "4def070b",
   "metadata": {},
   "outputs": [],
   "source": [
    "soup6b=BeautifulSoup(page6b.content)"
   ]
  },
  {
   "cell_type": "code",
   "execution_count": 78,
   "id": "00134cda",
   "metadata": {},
   "outputs": [
    {
     "name": "stdout",
     "output_type": "stream",
     "text": [
      "['Natalia Sciver', '\\nEllyse Perry\\n', '\\nMarizanne Kapp\\n', '\\nHayley Matthews\\n', '\\nAmelia Kerr\\n', '\\nAshleigh Gardner\\n', '\\nDeepti Sharma\\n', '\\nJess Jonassen\\n', '\\nKatherine Brunt\\n', '\\nJhulan Goswami\\n']"
     ]
    }
   ],
   "source": [
    "name=[]\n",
    "\n",
    "for i in soup6b.find_all('td',class_=\"table-body__cell rankings-table__name name\"):\n",
    "    name.append(i.text)\n",
    "    \n",
    "name.insert(0,\"Natalia Sciver\")\n",
    "namewo=name[0:10]\n",
    "print(namewo,end=\"\")"
   ]
  },
  {
   "cell_type": "code",
   "execution_count": 79,
   "id": "f14a9882",
   "metadata": {},
   "outputs": [
    {
     "data": {
      "text/plain": [
       "['ENG', 'AUS', 'SA', 'WI', 'NZ', 'AUS', 'IND', 'AUS', 'ENG', 'IND']"
      ]
     },
     "execution_count": 79,
     "metadata": {},
     "output_type": "execute_result"
    }
   ],
   "source": [
    "team=[]\n",
    "\n",
    "for i in soup6b.find_all('span',class_=\"table-body__logo-text\"):\n",
    "    team.append(i.text)\n",
    "    \n",
    "team.insert(0,'ENG')\n",
    "teamwo=team[0:10]\n",
    "teamwo"
   ]
  },
  {
   "cell_type": "code",
   "execution_count": 80,
   "id": "48de6eaf",
   "metadata": {},
   "outputs": [
    {
     "data": {
      "text/plain": [
       "[393, '374', '359', '338', '335', '269', '249', '245', '221', '217']"
      ]
     },
     "execution_count": 80,
     "metadata": {},
     "output_type": "execute_result"
    }
   ],
   "source": [
    "rating=[]\n",
    "\n",
    "for i in soup6b.find_all('td',class_=\"table-body__cell rating\"):\n",
    "    rating.append(i.text)\n",
    "    \n",
    "rating.insert(0,393)\n",
    "ratingwo=rating[0:10]\n",
    "ratingwo"
   ]
  },
  {
   "cell_type": "code",
   "execution_count": 81,
   "id": "851cf738",
   "metadata": {},
   "outputs": [],
   "source": [
    "all_ro_wo=pd.DataFrame({'Name':namewo,'Team':teamwo,'Rating':ratingwo})"
   ]
  },
  {
   "cell_type": "code",
   "execution_count": 82,
   "id": "76781270",
   "metadata": {},
   "outputs": [],
   "source": [
    "all_ro_wo['Name']=[x.strip(\"\\n\") for x in all_ro_wo[\"Name\"]]"
   ]
  },
  {
   "cell_type": "code",
   "execution_count": 83,
   "id": "3894a2b0",
   "metadata": {},
   "outputs": [
    {
     "data": {
      "text/html": [
       "<div>\n",
       "<style scoped>\n",
       "    .dataframe tbody tr th:only-of-type {\n",
       "        vertical-align: middle;\n",
       "    }\n",
       "\n",
       "    .dataframe tbody tr th {\n",
       "        vertical-align: top;\n",
       "    }\n",
       "\n",
       "    .dataframe thead th {\n",
       "        text-align: right;\n",
       "    }\n",
       "</style>\n",
       "<table border=\"1\" class=\"dataframe\">\n",
       "  <thead>\n",
       "    <tr style=\"text-align: right;\">\n",
       "      <th></th>\n",
       "      <th>Name</th>\n",
       "      <th>Team</th>\n",
       "      <th>Rating</th>\n",
       "    </tr>\n",
       "  </thead>\n",
       "  <tbody>\n",
       "    <tr>\n",
       "      <th>0</th>\n",
       "      <td>Natalia Sciver</td>\n",
       "      <td>ENG</td>\n",
       "      <td>393</td>\n",
       "    </tr>\n",
       "    <tr>\n",
       "      <th>1</th>\n",
       "      <td>Ellyse Perry</td>\n",
       "      <td>AUS</td>\n",
       "      <td>374</td>\n",
       "    </tr>\n",
       "    <tr>\n",
       "      <th>2</th>\n",
       "      <td>Marizanne Kapp</td>\n",
       "      <td>SA</td>\n",
       "      <td>359</td>\n",
       "    </tr>\n",
       "    <tr>\n",
       "      <th>3</th>\n",
       "      <td>Hayley Matthews</td>\n",
       "      <td>WI</td>\n",
       "      <td>338</td>\n",
       "    </tr>\n",
       "    <tr>\n",
       "      <th>4</th>\n",
       "      <td>Amelia Kerr</td>\n",
       "      <td>NZ</td>\n",
       "      <td>335</td>\n",
       "    </tr>\n",
       "    <tr>\n",
       "      <th>5</th>\n",
       "      <td>Ashleigh Gardner</td>\n",
       "      <td>AUS</td>\n",
       "      <td>269</td>\n",
       "    </tr>\n",
       "    <tr>\n",
       "      <th>6</th>\n",
       "      <td>Deepti Sharma</td>\n",
       "      <td>IND</td>\n",
       "      <td>249</td>\n",
       "    </tr>\n",
       "    <tr>\n",
       "      <th>7</th>\n",
       "      <td>Jess Jonassen</td>\n",
       "      <td>AUS</td>\n",
       "      <td>245</td>\n",
       "    </tr>\n",
       "    <tr>\n",
       "      <th>8</th>\n",
       "      <td>Katherine Brunt</td>\n",
       "      <td>ENG</td>\n",
       "      <td>221</td>\n",
       "    </tr>\n",
       "    <tr>\n",
       "      <th>9</th>\n",
       "      <td>Jhulan Goswami</td>\n",
       "      <td>IND</td>\n",
       "      <td>217</td>\n",
       "    </tr>\n",
       "  </tbody>\n",
       "</table>\n",
       "</div>"
      ],
      "text/plain": [
       "               Name Team Rating\n",
       "0    Natalia Sciver  ENG    393\n",
       "1      Ellyse Perry  AUS    374\n",
       "2    Marizanne Kapp   SA    359\n",
       "3   Hayley Matthews   WI    338\n",
       "4       Amelia Kerr   NZ    335\n",
       "5  Ashleigh Gardner  AUS    269\n",
       "6     Deepti Sharma  IND    249\n",
       "7     Jess Jonassen  AUS    245\n",
       "8   Katherine Brunt  ENG    221\n",
       "9    Jhulan Goswami  IND    217"
      ]
     },
     "execution_count": 83,
     "metadata": {},
     "output_type": "execute_result"
    }
   ],
   "source": [
    "all_ro_wo"
   ]
  },
  {
   "cell_type": "markdown",
   "id": "de8af0bb",
   "metadata": {},
   "source": [
    "# 7) Write a python program to scrape details of all the posts from coreyms.com. Scrape the heading, date, content and the code for the video from the link for the youtube video from the post."
   ]
  },
  {
   "cell_type": "code",
   "execution_count": 84,
   "id": "3e55b50b",
   "metadata": {},
   "outputs": [],
   "source": [
    "import pandas as pd\n",
    "import requests\n",
    "from bs4 import BeautifulSoup"
   ]
  },
  {
   "cell_type": "code",
   "execution_count": 85,
   "id": "96d72203",
   "metadata": {},
   "outputs": [
    {
     "data": {
      "text/plain": [
       "<Response [200]>"
      ]
     },
     "execution_count": 85,
     "metadata": {},
     "output_type": "execute_result"
    }
   ],
   "source": [
    "page7=requests.get(\"https://coreyms.com/\")\n",
    "page7"
   ]
  },
  {
   "cell_type": "code",
   "execution_count": 86,
   "id": "88d50941",
   "metadata": {},
   "outputs": [],
   "source": [
    "soup7=BeautifulSoup(page7.content)"
   ]
  },
  {
   "cell_type": "code",
   "execution_count": 87,
   "id": "108c9b53",
   "metadata": {},
   "outputs": [
    {
     "data": {
      "text/plain": [
       "['Python Tutorial: Zip Files – Creating and Extracting Zip Archives',\n",
       " 'Python Data Science Tutorial: Analyzing the 2019 Stack Overflow Developer Survey',\n",
       " 'Python Multiprocessing Tutorial: Run Code in Parallel Using the Multiprocessing Module',\n",
       " 'Python Threading Tutorial: Run Code Concurrently Using the Threading Module',\n",
       " 'Update (2019-09-03)',\n",
       " 'Python Quick Tip: The Difference Between “==” and “is” (Equality vs Identity)',\n",
       " 'Python Tutorial: Calling External Commands Using the Subprocess Module',\n",
       " 'Visual Studio Code (Windows) – Setting up a Python Development Environment and Complete Overview',\n",
       " 'Visual Studio Code (Mac) – Setting up a Python Development Environment and Complete Overview',\n",
       " 'Clarifying the Issues with Mutable Default Arguments']"
      ]
     },
     "execution_count": 87,
     "metadata": {},
     "output_type": "execute_result"
    }
   ],
   "source": [
    "heading=[]\n",
    "\n",
    "for i in soup7.find_all(\"a\",class_='entry-title-link'):\n",
    "    heading.append(i.text)\n",
    "heading    "
   ]
  },
  {
   "cell_type": "code",
   "execution_count": 88,
   "id": "b6d82e4f",
   "metadata": {},
   "outputs": [
    {
     "name": "stdout",
     "output_type": "stream",
     "text": [
      "['November 19, 2019', 'October 17, 2019', 'September 21, 2019', 'September 12, 2019', 'September 3, 2019', 'August 6, 2019', 'July 24, 2019', 'May 1, 2019', 'May 1, 2019', 'April 24, 2019']"
     ]
    }
   ],
   "source": [
    "date=[]\n",
    "\n",
    "for i in soup7.find_all('time',class_=\"entry-time\"):\n",
    "    date.append(i.text)\n",
    "print(date,end=\"\")    \n",
    "    "
   ]
  },
  {
   "cell_type": "code",
   "execution_count": 89,
   "id": "1189729a",
   "metadata": {
    "scrolled": true
   },
   "outputs": [],
   "source": [
    "content=[]\n",
    "\n",
    "for i in soup7.find_all('div',class_=\"entry-content\"):\n",
    "    content.append(i.text)   "
   ]
  },
  {
   "cell_type": "code",
   "execution_count": 90,
   "id": "a5c9ed69",
   "metadata": {},
   "outputs": [],
   "source": [
    "code=[]\n",
    "link=[]\n",
    "\n",
    "for i in soup7.find_all('div',class_=\"entry-content\"):\n",
    "    if i.find('span',class_=\"embed-youtube\") !=None:\n",
    "        code.append(i.find('span',class_=\"embed-youtube\").find('iframe'))\n",
    "        link.append(i.find('span',class_=\"embed-youtube\").find('iframe')['src'])\n",
    "else:\n",
    "    code.append(\"NA\")\n",
    "    link.append('NA')"
   ]
  },
  {
   "cell_type": "code",
   "execution_count": 91,
   "id": "13ee558d",
   "metadata": {},
   "outputs": [],
   "source": [
    "coreyms=pd.DataFrame({\"Heading\":heading,\"Date\":date,\"Content\":content,\"Code\":code,\"Link\":link})"
   ]
  },
  {
   "cell_type": "code",
   "execution_count": 92,
   "id": "34825a4d",
   "metadata": {},
   "outputs": [],
   "source": [
    "coreyms['Content']=[x.strip(\"\\n\") for x in coreyms['Content']]"
   ]
  },
  {
   "cell_type": "code",
   "execution_count": 93,
   "id": "116a7f5e",
   "metadata": {},
   "outputs": [
    {
     "data": {
      "text/html": [
       "<div>\n",
       "<style scoped>\n",
       "    .dataframe tbody tr th:only-of-type {\n",
       "        vertical-align: middle;\n",
       "    }\n",
       "\n",
       "    .dataframe tbody tr th {\n",
       "        vertical-align: top;\n",
       "    }\n",
       "\n",
       "    .dataframe thead th {\n",
       "        text-align: right;\n",
       "    }\n",
       "</style>\n",
       "<table border=\"1\" class=\"dataframe\">\n",
       "  <thead>\n",
       "    <tr style=\"text-align: right;\">\n",
       "      <th></th>\n",
       "      <th>Heading</th>\n",
       "      <th>Date</th>\n",
       "      <th>Content</th>\n",
       "      <th>Code</th>\n",
       "      <th>Link</th>\n",
       "    </tr>\n",
       "  </thead>\n",
       "  <tbody>\n",
       "    <tr>\n",
       "      <th>0</th>\n",
       "      <td>Python Tutorial: Zip Files – Creating and Extr...</td>\n",
       "      <td>November 19, 2019</td>\n",
       "      <td>In this video, we will be learning how to crea...</td>\n",
       "      <td>[]</td>\n",
       "      <td>https://www.youtube.com/embed/z0gguhEmWiY?vers...</td>\n",
       "    </tr>\n",
       "    <tr>\n",
       "      <th>1</th>\n",
       "      <td>Python Data Science Tutorial: Analyzing the 20...</td>\n",
       "      <td>October 17, 2019</td>\n",
       "      <td>In this Python Programming video, we will be l...</td>\n",
       "      <td>[]</td>\n",
       "      <td>https://www.youtube.com/embed/_P7X8tMplsw?vers...</td>\n",
       "    </tr>\n",
       "    <tr>\n",
       "      <th>2</th>\n",
       "      <td>Python Multiprocessing Tutorial: Run Code in P...</td>\n",
       "      <td>September 21, 2019</td>\n",
       "      <td>In this Python Programming video, we will be l...</td>\n",
       "      <td>[]</td>\n",
       "      <td>https://www.youtube.com/embed/fKl2JW_qrso?vers...</td>\n",
       "    </tr>\n",
       "    <tr>\n",
       "      <th>3</th>\n",
       "      <td>Python Threading Tutorial: Run Code Concurrent...</td>\n",
       "      <td>September 12, 2019</td>\n",
       "      <td>In this Python Programming video, we will be l...</td>\n",
       "      <td>[]</td>\n",
       "      <td>https://www.youtube.com/embed/IEEhzQoKtQU?vers...</td>\n",
       "    </tr>\n",
       "    <tr>\n",
       "      <th>4</th>\n",
       "      <td>Update (2019-09-03)</td>\n",
       "      <td>September 3, 2019</td>\n",
       "      <td>Hey everyone. I wanted to give you an update o...</td>\n",
       "      <td>[]</td>\n",
       "      <td>https://www.youtube.com/embed/mO_dS3rXDIs?vers...</td>\n",
       "    </tr>\n",
       "    <tr>\n",
       "      <th>5</th>\n",
       "      <td>Python Quick Tip: The Difference Between “==” ...</td>\n",
       "      <td>August 6, 2019</td>\n",
       "      <td>In this Python Programming Tutorial, we will b...</td>\n",
       "      <td>[]</td>\n",
       "      <td>https://www.youtube.com/embed/2Fp1N6dof0Y?vers...</td>\n",
       "    </tr>\n",
       "    <tr>\n",
       "      <th>6</th>\n",
       "      <td>Python Tutorial: Calling External Commands Usi...</td>\n",
       "      <td>July 24, 2019</td>\n",
       "      <td>In this Python Programming Tutorial, we will b...</td>\n",
       "      <td>[]</td>\n",
       "      <td>https://www.youtube.com/embed/-nh9rCzPJ20?vers...</td>\n",
       "    </tr>\n",
       "    <tr>\n",
       "      <th>7</th>\n",
       "      <td>Visual Studio Code (Windows) – Setting up a Py...</td>\n",
       "      <td>May 1, 2019</td>\n",
       "      <td>In this Python Programming Tutorial, we will b...</td>\n",
       "      <td>[]</td>\n",
       "      <td>https://www.youtube.com/embed/06I63_p-2A4?vers...</td>\n",
       "    </tr>\n",
       "    <tr>\n",
       "      <th>8</th>\n",
       "      <td>Visual Studio Code (Mac) – Setting up a Python...</td>\n",
       "      <td>May 1, 2019</td>\n",
       "      <td>In this Python Programming Tutorial, we will b...</td>\n",
       "      <td>[]</td>\n",
       "      <td>https://www.youtube.com/embed/_JGmemuINww?vers...</td>\n",
       "    </tr>\n",
       "    <tr>\n",
       "      <th>9</th>\n",
       "      <td>Clarifying the Issues with Mutable Default Arg...</td>\n",
       "      <td>April 24, 2019</td>\n",
       "      <td>In this Python Programming Tutorial, we will b...</td>\n",
       "      <td>NA</td>\n",
       "      <td>NA</td>\n",
       "    </tr>\n",
       "  </tbody>\n",
       "</table>\n",
       "</div>"
      ],
      "text/plain": [
       "                                             Heading                Date  \\\n",
       "0  Python Tutorial: Zip Files – Creating and Extr...   November 19, 2019   \n",
       "1  Python Data Science Tutorial: Analyzing the 20...    October 17, 2019   \n",
       "2  Python Multiprocessing Tutorial: Run Code in P...  September 21, 2019   \n",
       "3  Python Threading Tutorial: Run Code Concurrent...  September 12, 2019   \n",
       "4                                Update (2019-09-03)   September 3, 2019   \n",
       "5  Python Quick Tip: The Difference Between “==” ...      August 6, 2019   \n",
       "6  Python Tutorial: Calling External Commands Usi...       July 24, 2019   \n",
       "7  Visual Studio Code (Windows) – Setting up a Py...         May 1, 2019   \n",
       "8  Visual Studio Code (Mac) – Setting up a Python...         May 1, 2019   \n",
       "9  Clarifying the Issues with Mutable Default Arg...      April 24, 2019   \n",
       "\n",
       "                                             Content Code  \\\n",
       "0  In this video, we will be learning how to crea...   []   \n",
       "1  In this Python Programming video, we will be l...   []   \n",
       "2  In this Python Programming video, we will be l...   []   \n",
       "3  In this Python Programming video, we will be l...   []   \n",
       "4  Hey everyone. I wanted to give you an update o...   []   \n",
       "5  In this Python Programming Tutorial, we will b...   []   \n",
       "6  In this Python Programming Tutorial, we will b...   []   \n",
       "7  In this Python Programming Tutorial, we will b...   []   \n",
       "8  In this Python Programming Tutorial, we will b...   []   \n",
       "9  In this Python Programming Tutorial, we will b...   NA   \n",
       "\n",
       "                                                Link  \n",
       "0  https://www.youtube.com/embed/z0gguhEmWiY?vers...  \n",
       "1  https://www.youtube.com/embed/_P7X8tMplsw?vers...  \n",
       "2  https://www.youtube.com/embed/fKl2JW_qrso?vers...  \n",
       "3  https://www.youtube.com/embed/IEEhzQoKtQU?vers...  \n",
       "4  https://www.youtube.com/embed/mO_dS3rXDIs?vers...  \n",
       "5  https://www.youtube.com/embed/2Fp1N6dof0Y?vers...  \n",
       "6  https://www.youtube.com/embed/-nh9rCzPJ20?vers...  \n",
       "7  https://www.youtube.com/embed/06I63_p-2A4?vers...  \n",
       "8  https://www.youtube.com/embed/_JGmemuINww?vers...  \n",
       "9                                                 NA  "
      ]
     },
     "execution_count": 93,
     "metadata": {},
     "output_type": "execute_result"
    }
   ],
   "source": [
    "coreyms"
   ]
  },
  {
   "cell_type": "code",
   "execution_count": 94,
   "id": "f266649b",
   "metadata": {},
   "outputs": [
    {
     "data": {
      "text/plain": [
       "<iframe allowfullscreen=\"true\" class=\"youtube-player\" height=\"360\" sandbox=\"allow-scripts allow-same-origin allow-popups allow-presentation\" src=\"https://www.youtube.com/embed/z0gguhEmWiY?version=3&amp;rel=1&amp;showsearch=0&amp;showinfo=1&amp;iv_load_policy=1&amp;fs=1&amp;hl=en-US&amp;autohide=2&amp;wmode=transparent\" style=\"border:0;\" width=\"640\"></iframe>"
      ]
     },
     "execution_count": 94,
     "metadata": {},
     "output_type": "execute_result"
    }
   ],
   "source": [
    "coreyms['Code'][0]"
   ]
  },
  {
   "cell_type": "markdown",
   "id": "d3a524eb",
   "metadata": {},
   "source": [
    "# 8) Write a python program to scrape house details from mentioned URL. It should include house title, location,area, EMI and price from https://www.nobroker.in/ .Enter three localities which are Indira Nagar, Jayanagar, Rajaji Nagar.\n",
    "\n"
   ]
  },
  {
   "cell_type": "code",
   "execution_count": 95,
   "id": "f5977b70",
   "metadata": {},
   "outputs": [],
   "source": [
    "import pandas as pd\n",
    "import requests\n",
    "from bs4 import BeautifulSoup"
   ]
  },
  {
   "cell_type": "code",
   "execution_count": 98,
   "id": "15414edc",
   "metadata": {},
   "outputs": [],
   "source": [
    "# Here we are taking three URL, besouse we have to grape 3 localities data,\n",
    "# when we are taking only one URL the page is showing us 3 localities data as well as other localities data,\n",
    "# that why we are choosing this way for focusing only 3 localities."
   ]
  },
  {
   "cell_type": "code",
   "execution_count": 99,
   "id": "cd25b18e",
   "metadata": {},
   "outputs": [
    {
     "name": "stdout",
     "output_type": "stream",
     "text": [
      "<Response [200]>\n",
      "<Response [200]>\n",
      "<Response [200]>\n"
     ]
    }
   ],
   "source": [
    "page8=requests.get(\"https://www.nobroker.in/property/sale/bangalore/Indiranagar?searchParam=W3sibGF0IjoxMi45NzgzNjkyLCJsb24iOjc3LjY0MDgzNTYsInBsYWNlSWQiOiJDaElKa1FOM0dLUVdyanNSTmhCUUpyaEdEN1UiLCJwbGFjZU5hbWUiOiJJbmRpcmFuYWdhciJ9XQ==&radius=2.0&city=bangalore&locality=Indiranagar&propType=IH\")\n",
    "page8A=requests.get(\"https://www.nobroker.in/property/sale/bangalore/Jayanagar?searchParam=W3sibGF0IjoxMi45MzA3NzM1LCJsb24iOjc3LjU4MzgzMDIsInBsYWNlSWQiOiJDaElKMmRkbFo1Z1ZyanNSaDFCT0FhZi1vcnMiLCJwbGFjZU5hbWUiOiJKYXlhbmFnYXIifV0=&radius=2.0&city=bangalore&locality=Jayanagar&propType=IH\")\n",
    "page8B=requests.get(\"https://www.nobroker.in/property/sale/bangalore/Rajajinagar?searchParam=W3sibGF0IjoxMi45OTgxNzMyLCJsb24iOjc3LjU1MzA0NDU5OTk5OTk5LCJwbGFjZUlkIjoiQ2hJSnhmVzREUE05cmpzUktzTlRHLTVwX1FRIiwicGxhY2VOYW1lIjoiUmFqYWppbmFnYXIiLCJzaG93TWFwIjpmYWxzZX1d&radius=2.0&city=bangalore&locality=Rajajinagar&propType=IH\")\n",
    "print(page8)\n",
    "print(page8A)\n",
    "print(page8B)"
   ]
  },
  {
   "cell_type": "code",
   "execution_count": 100,
   "id": "1d3021ea",
   "metadata": {},
   "outputs": [],
   "source": [
    "soup8=BeautifulSoup(page8.content)\n",
    "soup8A=BeautifulSoup(page8A.content)\n",
    "soup8B=BeautifulSoup(page8B.content)"
   ]
  },
  {
   "cell_type": "code",
   "execution_count": 101,
   "id": "abcc35b1",
   "metadata": {},
   "outputs": [],
   "source": [
    "Inht=[]\n",
    "Jnht=[]\n",
    "Rnht=[]\n",
    "for i in soup8.find_all(\"span\",class_=\"overflow-hidden overflow-ellipsis whitespace-nowrap max-w-80pe po:max-w-full\"):\n",
    "    Inht.append(i.text)\n",
    "for i in soup8A.find_all(\"span\",class_=\"overflow-hidden overflow-ellipsis whitespace-nowrap max-w-80pe po:max-w-full\"):\n",
    "    Jnht.append(i.text)    \n",
    "for i in soup8B.find_all(\"span\",class_=\"overflow-hidden overflow-ellipsis whitespace-nowrap max-w-80pe po:max-w-full\"):\n",
    "    Rnht.append(i.text)      "
   ]
  },
  {
   "cell_type": "code",
   "execution_count": 102,
   "id": "27cef0e3",
   "metadata": {},
   "outputs": [],
   "source": [
    "Inarea=[]\n",
    "Jnarea=[]\n",
    "Rnarea=[]\n",
    "\n",
    "for i in soup8.find_all('div',class_=\"mt-0.5p overflow-hidden overflow-ellipsis whitespace-nowrap max-w-70 text-gray-light leading-4 po:mb-0 po:max-w-95\"):\n",
    "    Inarea.append(i.text)\n",
    "for i in soup8A.find_all('span',class_='overflow-hidden overflow-ellipsis whitespace-nowrap max-w-80pe po:max-w-full'):\n",
    "    Jnarea.append(i.text)\n",
    "for i in soup8B.find_all('div',class_=\"mt-0.5p overflow-hidden overflow-ellipsis whitespace-nowrap max-w-70 text-gray-light leading-4 po:mb-0 po:max-w-95\"):\n",
    "    Rnarea.append(i.text)"
   ]
  },
  {
   "cell_type": "code",
   "execution_count": 103,
   "id": "0337a8f6",
   "metadata": {},
   "outputs": [],
   "source": [
    "Inemi=[]\n",
    "Jnemi=[]\n",
    "Rnemi=[]\n",
    "\n",
    "for i in soup8.find_all('div',class_=\"font-semi-bold heading-6\"):\n",
    "    Inemi.append(i.text)\n",
    "for i in soup8A.find_all('div',class_=\"font-semi-bold heading-6\"):\n",
    "     Jnemi.append(i.text)\n",
    "for i in soup8B.find_all('div',class_=\"font-semi-bold heading-6\"):\n",
    "     Rnemi.append(i.text)"
   ]
  },
  {
   "cell_type": "code",
   "execution_count": 104,
   "id": "ef0734a4",
   "metadata": {},
   "outputs": [],
   "source": [
    "housetle=Inht+Jnht+Rnht\n",
    "area=Inarea+Jnarea+Rnarea\n",
    "emi1=Inemi[1::3]\n",
    "emi2=Jnemi[1::3]\n",
    "emi3=Rnemi[1::3]\n",
    "emi=emi1+emi2+emi3\n",
    "\n",
    "price1=Inemi[2::3]\n",
    "price2=Jnemi[2::3]\n",
    "price3=Rnemi[2::3]\n",
    "price=price1+price2+price3"
   ]
  },
  {
   "cell_type": "code",
   "execution_count": 105,
   "id": "3282db72",
   "metadata": {},
   "outputs": [],
   "source": [
    "Location=[]\n",
    "\n",
    "for i in range(0,72):\n",
    "    Location.append('Bangalore_Karnataka')"
   ]
  },
  {
   "cell_type": "code",
   "execution_count": 106,
   "id": "38386a23",
   "metadata": {},
   "outputs": [
    {
     "data": {
      "text/html": [
       "<div>\n",
       "<style scoped>\n",
       "    .dataframe tbody tr th:only-of-type {\n",
       "        vertical-align: middle;\n",
       "    }\n",
       "\n",
       "    .dataframe tbody tr th {\n",
       "        vertical-align: top;\n",
       "    }\n",
       "\n",
       "    .dataframe thead th {\n",
       "        text-align: right;\n",
       "    }\n",
       "</style>\n",
       "<table border=\"1\" class=\"dataframe\">\n",
       "  <thead>\n",
       "    <tr style=\"text-align: right;\">\n",
       "      <th></th>\n",
       "      <th>House_Title</th>\n",
       "      <th>Location</th>\n",
       "      <th>Area</th>\n",
       "      <th>Emi</th>\n",
       "      <th>Price</th>\n",
       "    </tr>\n",
       "  </thead>\n",
       "  <tbody>\n",
       "    <tr>\n",
       "      <th>0</th>\n",
       "      <td>4 BHK In Independent House  For Sale  In Indir...</td>\n",
       "      <td>Bangalore_Karnataka</td>\n",
       "      <td>Independent House, 2nd stage ,9th cross</td>\n",
       "      <td>₹1.69 Lacs/Month</td>\n",
       "      <td>₹2.95 Crores</td>\n",
       "    </tr>\n",
       "    <tr>\n",
       "      <th>1</th>\n",
       "      <td>4+ BHK In Independent House  For Sale  In Laks...</td>\n",
       "      <td>Bangalore_Karnataka</td>\n",
       "      <td>Independent House, CMH Rd , Near B P Bakery</td>\n",
       "      <td>₹63,045/Month</td>\n",
       "      <td>₹1.1 Crores</td>\n",
       "    </tr>\n",
       "    <tr>\n",
       "      <th>2</th>\n",
       "      <td>4+ BHK In Independent House  For Sale  In Indi...</td>\n",
       "      <td>Bangalore_Karnataka</td>\n",
       "      <td>Independent House,   8th cross, Near kaveri sc...</td>\n",
       "      <td>₹2.06 Lacs/Month</td>\n",
       "      <td>₹3.6 Crores</td>\n",
       "    </tr>\n",
       "    <tr>\n",
       "      <th>3</th>\n",
       "      <td>4 BHK In Independent House  For Sale  In Indir...</td>\n",
       "      <td>Bangalore_Karnataka</td>\n",
       "      <td>Independent House, Binnamangala,  near to Chai...</td>\n",
       "      <td>₹4.13 Lacs/Month</td>\n",
       "      <td>₹7.2 Crores</td>\n",
       "    </tr>\n",
       "    <tr>\n",
       "      <th>4</th>\n",
       "      <td>4+ BHK In Independent House  For Sale  In Indi...</td>\n",
       "      <td>Bangalore_Karnataka</td>\n",
       "      <td>17C Cross, Indiranagar Stage 2,Bangalore 56003...</td>\n",
       "      <td>₹2.46 Lacs/Month</td>\n",
       "      <td>₹4.3 Crores</td>\n",
       "    </tr>\n",
       "    <tr>\n",
       "      <th>...</th>\n",
       "      <td>...</td>\n",
       "      <td>...</td>\n",
       "      <td>...</td>\n",
       "      <td>...</td>\n",
       "      <td>...</td>\n",
       "    </tr>\n",
       "    <tr>\n",
       "      <th>67</th>\n",
       "      <td>4 BHK In Independent House  For Sale  In Rajaj...</td>\n",
       "      <td>Bangalore_Karnataka</td>\n",
       "      <td>Independent House, Bandireddy Circle Lakshmina...</td>\n",
       "      <td>₹1.58 Lacs/Month</td>\n",
       "      <td>₹2.75 Crores</td>\n",
       "    </tr>\n",
       "    <tr>\n",
       "      <th>68</th>\n",
       "      <td>3 BHK In Independent House  For Sale  In Ramch...</td>\n",
       "      <td>Bangalore_Karnataka</td>\n",
       "      <td>Independent House, 9th Main Rd Dayananda Nagar...</td>\n",
       "      <td>₹43,559/Month</td>\n",
       "      <td>₹76 Lacs</td>\n",
       "    </tr>\n",
       "    <tr>\n",
       "      <th>69</th>\n",
       "      <td>1 RK In Independent House  For Sale  In Basave...</td>\n",
       "      <td>Bangalore_Karnataka</td>\n",
       "      <td>Independent House, Modi hospital Junction Dr M...</td>\n",
       "      <td>₹45,851/Month</td>\n",
       "      <td>₹80 Lacs</td>\n",
       "    </tr>\n",
       "    <tr>\n",
       "      <th>70</th>\n",
       "      <td>2 BHK In Independent House  For Sale  In Rajaj...</td>\n",
       "      <td>Bangalore_Karnataka</td>\n",
       "      <td>Independent House, 80 Feet Rd, 6th Block Near ...</td>\n",
       "      <td>₹48,717/Month</td>\n",
       "      <td>₹85 Lacs</td>\n",
       "    </tr>\n",
       "    <tr>\n",
       "      <th>71</th>\n",
       "      <td>4+ BHK In Independent House  For Sale  In  Bas...</td>\n",
       "      <td>Bangalore_Karnataka</td>\n",
       "      <td>Independent House, 1st Stage, 2nd Phase Chord ...</td>\n",
       "      <td>₹1.13 Lacs/Month</td>\n",
       "      <td>₹1.97 Crores</td>\n",
       "    </tr>\n",
       "  </tbody>\n",
       "</table>\n",
       "<p>72 rows × 5 columns</p>\n",
       "</div>"
      ],
      "text/plain": [
       "                                          House_Title             Location  \\\n",
       "0   4 BHK In Independent House  For Sale  In Indir...  Bangalore_Karnataka   \n",
       "1   4+ BHK In Independent House  For Sale  In Laks...  Bangalore_Karnataka   \n",
       "2   4+ BHK In Independent House  For Sale  In Indi...  Bangalore_Karnataka   \n",
       "3   4 BHK In Independent House  For Sale  In Indir...  Bangalore_Karnataka   \n",
       "4   4+ BHK In Independent House  For Sale  In Indi...  Bangalore_Karnataka   \n",
       "..                                                ...                  ...   \n",
       "67  4 BHK In Independent House  For Sale  In Rajaj...  Bangalore_Karnataka   \n",
       "68  3 BHK In Independent House  For Sale  In Ramch...  Bangalore_Karnataka   \n",
       "69  1 RK In Independent House  For Sale  In Basave...  Bangalore_Karnataka   \n",
       "70  2 BHK In Independent House  For Sale  In Rajaj...  Bangalore_Karnataka   \n",
       "71  4+ BHK In Independent House  For Sale  In  Bas...  Bangalore_Karnataka   \n",
       "\n",
       "                                                 Area               Emi  \\\n",
       "0             Independent House, 2nd stage ,9th cross  ₹1.69 Lacs/Month   \n",
       "1         Independent House, CMH Rd , Near B P Bakery     ₹63,045/Month   \n",
       "2   Independent House,   8th cross, Near kaveri sc...  ₹2.06 Lacs/Month   \n",
       "3   Independent House, Binnamangala,  near to Chai...  ₹4.13 Lacs/Month   \n",
       "4   17C Cross, Indiranagar Stage 2,Bangalore 56003...  ₹2.46 Lacs/Month   \n",
       "..                                                ...               ...   \n",
       "67  Independent House, Bandireddy Circle Lakshmina...  ₹1.58 Lacs/Month   \n",
       "68  Independent House, 9th Main Rd Dayananda Nagar...     ₹43,559/Month   \n",
       "69  Independent House, Modi hospital Junction Dr M...     ₹45,851/Month   \n",
       "70  Independent House, 80 Feet Rd, 6th Block Near ...     ₹48,717/Month   \n",
       "71  Independent House, 1st Stage, 2nd Phase Chord ...  ₹1.13 Lacs/Month   \n",
       "\n",
       "           Price  \n",
       "0   ₹2.95 Crores  \n",
       "1    ₹1.1 Crores  \n",
       "2    ₹3.6 Crores  \n",
       "3    ₹7.2 Crores  \n",
       "4    ₹4.3 Crores  \n",
       "..           ...  \n",
       "67  ₹2.75 Crores  \n",
       "68      ₹76 Lacs  \n",
       "69      ₹80 Lacs  \n",
       "70      ₹85 Lacs  \n",
       "71  ₹1.97 Crores  \n",
       "\n",
       "[72 rows x 5 columns]"
      ]
     },
     "execution_count": 106,
     "metadata": {},
     "output_type": "execute_result"
    }
   ],
   "source": [
    "Nobroker=pd.DataFrame({'House_Title':housetle,\"Location\":Location,'Area':area,'Emi':emi,'Price':price})\n",
    "Nobroker"
   ]
  },
  {
   "cell_type": "markdown",
   "id": "d4a23b47",
   "metadata": {},
   "source": [
    "# 9) Write a python program to scrape mentioned details from dineout.co.in :\n",
    "i) Restaurant name\n",
    "ii) Cuisine\n",
    "iii) Location\n",
    "iv) Ratings\n",
    "v) Image URL"
   ]
  },
  {
   "cell_type": "code",
   "execution_count": 107,
   "id": "15aa1500",
   "metadata": {},
   "outputs": [],
   "source": [
    "import pandas as pd\n",
    "import requests\n",
    "from bs4 import BeautifulSoup"
   ]
  },
  {
   "cell_type": "code",
   "execution_count": 108,
   "id": "60a96127",
   "metadata": {},
   "outputs": [
    {
     "data": {
      "text/plain": [
       "<Response [200]>"
      ]
     },
     "execution_count": 108,
     "metadata": {},
     "output_type": "execute_result"
    }
   ],
   "source": [
    "page9=requests.get(\"https://www.dineout.co.in/delhi-restaurants/welcome-back\")\n",
    "page9"
   ]
  },
  {
   "cell_type": "code",
   "execution_count": 109,
   "id": "722ef52a",
   "metadata": {},
   "outputs": [],
   "source": [
    "soup9=BeautifulSoup(page9.content)"
   ]
  },
  {
   "cell_type": "code",
   "execution_count": 110,
   "id": "9fb0ab2b",
   "metadata": {},
   "outputs": [
    {
     "name": "stdout",
     "output_type": "stream",
     "text": [
      "['Tamasha', 'Local', 'Unplugged Courtyard', 'The G.T. ROAD', 'Ministry Of Beer', 'Connaught Clubhouse Microbrewery', \"Chili's American Grill and Bar\", 'Warehouse Cafe', 'The Junkyard Cafe', 'QBA', 'Openhouse Cafe', 'Lord of the Drinks', 'High 5 - Everyday Wholesale Bar', \"Berco's\", 'Sandoz', 'Farzi Cafe', 'The Imperial Spice', '38 Barracks', 'Chido', 'My Bar Square', 'Ardor 2.1 Restaurant and Lounge']"
     ]
    }
   ],
   "source": [
    "name=[]\n",
    "\n",
    "for i in soup9.find_all('a',class_=\"restnt-name ellipsis\"):\n",
    "    name.append(i.text)\n",
    "print(name,end=\"\")    "
   ]
  },
  {
   "cell_type": "code",
   "execution_count": 111,
   "id": "db37caa6",
   "metadata": {},
   "outputs": [],
   "source": [
    "loc=[]\n",
    "\n",
    "for i in soup9.find_all('div',class_=\"restnt-loc ellipsis\"):\n",
    "    loc.append(i.text)   "
   ]
  },
  {
   "cell_type": "code",
   "execution_count": 112,
   "id": "d51ef4e6",
   "metadata": {},
   "outputs": [
    {
     "data": {
      "text/plain": [
       "['₹ 2,000 for 2 (approx) | Continental, Asian, Italian, North Indian',\n",
       " '₹ 2,000 for 2 (approx) | North Indian, Asian, Continental',\n",
       " '₹ 3,300 for 2 (approx) | North Indian, Italian, Chinese, Turkish, Continental',\n",
       " '₹ 1,400 for 2 (approx) | North Indian',\n",
       " '₹ 3,000 for 2 (approx) | North Indian, Continental, American, Asian',\n",
       " '₹ 1,600 for 2 (approx) | North Indian, Italian, Asian, European',\n",
       " '₹ 2,000 for 2 (approx) | Mexican, American, Tex Mex',\n",
       " '₹ 2,500 for 2 (approx) | North Indian, Chinese, Italian',\n",
       " '₹ 2,100 for 2 (approx) | North Indian, Continental, Chinese, Fast Food',\n",
       " '₹ 2,100 for 2 (approx) | North Indian, Continental, Italian',\n",
       " '₹ 2,000 for 2 (approx) | North Indian, Asian, Italian',\n",
       " '₹ 2,500 for 2 (approx) | Chinese, North Indian, Fast Food',\n",
       " '₹ 1,700 for 2 (approx) | North Indian, Continental, Chinese',\n",
       " '₹ 1,300 for 2 (approx) | Chinese',\n",
       " '₹ 1,400 for 2 (approx) | North Indian, Chinese, Continental',\n",
       " '₹ 2,000 for 2 (approx) | Modern Indian, Continental, Finger Food',\n",
       " '₹ 3,000 for 2 (approx) | North Indian, Continental, Mughlai',\n",
       " '₹ 2,700 for 2 (approx) | North Indian, Chinese, Continental',\n",
       " '₹ 1,800 for 2 (approx) | North Indian, Italian, Continental, Asian, Finger Food',\n",
       " '₹ 2,000 for 2 (approx) | Finger Food, Chinese, Continental, Italian',\n",
       " '₹ 2,000 for 2 (approx) | North Indian, Chinese, Italian, Continental']"
      ]
     },
     "execution_count": 112,
     "metadata": {},
     "output_type": "execute_result"
    }
   ],
   "source": [
    "cu=[]\n",
    "\n",
    "for i in soup9.find_all('span',class_=\"double-line-ellipsis\"):\n",
    "    cu.append(i.text)\n",
    "cu    "
   ]
  },
  {
   "cell_type": "code",
   "execution_count": 113,
   "id": "080f03d0",
   "metadata": {},
   "outputs": [
    {
     "data": {
      "text/plain": [
       "['Continental, Asian, Italian, North Indian',\n",
       " 'North Indian, Asian, Continental',\n",
       " 'North Indian, Italian, Chinese, Turkish, Continental',\n",
       " 'North Indian',\n",
       " 'North Indian, Continental, American, Asian',\n",
       " 'North Indian, Italian, Asian, European',\n",
       " 'Mexican, American, Tex Mex',\n",
       " 'North Indian, Chinese, Italian',\n",
       " 'North Indian, Continental, Chinese, Fast Food',\n",
       " 'North Indian, Continental, Italian',\n",
       " 'North Indian, Asian, Italian',\n",
       " 'Chinese, North Indian, Fast Food',\n",
       " 'North Indian, Continental, Chinese',\n",
       " 'Chinese',\n",
       " 'North Indian, Chinese, Continental',\n",
       " 'Modern Indian, Continental, Finger Food',\n",
       " 'North Indian, Continental, Mughlai',\n",
       " 'North Indian, Chinese, Continental',\n",
       " 'North Indian, Italian, Continental, Asian, Finger Food',\n",
       " 'Finger Food, Chinese, Continental, Italian',\n",
       " 'North Indian, Chinese, Italian, Continental']"
      ]
     },
     "execution_count": 113,
     "metadata": {},
     "output_type": "execute_result"
    }
   ],
   "source": [
    "n=0   # for removing price besouse question is demanding only cuisine.\n",
    "for i in cu:\n",
    "    cu[n]=cu[n][25:]\n",
    "    n=n+1\n",
    "cu"
   ]
  },
  {
   "cell_type": "code",
   "execution_count": 114,
   "id": "e7751dac",
   "metadata": {},
   "outputs": [
    {
     "name": "stdout",
     "output_type": "stream",
     "text": [
      "['4.2', '4', '4', '4.3', '4', '4.2', '4.3', '4.1', '4.1', '4.3', '4.1', '4.2', '3.9', '4.3', '4', '4.1', '4.4', '4.3', '4.2', '3.8', '3.8']"
     ]
    }
   ],
   "source": [
    "rating=[]\n",
    "\n",
    "for i in soup9.find_all('div',class_='restnt-rating rating-4'):\n",
    "    rating.append(i.text)\n",
    "    \n",
    "print(rating,end=\"\")    "
   ]
  },
  {
   "cell_type": "code",
   "execution_count": 115,
   "id": "dca7ad96",
   "metadata": {},
   "outputs": [],
   "source": [
    "images=[]\n",
    "for i in soup9.find_all(\"img\",class_=\"no-img\"):\n",
    "    images.append(i['data-src']) "
   ]
  },
  {
   "cell_type": "code",
   "execution_count": 116,
   "id": "43ba23b1",
   "metadata": {},
   "outputs": [
    {
     "data": {
      "text/html": [
       "<div>\n",
       "<style scoped>\n",
       "    .dataframe tbody tr th:only-of-type {\n",
       "        vertical-align: middle;\n",
       "    }\n",
       "\n",
       "    .dataframe tbody tr th {\n",
       "        vertical-align: top;\n",
       "    }\n",
       "\n",
       "    .dataframe thead th {\n",
       "        text-align: right;\n",
       "    }\n",
       "</style>\n",
       "<table border=\"1\" class=\"dataframe\">\n",
       "  <thead>\n",
       "    <tr style=\"text-align: right;\">\n",
       "      <th></th>\n",
       "      <th>Restaurant_name</th>\n",
       "      <th>Cuisine</th>\n",
       "      <th>Location</th>\n",
       "      <th>Rating</th>\n",
       "      <th>Image_URL</th>\n",
       "    </tr>\n",
       "  </thead>\n",
       "  <tbody>\n",
       "    <tr>\n",
       "      <th>0</th>\n",
       "      <td>Tamasha</td>\n",
       "      <td>Continental, Asian, Italian, North Indian</td>\n",
       "      <td>Connaught Place, Central Delhi</td>\n",
       "      <td>4.2</td>\n",
       "      <td>https://im1.dineout.co.in/images/uploads/resta...</td>\n",
       "    </tr>\n",
       "    <tr>\n",
       "      <th>1</th>\n",
       "      <td>Local</td>\n",
       "      <td>North Indian, Asian, Continental</td>\n",
       "      <td>Scindia House,Connaught Place, Central Delhi</td>\n",
       "      <td>4</td>\n",
       "      <td>https://im1.dineout.co.in/images/uploads/resta...</td>\n",
       "    </tr>\n",
       "    <tr>\n",
       "      <th>2</th>\n",
       "      <td>Unplugged Courtyard</td>\n",
       "      <td>North Indian, Italian, Chinese, Turkish, Conti...</td>\n",
       "      <td>Connaught Place, Central Delhi</td>\n",
       "      <td>4</td>\n",
       "      <td>https://im1.dineout.co.in/images/uploads/resta...</td>\n",
       "    </tr>\n",
       "    <tr>\n",
       "      <th>3</th>\n",
       "      <td>The G.T. ROAD</td>\n",
       "      <td>North Indian</td>\n",
       "      <td>M-Block,Connaught Place, Central Delhi</td>\n",
       "      <td>4.3</td>\n",
       "      <td>https://im1.dineout.co.in/images/uploads/resta...</td>\n",
       "    </tr>\n",
       "    <tr>\n",
       "      <th>4</th>\n",
       "      <td>Ministry Of Beer</td>\n",
       "      <td>North Indian, Continental, American, Asian</td>\n",
       "      <td>M-Block,Connaught Place, Central Delhi</td>\n",
       "      <td>4</td>\n",
       "      <td>https://im1.dineout.co.in/images/uploads/resta...</td>\n",
       "    </tr>\n",
       "    <tr>\n",
       "      <th>5</th>\n",
       "      <td>Connaught Clubhouse Microbrewery</td>\n",
       "      <td>North Indian, Italian, Asian, European</td>\n",
       "      <td>Connaught Place, Central Delhi</td>\n",
       "      <td>4.2</td>\n",
       "      <td>https://im1.dineout.co.in/images/uploads/resta...</td>\n",
       "    </tr>\n",
       "    <tr>\n",
       "      <th>6</th>\n",
       "      <td>Chili's American Grill and Bar</td>\n",
       "      <td>Mexican, American, Tex Mex</td>\n",
       "      <td>M-Block,Connaught Place, Central Delhi</td>\n",
       "      <td>4.3</td>\n",
       "      <td>https://im1.dineout.co.in/images/uploads/resta...</td>\n",
       "    </tr>\n",
       "    <tr>\n",
       "      <th>7</th>\n",
       "      <td>Warehouse Cafe</td>\n",
       "      <td>North Indian, Chinese, Italian</td>\n",
       "      <td>Connaught Place, Central Delhi</td>\n",
       "      <td>4.1</td>\n",
       "      <td>https://im1.dineout.co.in/images/uploads/resta...</td>\n",
       "    </tr>\n",
       "    <tr>\n",
       "      <th>8</th>\n",
       "      <td>The Junkyard Cafe</td>\n",
       "      <td>North Indian, Continental, Chinese, Fast Food</td>\n",
       "      <td>Connaught Place, Central Delhi</td>\n",
       "      <td>4.1</td>\n",
       "      <td>https://im1.dineout.co.in/images/uploads/resta...</td>\n",
       "    </tr>\n",
       "    <tr>\n",
       "      <th>9</th>\n",
       "      <td>QBA</td>\n",
       "      <td>North Indian, Continental, Italian</td>\n",
       "      <td>Connaught Place, Central Delhi</td>\n",
       "      <td>4.3</td>\n",
       "      <td>https://im1.dineout.co.in/images/uploads/resta...</td>\n",
       "    </tr>\n",
       "    <tr>\n",
       "      <th>10</th>\n",
       "      <td>Openhouse Cafe</td>\n",
       "      <td>North Indian, Asian, Italian</td>\n",
       "      <td>Connaught Place, Central Delhi</td>\n",
       "      <td>4.1</td>\n",
       "      <td>https://im1.dineout.co.in/images/uploads/resta...</td>\n",
       "    </tr>\n",
       "    <tr>\n",
       "      <th>11</th>\n",
       "      <td>Lord of the Drinks</td>\n",
       "      <td>Chinese, North Indian, Fast Food</td>\n",
       "      <td>Connaught Place, Central Delhi</td>\n",
       "      <td>4.2</td>\n",
       "      <td>https://im1.dineout.co.in/images/uploads/resta...</td>\n",
       "    </tr>\n",
       "    <tr>\n",
       "      <th>12</th>\n",
       "      <td>High 5 - Everyday Wholesale Bar</td>\n",
       "      <td>North Indian, Continental, Chinese</td>\n",
       "      <td>Connaught Place, Central Delhi</td>\n",
       "      <td>3.9</td>\n",
       "      <td>https://im1.dineout.co.in/images/uploads/resta...</td>\n",
       "    </tr>\n",
       "    <tr>\n",
       "      <th>13</th>\n",
       "      <td>Berco's</td>\n",
       "      <td>Chinese</td>\n",
       "      <td>Connaught Place, Central Delhi</td>\n",
       "      <td>4.3</td>\n",
       "      <td>https://im1.dineout.co.in/images/uploads/resta...</td>\n",
       "    </tr>\n",
       "    <tr>\n",
       "      <th>14</th>\n",
       "      <td>Sandoz</td>\n",
       "      <td>North Indian, Chinese, Continental</td>\n",
       "      <td>Connaught Place, Central Delhi</td>\n",
       "      <td>4</td>\n",
       "      <td>https://im1.dineout.co.in/images/uploads/resta...</td>\n",
       "    </tr>\n",
       "    <tr>\n",
       "      <th>15</th>\n",
       "      <td>Farzi Cafe</td>\n",
       "      <td>Modern Indian, Continental, Finger Food</td>\n",
       "      <td>Connaught Place, Central Delhi</td>\n",
       "      <td>4.1</td>\n",
       "      <td>https://im1.dineout.co.in/images/uploads/resta...</td>\n",
       "    </tr>\n",
       "    <tr>\n",
       "      <th>16</th>\n",
       "      <td>The Imperial Spice</td>\n",
       "      <td>North Indian, Continental, Mughlai</td>\n",
       "      <td>M-Block,Connaught Place, Central Delhi</td>\n",
       "      <td>4.4</td>\n",
       "      <td>https://im1.dineout.co.in/images/uploads/resta...</td>\n",
       "    </tr>\n",
       "    <tr>\n",
       "      <th>17</th>\n",
       "      <td>38 Barracks</td>\n",
       "      <td>North Indian, Chinese, Continental</td>\n",
       "      <td>M-Block,Connaught Place, Central Delhi</td>\n",
       "      <td>4.3</td>\n",
       "      <td>https://im1.dineout.co.in/images/uploads/resta...</td>\n",
       "    </tr>\n",
       "    <tr>\n",
       "      <th>18</th>\n",
       "      <td>Chido</td>\n",
       "      <td>North Indian, Italian, Continental, Asian, Fin...</td>\n",
       "      <td>Connaught Place, Central Delhi</td>\n",
       "      <td>4.2</td>\n",
       "      <td>https://im1.dineout.co.in/images/uploads/resta...</td>\n",
       "    </tr>\n",
       "    <tr>\n",
       "      <th>19</th>\n",
       "      <td>My Bar Square</td>\n",
       "      <td>Finger Food, Chinese, Continental, Italian</td>\n",
       "      <td>Connaught Place, Central Delhi</td>\n",
       "      <td>3.8</td>\n",
       "      <td>https://im1.dineout.co.in/images/uploads/resta...</td>\n",
       "    </tr>\n",
       "    <tr>\n",
       "      <th>20</th>\n",
       "      <td>Ardor 2.1 Restaurant and Lounge</td>\n",
       "      <td>North Indian, Chinese, Italian, Continental</td>\n",
       "      <td>Connaught Place, Central Delhi</td>\n",
       "      <td>3.8</td>\n",
       "      <td>https://im1.dineout.co.in/images/uploads/resta...</td>\n",
       "    </tr>\n",
       "  </tbody>\n",
       "</table>\n",
       "</div>"
      ],
      "text/plain": [
       "                     Restaurant_name  \\\n",
       "0                            Tamasha   \n",
       "1                              Local   \n",
       "2                Unplugged Courtyard   \n",
       "3                      The G.T. ROAD   \n",
       "4                   Ministry Of Beer   \n",
       "5   Connaught Clubhouse Microbrewery   \n",
       "6     Chili's American Grill and Bar   \n",
       "7                     Warehouse Cafe   \n",
       "8                  The Junkyard Cafe   \n",
       "9                                QBA   \n",
       "10                    Openhouse Cafe   \n",
       "11                Lord of the Drinks   \n",
       "12   High 5 - Everyday Wholesale Bar   \n",
       "13                           Berco's   \n",
       "14                            Sandoz   \n",
       "15                        Farzi Cafe   \n",
       "16                The Imperial Spice   \n",
       "17                       38 Barracks   \n",
       "18                             Chido   \n",
       "19                     My Bar Square   \n",
       "20   Ardor 2.1 Restaurant and Lounge   \n",
       "\n",
       "                                              Cuisine  \\\n",
       "0           Continental, Asian, Italian, North Indian   \n",
       "1                    North Indian, Asian, Continental   \n",
       "2   North Indian, Italian, Chinese, Turkish, Conti...   \n",
       "3                                        North Indian   \n",
       "4          North Indian, Continental, American, Asian   \n",
       "5              North Indian, Italian, Asian, European   \n",
       "6                          Mexican, American, Tex Mex   \n",
       "7                      North Indian, Chinese, Italian   \n",
       "8       North Indian, Continental, Chinese, Fast Food   \n",
       "9                  North Indian, Continental, Italian   \n",
       "10                       North Indian, Asian, Italian   \n",
       "11                   Chinese, North Indian, Fast Food   \n",
       "12                 North Indian, Continental, Chinese   \n",
       "13                                            Chinese   \n",
       "14                 North Indian, Chinese, Continental   \n",
       "15            Modern Indian, Continental, Finger Food   \n",
       "16                 North Indian, Continental, Mughlai   \n",
       "17                 North Indian, Chinese, Continental   \n",
       "18  North Indian, Italian, Continental, Asian, Fin...   \n",
       "19         Finger Food, Chinese, Continental, Italian   \n",
       "20        North Indian, Chinese, Italian, Continental   \n",
       "\n",
       "                                        Location Rating  \\\n",
       "0                 Connaught Place, Central Delhi    4.2   \n",
       "1   Scindia House,Connaught Place, Central Delhi      4   \n",
       "2                 Connaught Place, Central Delhi      4   \n",
       "3         M-Block,Connaught Place, Central Delhi    4.3   \n",
       "4         M-Block,Connaught Place, Central Delhi      4   \n",
       "5                 Connaught Place, Central Delhi    4.2   \n",
       "6         M-Block,Connaught Place, Central Delhi    4.3   \n",
       "7                 Connaught Place, Central Delhi    4.1   \n",
       "8                 Connaught Place, Central Delhi    4.1   \n",
       "9                 Connaught Place, Central Delhi    4.3   \n",
       "10                Connaught Place, Central Delhi    4.1   \n",
       "11                Connaught Place, Central Delhi    4.2   \n",
       "12                Connaught Place, Central Delhi    3.9   \n",
       "13                Connaught Place, Central Delhi    4.3   \n",
       "14                Connaught Place, Central Delhi      4   \n",
       "15                Connaught Place, Central Delhi    4.1   \n",
       "16        M-Block,Connaught Place, Central Delhi    4.4   \n",
       "17        M-Block,Connaught Place, Central Delhi    4.3   \n",
       "18                Connaught Place, Central Delhi    4.2   \n",
       "19                Connaught Place, Central Delhi    3.8   \n",
       "20                Connaught Place, Central Delhi    3.8   \n",
       "\n",
       "                                            Image_URL  \n",
       "0   https://im1.dineout.co.in/images/uploads/resta...  \n",
       "1   https://im1.dineout.co.in/images/uploads/resta...  \n",
       "2   https://im1.dineout.co.in/images/uploads/resta...  \n",
       "3   https://im1.dineout.co.in/images/uploads/resta...  \n",
       "4   https://im1.dineout.co.in/images/uploads/resta...  \n",
       "5   https://im1.dineout.co.in/images/uploads/resta...  \n",
       "6   https://im1.dineout.co.in/images/uploads/resta...  \n",
       "7   https://im1.dineout.co.in/images/uploads/resta...  \n",
       "8   https://im1.dineout.co.in/images/uploads/resta...  \n",
       "9   https://im1.dineout.co.in/images/uploads/resta...  \n",
       "10  https://im1.dineout.co.in/images/uploads/resta...  \n",
       "11  https://im1.dineout.co.in/images/uploads/resta...  \n",
       "12  https://im1.dineout.co.in/images/uploads/resta...  \n",
       "13  https://im1.dineout.co.in/images/uploads/resta...  \n",
       "14  https://im1.dineout.co.in/images/uploads/resta...  \n",
       "15  https://im1.dineout.co.in/images/uploads/resta...  \n",
       "16  https://im1.dineout.co.in/images/uploads/resta...  \n",
       "17  https://im1.dineout.co.in/images/uploads/resta...  \n",
       "18  https://im1.dineout.co.in/images/uploads/resta...  \n",
       "19  https://im1.dineout.co.in/images/uploads/resta...  \n",
       "20  https://im1.dineout.co.in/images/uploads/resta...  "
      ]
     },
     "execution_count": 116,
     "metadata": {},
     "output_type": "execute_result"
    }
   ],
   "source": [
    "dineout1=pd.DataFrame({\"Restaurant_name\":name,\"Cuisine\":cu,\"Location\":loc,\"Rating\":rating,\"Image_URL\":images})\n",
    "dineout1"
   ]
  },
  {
   "cell_type": "markdown",
   "id": "b74ccc39",
   "metadata": {},
   "source": [
    "# 10) Write a python program to scrape first 10 product details which include product name , price , Image URL from https://www.bewakoof.com/women-tshirts?ga_q=tshirts. \n"
   ]
  },
  {
   "cell_type": "code",
   "execution_count": 117,
   "id": "60842fbc",
   "metadata": {},
   "outputs": [],
   "source": [
    "import pandas as pd\n",
    "import requests\n",
    "from bs4 import BeautifulSoup"
   ]
  },
  {
   "cell_type": "code",
   "execution_count": 118,
   "id": "7d15eecd",
   "metadata": {},
   "outputs": [
    {
     "data": {
      "text/plain": [
       "<Response [200]>"
      ]
     },
     "execution_count": 118,
     "metadata": {},
     "output_type": "execute_result"
    }
   ],
   "source": [
    "page10=requests.get(\"https://www.bewakoof.com/women-clothing/category-t-shirt?sort=new\")\n",
    "page10"
   ]
  },
  {
   "cell_type": "code",
   "execution_count": 119,
   "id": "568b0917",
   "metadata": {},
   "outputs": [],
   "source": [
    "soup10=BeautifulSoup(page10.content)"
   ]
  },
  {
   "cell_type": "code",
   "execution_count": 120,
   "id": "185d23c0",
   "metadata": {},
   "outputs": [
    {
     "data": {
      "text/plain": [
       "[\"Women's Black Kolkata City Map Typography Boyfriend T-shirt₹ 599799₹549For TriBe Members \",\n",
       " \"Women's Black Mumbai City Typography Boyfriend T-shirt₹ 599799₹549For TriBe Members \",\n",
       " \"Women's Black Delhi City Boyfriend Typography T-shirt₹ 599799₹549For TriBe Members \",\n",
       " \"Women's Black Bangalore City Boyfriend Typography T-shirt₹ 599799₹549For TriBe Members \",\n",
       " \"Women's Black Khaint Jatti Boyfriend Typography T-shirt₹ 599799₹549For TriBe Members \",\n",
       " \"Women's White Balamciaga Boyfriend Graphic Print T-shirt₹ 599799₹549For TriBe Members \",\n",
       " \"Women's Black Balamciaga Boyfriend Graphic Print T-shirt₹ 599799₹549For TriBe Members \",\n",
       " \"Women's Black Chandigarh Boyfriend Typography T-shirt₹ 599799₹549For TriBe Members \",\n",
       " \"Women's White Slay Oversized Graphic Print T-shirt₹ 6991249₹639For TriBe Members \",\n",
       " \"Women's Purple Lounge T-shirt₹ 449699₹409For TriBe Members \"]"
      ]
     },
     "execution_count": 120,
     "metadata": {},
     "output_type": "execute_result"
    }
   ],
   "source": [
    "name=[]\n",
    "\n",
    "for i in soup10.find_all('div',class_=\"productCardDetail\"):\n",
    "    name.append(i.text)\n",
    "name    "
   ]
  },
  {
   "cell_type": "code",
   "execution_count": 121,
   "id": "03863fd3",
   "metadata": {},
   "outputs": [
    {
     "name": "stdout",
     "output_type": "stream",
     "text": [
      "['₹ 599', '₹ 599', '₹ 599', '₹ 599', '₹ 599', '₹ 599', '₹ 599', '₹ 599', '₹ 699', '₹ 449']"
     ]
    }
   ],
   "source": [
    "price=[]\n",
    "\n",
    "for i in soup10.find_all('span',class_=\"discountedPriceText\"):\n",
    "    price.append(i.text)\n",
    "    \n",
    "print(price,end=\"\")    "
   ]
  },
  {
   "cell_type": "code",
   "execution_count": 122,
   "id": "d2c25791",
   "metadata": {},
   "outputs": [
    {
     "data": {
      "text/plain": [
       "['https://images.bewakoof.com/t320/women-s-black-kolkata-city-map-boyfriend-t-shirt-472414-1650459068-1.jpg',\n",
       " 'https://images.bewakoof.com/t320/women-s-black-mumbai-city-boyfriend-t-shirt-472415-1650459117-1.jpg',\n",
       " 'https://images.bewakoof.com/t320/women-s-black-delhi-city-boyfriend-t-shirt-472406-1650458945-1.jpg',\n",
       " 'https://images.bewakoof.com/t320/women-s-black-bangalore-city-boyfriend-t-shirt-472409-1650459019-1.jpg',\n",
       " 'https://images.bewakoof.com/t320/women-s-black-khaint-jatti-boyfriend-t-shirt-472407-1650458994-1.jpg',\n",
       " 'https://images.bewakoof.com/t320/women-s-white-balamciaga-boyfriend-t-shirt-472422-1650458823-1.jpg',\n",
       " 'https://images.bewakoof.com/t320/women-s-black-balamciaga-boyfriend-t-shirt-472405-1650459044-1.jpg',\n",
       " 'https://images.bewakoof.com/t320/women-s-black-chandigarh-boyfriend-t-shirt-472408-1650459092-1.jpg',\n",
       " 'https://images.bewakoof.com/t320/women-s-white-slay-1-1-oversized-t-shirt-472538-1650458897-1.jpg',\n",
       " 'https://images.bewakoof.com/t320/lavender-solid-round-neck-lounge-t-shirt-420829-1639646081-1.jpg']"
      ]
     },
     "execution_count": 122,
     "metadata": {},
     "output_type": "execute_result"
    }
   ],
   "source": [
    "image=[]\n",
    "\n",
    "for i in soup10.find_all('img',class_=\"productImgTag\"):\n",
    "    image.append(i['src'])\n",
    "    \n",
    "image    "
   ]
  },
  {
   "cell_type": "code",
   "execution_count": 123,
   "id": "37f45526",
   "metadata": {},
   "outputs": [
    {
     "data": {
      "text/html": [
       "<div>\n",
       "<style scoped>\n",
       "    .dataframe tbody tr th:only-of-type {\n",
       "        vertical-align: middle;\n",
       "    }\n",
       "\n",
       "    .dataframe tbody tr th {\n",
       "        vertical-align: top;\n",
       "    }\n",
       "\n",
       "    .dataframe thead th {\n",
       "        text-align: right;\n",
       "    }\n",
       "</style>\n",
       "<table border=\"1\" class=\"dataframe\">\n",
       "  <thead>\n",
       "    <tr style=\"text-align: right;\">\n",
       "      <th></th>\n",
       "      <th>Product_name</th>\n",
       "      <th>price</th>\n",
       "      <th>Image_url</th>\n",
       "    </tr>\n",
       "  </thead>\n",
       "  <tbody>\n",
       "    <tr>\n",
       "      <th>0</th>\n",
       "      <td>Women's Black Kolkata City Map Typography Boyf...</td>\n",
       "      <td>₹ 599</td>\n",
       "      <td>https://images.bewakoof.com/t320/women-s-black...</td>\n",
       "    </tr>\n",
       "    <tr>\n",
       "      <th>1</th>\n",
       "      <td>Women's Black Mumbai City Typography Boyfriend...</td>\n",
       "      <td>₹ 599</td>\n",
       "      <td>https://images.bewakoof.com/t320/women-s-black...</td>\n",
       "    </tr>\n",
       "    <tr>\n",
       "      <th>2</th>\n",
       "      <td>Women's Black Delhi City Boyfriend Typography ...</td>\n",
       "      <td>₹ 599</td>\n",
       "      <td>https://images.bewakoof.com/t320/women-s-black...</td>\n",
       "    </tr>\n",
       "    <tr>\n",
       "      <th>3</th>\n",
       "      <td>Women's Black Bangalore City Boyfriend Typogra...</td>\n",
       "      <td>₹ 599</td>\n",
       "      <td>https://images.bewakoof.com/t320/women-s-black...</td>\n",
       "    </tr>\n",
       "    <tr>\n",
       "      <th>4</th>\n",
       "      <td>Women's Black Khaint Jatti Boyfriend Typograph...</td>\n",
       "      <td>₹ 599</td>\n",
       "      <td>https://images.bewakoof.com/t320/women-s-black...</td>\n",
       "    </tr>\n",
       "    <tr>\n",
       "      <th>5</th>\n",
       "      <td>Women's White Balamciaga Boyfriend Graphic Pri...</td>\n",
       "      <td>₹ 599</td>\n",
       "      <td>https://images.bewakoof.com/t320/women-s-white...</td>\n",
       "    </tr>\n",
       "    <tr>\n",
       "      <th>6</th>\n",
       "      <td>Women's Black Balamciaga Boyfriend Graphic Pri...</td>\n",
       "      <td>₹ 599</td>\n",
       "      <td>https://images.bewakoof.com/t320/women-s-black...</td>\n",
       "    </tr>\n",
       "    <tr>\n",
       "      <th>7</th>\n",
       "      <td>Women's Black Chandigarh Boyfriend Typography ...</td>\n",
       "      <td>₹ 599</td>\n",
       "      <td>https://images.bewakoof.com/t320/women-s-black...</td>\n",
       "    </tr>\n",
       "    <tr>\n",
       "      <th>8</th>\n",
       "      <td>Women's White Slay Oversized Graphic Print T-s...</td>\n",
       "      <td>₹ 699</td>\n",
       "      <td>https://images.bewakoof.com/t320/women-s-white...</td>\n",
       "    </tr>\n",
       "    <tr>\n",
       "      <th>9</th>\n",
       "      <td>Women's Purple Lounge T-shirt₹ 449699₹409For T...</td>\n",
       "      <td>₹ 449</td>\n",
       "      <td>https://images.bewakoof.com/t320/lavender-soli...</td>\n",
       "    </tr>\n",
       "  </tbody>\n",
       "</table>\n",
       "</div>"
      ],
      "text/plain": [
       "                                        Product_name  price  \\\n",
       "0  Women's Black Kolkata City Map Typography Boyf...  ₹ 599   \n",
       "1  Women's Black Mumbai City Typography Boyfriend...  ₹ 599   \n",
       "2  Women's Black Delhi City Boyfriend Typography ...  ₹ 599   \n",
       "3  Women's Black Bangalore City Boyfriend Typogra...  ₹ 599   \n",
       "4  Women's Black Khaint Jatti Boyfriend Typograph...  ₹ 599   \n",
       "5  Women's White Balamciaga Boyfriend Graphic Pri...  ₹ 599   \n",
       "6  Women's Black Balamciaga Boyfriend Graphic Pri...  ₹ 599   \n",
       "7  Women's Black Chandigarh Boyfriend Typography ...  ₹ 599   \n",
       "8  Women's White Slay Oversized Graphic Print T-s...  ₹ 699   \n",
       "9  Women's Purple Lounge T-shirt₹ 449699₹409For T...  ₹ 449   \n",
       "\n",
       "                                           Image_url  \n",
       "0  https://images.bewakoof.com/t320/women-s-black...  \n",
       "1  https://images.bewakoof.com/t320/women-s-black...  \n",
       "2  https://images.bewakoof.com/t320/women-s-black...  \n",
       "3  https://images.bewakoof.com/t320/women-s-black...  \n",
       "4  https://images.bewakoof.com/t320/women-s-black...  \n",
       "5  https://images.bewakoof.com/t320/women-s-white...  \n",
       "6  https://images.bewakoof.com/t320/women-s-black...  \n",
       "7  https://images.bewakoof.com/t320/women-s-black...  \n",
       "8  https://images.bewakoof.com/t320/women-s-white...  \n",
       "9  https://images.bewakoof.com/t320/lavender-soli...  "
      ]
     },
     "execution_count": 123,
     "metadata": {},
     "output_type": "execute_result"
    }
   ],
   "source": [
    "bewakoof=pd.DataFrame({\"Product_name\":name,\"price\":price,\"Image_url\":image})\n",
    "bewakoof"
   ]
  },
  {
   "cell_type": "markdown",
   "id": "8463620e",
   "metadata": {},
   "source": [
    "# 1) Write a python program to display all the header tags from wikipedia.org"
   ]
  },
  {
   "cell_type": "code",
   "execution_count": 124,
   "id": "c78bd1f3",
   "metadata": {},
   "outputs": [],
   "source": [
    "import pandas as pd\n",
    "from bs4 import BeautifulSoup\n",
    "import requests"
   ]
  },
  {
   "cell_type": "code",
   "execution_count": 125,
   "id": "c985fa9b",
   "metadata": {},
   "outputs": [
    {
     "data": {
      "text/plain": [
       "<Response [200]>"
      ]
     },
     "execution_count": 125,
     "metadata": {},
     "output_type": "execute_result"
    }
   ],
   "source": [
    "page=requests.get(\"https://en.wikipedia.org/wiki/Main_Page\")\n",
    "page"
   ]
  },
  {
   "cell_type": "code",
   "execution_count": 126,
   "id": "832d18ca",
   "metadata": {},
   "outputs": [],
   "source": [
    "soup=BeautifulSoup(page.content)"
   ]
  },
  {
   "cell_type": "code",
   "execution_count": 127,
   "id": "b57090f9",
   "metadata": {},
   "outputs": [
    {
     "name": "stdout",
     "output_type": "stream",
     "text": [
      "List of all the header tags :\n",
      "\n",
      "<h1 class=\"firstHeading mw-first-heading\" id=\"firstHeading\" style=\"display: none\">Main Page</h1>\n",
      "\n",
      "<h1><span class=\"mw-headline\" id=\"Welcome_to_Wikipedia\">Welcome to <a href=\"/wiki/Wikipedia\" title=\"Wikipedia\">Wikipedia</a></span></h1>\n",
      "\n",
      "<h2 class=\"mp-h2\" id=\"mp-tfa-h2\"><span id=\"From_today.27s_featured_article\"></span><span class=\"mw-headline\" id=\"From_today's_featured_article\">From today's featured article</span></h2>\n",
      "\n",
      "<h2 class=\"mp-h2\" id=\"mp-dyk-h2\"><span class=\"mw-headline\" id=\"Did_you_know_...\">Did you know ...</span></h2>\n",
      "\n",
      "<h2 class=\"mp-h2\" id=\"mp-itn-h2\"><span class=\"mw-headline\" id=\"In_the_news\">In the news</span></h2>\n",
      "\n",
      "<h2 class=\"mp-h2\" id=\"mp-otd-h2\"><span class=\"mw-headline\" id=\"On_this_day\">On this day</span></h2>\n",
      "\n",
      "<h2 class=\"mp-h2\" id=\"mp-tfl-h2\"><span id=\"From_today.27s_featured_list\"></span><span class=\"mw-headline\" id=\"From_today's_featured_list\">From today's featured list</span></h2>\n",
      "\n",
      "<h2 class=\"mp-h2\" id=\"mp-tfp-h2\"><span id=\"Today.27s_featured_picture\"></span><span class=\"mw-headline\" id=\"Today's_featured_picture\">Today's featured picture</span></h2>\n",
      "\n",
      "<h2 class=\"mp-h2\" id=\"mp-other\"><span class=\"mw-headline\" id=\"Other_areas_of_Wikipedia\">Other areas of Wikipedia</span></h2>\n",
      "\n",
      "<h2 class=\"mp-h2\" id=\"mp-sister\"><span id=\"Wikipedia.27s_sister_projects\"></span><span class=\"mw-headline\" id=\"Wikipedia's_sister_projects\">Wikipedia's sister projects</span></h2>\n",
      "\n",
      "<h2 class=\"mp-h2\" id=\"mp-lang\"><span class=\"mw-headline\" id=\"Wikipedia_languages\">Wikipedia languages</span></h2>\n",
      "\n",
      "<h2>Navigation menu</h2>\n",
      "\n",
      "<h3>\n",
      "<label for=\"searchInput\">Search</label>\n",
      "</h3>\n"
     ]
    }
   ],
   "source": [
    "header=soup.find_all(['h1','h2','h3','h4','h5','h6'])\n",
    "print(\"List of all the header tags :\",*header,sep='\\n\\n')"
   ]
  },
  {
   "cell_type": "code",
   "execution_count": null,
   "id": "ab636586",
   "metadata": {},
   "outputs": [],
   "source": []
  }
 ],
 "metadata": {
  "kernelspec": {
   "display_name": "Python 3 (ipykernel)",
   "language": "python",
   "name": "python3"
  },
  "language_info": {
   "codemirror_mode": {
    "name": "ipython",
    "version": 3
   },
   "file_extension": ".py",
   "mimetype": "text/x-python",
   "name": "python",
   "nbconvert_exporter": "python",
   "pygments_lexer": "ipython3",
   "version": "3.9.7"
  }
 },
 "nbformat": 4,
 "nbformat_minor": 5
}
